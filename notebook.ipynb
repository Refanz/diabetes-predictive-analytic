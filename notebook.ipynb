{
 "cells": [
  {
   "cell_type": "markdown",
   "id": "ac091506345a0494",
   "metadata": {},
   "source": [
    "# **Proyek Prediksi Analitik: [Diabetes]**"
   ]
  },
  {
   "cell_type": "markdown",
   "id": "e120dde578162ec6",
   "metadata": {},
   "source": [
    "## **Import Library**\n",
    "\n",
    "- Pandas: untuk manipulasi dan analisis data\n",
    "- Numpy: untuk komputasi numerik\n",
    "- Seaborn: untuk visualisasi data statistik\n",
    "- Matplotlib: untuk visualisasi data\n",
    "- Scikit-learn (sklearn): untuk machine learning"
   ]
  },
  {
   "cell_type": "code",
   "id": "29299f030828a8bd",
   "metadata": {
    "ExecuteTime": {
     "end_time": "2025-06-16T15:53:25.535147Z",
     "start_time": "2025-06-16T15:53:25.168520Z"
    }
   },
   "source": [
    "# Melakukan import library\n",
    "from collections import Counter\n",
    "\n",
    "import matplotlib.pyplot as plt\n",
    "import numpy as np\n",
    "import pandas as pd\n",
    "import seaborn as sns\n",
    "from imblearn.over_sampling import SMOTE\n",
    "from sklearn.decomposition import PCA\n",
    "from sklearn.ensemble import RandomForestClassifier, RandomForestRegressor\n",
    "from sklearn.experimental import enable_iterative_imputer\n",
    "from sklearn.impute import IterativeImputer\n",
    "from sklearn.linear_model import LogisticRegression\n",
    "from sklearn.metrics import accuracy_score, confusion_matrix, f1_score, precision_score, recall_score\n",
    "from sklearn.model_selection import GridSearchCV, train_test_split\n",
    "from sklearn.neighbors import KNeighborsClassifier\n",
    "from sklearn.preprocessing import MinMaxScaler"
   ],
   "outputs": [],
   "execution_count": 2
  },
  {
   "cell_type": "markdown",
   "id": "a8622c72e5ee6ede",
   "metadata": {},
   "source": [
    "## **Loading Data**\n",
    "\n",
    "Melakukan load dataset dari lokal menggunakan fungsi read_csv dari library pandas"
   ]
  },
  {
   "cell_type": "code",
   "id": "343978283a07b842",
   "metadata": {
    "ExecuteTime": {
     "end_time": "2025-06-16T15:53:25.574941Z",
     "start_time": "2025-06-16T15:53:25.555570Z"
    }
   },
   "source": [
    "# Membaca berkas CSV\n",
    "diabetes_df = pd.read_csv(\"data/diabetes-dataset.csv\")\n",
    "diabetes_df.head()"
   ],
   "outputs": [
    {
     "data": {
      "text/plain": [
       "   Pregnancies  Glucose  BloodPressure  SkinThickness  Insulin   BMI  \\\n",
       "0            6      148             72             35        0  33.6   \n",
       "1            1       85             66             29        0  26.6   \n",
       "2            8      183             64              0        0  23.3   \n",
       "3            1       89             66             23       94  28.1   \n",
       "4            0      137             40             35      168  43.1   \n",
       "\n",
       "   DiabetesPedigreeFunction  Age  Outcome  \n",
       "0                     0.627   50        1  \n",
       "1                     0.351   31        0  \n",
       "2                     0.672   32        1  \n",
       "3                     0.167   21        0  \n",
       "4                     2.288   33        1  "
      ],
      "text/html": [
       "<div>\n",
       "<style scoped>\n",
       "    .dataframe tbody tr th:only-of-type {\n",
       "        vertical-align: middle;\n",
       "    }\n",
       "\n",
       "    .dataframe tbody tr th {\n",
       "        vertical-align: top;\n",
       "    }\n",
       "\n",
       "    .dataframe thead th {\n",
       "        text-align: right;\n",
       "    }\n",
       "</style>\n",
       "<table border=\"1\" class=\"dataframe\">\n",
       "  <thead>\n",
       "    <tr style=\"text-align: right;\">\n",
       "      <th></th>\n",
       "      <th>Pregnancies</th>\n",
       "      <th>Glucose</th>\n",
       "      <th>BloodPressure</th>\n",
       "      <th>SkinThickness</th>\n",
       "      <th>Insulin</th>\n",
       "      <th>BMI</th>\n",
       "      <th>DiabetesPedigreeFunction</th>\n",
       "      <th>Age</th>\n",
       "      <th>Outcome</th>\n",
       "    </tr>\n",
       "  </thead>\n",
       "  <tbody>\n",
       "    <tr>\n",
       "      <th>0</th>\n",
       "      <td>6</td>\n",
       "      <td>148</td>\n",
       "      <td>72</td>\n",
       "      <td>35</td>\n",
       "      <td>0</td>\n",
       "      <td>33.6</td>\n",
       "      <td>0.627</td>\n",
       "      <td>50</td>\n",
       "      <td>1</td>\n",
       "    </tr>\n",
       "    <tr>\n",
       "      <th>1</th>\n",
       "      <td>1</td>\n",
       "      <td>85</td>\n",
       "      <td>66</td>\n",
       "      <td>29</td>\n",
       "      <td>0</td>\n",
       "      <td>26.6</td>\n",
       "      <td>0.351</td>\n",
       "      <td>31</td>\n",
       "      <td>0</td>\n",
       "    </tr>\n",
       "    <tr>\n",
       "      <th>2</th>\n",
       "      <td>8</td>\n",
       "      <td>183</td>\n",
       "      <td>64</td>\n",
       "      <td>0</td>\n",
       "      <td>0</td>\n",
       "      <td>23.3</td>\n",
       "      <td>0.672</td>\n",
       "      <td>32</td>\n",
       "      <td>1</td>\n",
       "    </tr>\n",
       "    <tr>\n",
       "      <th>3</th>\n",
       "      <td>1</td>\n",
       "      <td>89</td>\n",
       "      <td>66</td>\n",
       "      <td>23</td>\n",
       "      <td>94</td>\n",
       "      <td>28.1</td>\n",
       "      <td>0.167</td>\n",
       "      <td>21</td>\n",
       "      <td>0</td>\n",
       "    </tr>\n",
       "    <tr>\n",
       "      <th>4</th>\n",
       "      <td>0</td>\n",
       "      <td>137</td>\n",
       "      <td>40</td>\n",
       "      <td>35</td>\n",
       "      <td>168</td>\n",
       "      <td>43.1</td>\n",
       "      <td>2.288</td>\n",
       "      <td>33</td>\n",
       "      <td>1</td>\n",
       "    </tr>\n",
       "  </tbody>\n",
       "</table>\n",
       "</div>"
      ]
     },
     "execution_count": 3,
     "metadata": {},
     "output_type": "execute_result"
    }
   ],
   "execution_count": 3
  },
  {
   "metadata": {},
   "cell_type": "markdown",
   "source": [
    "**Insight:**\n",
    "- Terdapat dataset kondisi fisiologis pada wanita yang digunakan untuk memprediksi apakah kondisi tersebut berisiko diabetes atau tidak\n",
    "- Dalam dataset ini terdapat 9 kolom yaitu Pregnancies, Glucose, BloodPressure, SkinThickness, Insulin, BMI, DiabetesPedigreeFunction, Age dan Outcome (label/kelas)\n",
    "- Untuk label pada dataset ini adalah binary yaitu 1 menandakan berisiko diabetes dan 0 non-diabetes\n"
   ],
   "id": "9f8b13b14d2af155"
  },
  {
   "cell_type": "markdown",
   "id": "64e9dc88b3e83735",
   "metadata": {},
   "source": [
    "## **Exploratory Data Analysis (EDA)**"
   ]
  },
  {
   "cell_type": "markdown",
   "id": "d633875a",
   "metadata": {},
   "source": [
    "**Mendapatkan informasi dari dataset dengan fungsi info()**"
   ]
  },
  {
   "cell_type": "code",
   "id": "3b2e2f1edf72ab3a",
   "metadata": {
    "ExecuteTime": {
     "end_time": "2025-06-16T15:53:25.779806Z",
     "start_time": "2025-06-16T15:53:25.772889Z"
    }
   },
   "source": [
    "# Mendapatkan informasi dari dataset\n",
    "diabetes_df.info()"
   ],
   "outputs": [
    {
     "name": "stdout",
     "output_type": "stream",
     "text": [
      "<class 'pandas.core.frame.DataFrame'>\n",
      "RangeIndex: 768 entries, 0 to 767\n",
      "Data columns (total 9 columns):\n",
      " #   Column                    Non-Null Count  Dtype  \n",
      "---  ------                    --------------  -----  \n",
      " 0   Pregnancies               768 non-null    int64  \n",
      " 1   Glucose                   768 non-null    int64  \n",
      " 2   BloodPressure             768 non-null    int64  \n",
      " 3   SkinThickness             768 non-null    int64  \n",
      " 4   Insulin                   768 non-null    int64  \n",
      " 5   BMI                       768 non-null    float64\n",
      " 6   DiabetesPedigreeFunction  768 non-null    float64\n",
      " 7   Age                       768 non-null    int64  \n",
      " 8   Outcome                   768 non-null    int64  \n",
      "dtypes: float64(2), int64(7)\n",
      "memory usage: 54.1 KB\n"
     ]
    }
   ],
   "execution_count": 4
  },
  {
   "metadata": {},
   "cell_type": "markdown",
   "source": [
    "**Insight:**\n",
    "- Pada dataset ini terdiri dari 768 baris dan 9 kolom\n",
    "- Tidak terlihat ada data yang hilang dalam dataset ini\n",
    "- Untuk kolom Pregnancies, Glucose, BloodPressure, SkinThickness, Insulin, Age dan Outcome memiliki tipe data int64\n",
    "- Untuk kolom BMI dan DiabetesPedigreeFunction memiliki tipe data float64\n",
    "- Keseluruhan dataset ini menggunakan memori sekitar 54.1 KB"
   ],
   "id": "1a9fefcac6e55dac"
  },
  {
   "cell_type": "markdown",
   "id": "a9a81ab5",
   "metadata": {},
   "source": [
    "**Melihat deskripsi statistik dari dataset menggunakan fungsi describe()**"
   ]
  },
  {
   "cell_type": "code",
   "id": "665cc5ee63e20c5a",
   "metadata": {
    "ExecuteTime": {
     "end_time": "2025-06-16T15:53:25.988587Z",
     "start_time": "2025-06-16T15:53:25.952111Z"
    }
   },
   "source": [
    "diabetes_df.describe()"
   ],
   "outputs": [
    {
     "data": {
      "text/plain": [
       "       Pregnancies     Glucose  BloodPressure  SkinThickness     Insulin  \\\n",
       "count   768.000000  768.000000     768.000000     768.000000  768.000000   \n",
       "mean      3.845052  120.894531      69.105469      20.536458   79.799479   \n",
       "std       3.369578   31.972618      19.355807      15.952218  115.244002   \n",
       "min       0.000000    0.000000       0.000000       0.000000    0.000000   \n",
       "25%       1.000000   99.000000      62.000000       0.000000    0.000000   \n",
       "50%       3.000000  117.000000      72.000000      23.000000   30.500000   \n",
       "75%       6.000000  140.250000      80.000000      32.000000  127.250000   \n",
       "max      17.000000  199.000000     122.000000      99.000000  846.000000   \n",
       "\n",
       "              BMI  DiabetesPedigreeFunction         Age     Outcome  \n",
       "count  768.000000                768.000000  768.000000  768.000000  \n",
       "mean    31.992578                  0.471876   33.240885    0.348958  \n",
       "std      7.884160                  0.331329   11.760232    0.476951  \n",
       "min      0.000000                  0.078000   21.000000    0.000000  \n",
       "25%     27.300000                  0.243750   24.000000    0.000000  \n",
       "50%     32.000000                  0.372500   29.000000    0.000000  \n",
       "75%     36.600000                  0.626250   41.000000    1.000000  \n",
       "max     67.100000                  2.420000   81.000000    1.000000  "
      ],
      "text/html": [
       "<div>\n",
       "<style scoped>\n",
       "    .dataframe tbody tr th:only-of-type {\n",
       "        vertical-align: middle;\n",
       "    }\n",
       "\n",
       "    .dataframe tbody tr th {\n",
       "        vertical-align: top;\n",
       "    }\n",
       "\n",
       "    .dataframe thead th {\n",
       "        text-align: right;\n",
       "    }\n",
       "</style>\n",
       "<table border=\"1\" class=\"dataframe\">\n",
       "  <thead>\n",
       "    <tr style=\"text-align: right;\">\n",
       "      <th></th>\n",
       "      <th>Pregnancies</th>\n",
       "      <th>Glucose</th>\n",
       "      <th>BloodPressure</th>\n",
       "      <th>SkinThickness</th>\n",
       "      <th>Insulin</th>\n",
       "      <th>BMI</th>\n",
       "      <th>DiabetesPedigreeFunction</th>\n",
       "      <th>Age</th>\n",
       "      <th>Outcome</th>\n",
       "    </tr>\n",
       "  </thead>\n",
       "  <tbody>\n",
       "    <tr>\n",
       "      <th>count</th>\n",
       "      <td>768.000000</td>\n",
       "      <td>768.000000</td>\n",
       "      <td>768.000000</td>\n",
       "      <td>768.000000</td>\n",
       "      <td>768.000000</td>\n",
       "      <td>768.000000</td>\n",
       "      <td>768.000000</td>\n",
       "      <td>768.000000</td>\n",
       "      <td>768.000000</td>\n",
       "    </tr>\n",
       "    <tr>\n",
       "      <th>mean</th>\n",
       "      <td>3.845052</td>\n",
       "      <td>120.894531</td>\n",
       "      <td>69.105469</td>\n",
       "      <td>20.536458</td>\n",
       "      <td>79.799479</td>\n",
       "      <td>31.992578</td>\n",
       "      <td>0.471876</td>\n",
       "      <td>33.240885</td>\n",
       "      <td>0.348958</td>\n",
       "    </tr>\n",
       "    <tr>\n",
       "      <th>std</th>\n",
       "      <td>3.369578</td>\n",
       "      <td>31.972618</td>\n",
       "      <td>19.355807</td>\n",
       "      <td>15.952218</td>\n",
       "      <td>115.244002</td>\n",
       "      <td>7.884160</td>\n",
       "      <td>0.331329</td>\n",
       "      <td>11.760232</td>\n",
       "      <td>0.476951</td>\n",
       "    </tr>\n",
       "    <tr>\n",
       "      <th>min</th>\n",
       "      <td>0.000000</td>\n",
       "      <td>0.000000</td>\n",
       "      <td>0.000000</td>\n",
       "      <td>0.000000</td>\n",
       "      <td>0.000000</td>\n",
       "      <td>0.000000</td>\n",
       "      <td>0.078000</td>\n",
       "      <td>21.000000</td>\n",
       "      <td>0.000000</td>\n",
       "    </tr>\n",
       "    <tr>\n",
       "      <th>25%</th>\n",
       "      <td>1.000000</td>\n",
       "      <td>99.000000</td>\n",
       "      <td>62.000000</td>\n",
       "      <td>0.000000</td>\n",
       "      <td>0.000000</td>\n",
       "      <td>27.300000</td>\n",
       "      <td>0.243750</td>\n",
       "      <td>24.000000</td>\n",
       "      <td>0.000000</td>\n",
       "    </tr>\n",
       "    <tr>\n",
       "      <th>50%</th>\n",
       "      <td>3.000000</td>\n",
       "      <td>117.000000</td>\n",
       "      <td>72.000000</td>\n",
       "      <td>23.000000</td>\n",
       "      <td>30.500000</td>\n",
       "      <td>32.000000</td>\n",
       "      <td>0.372500</td>\n",
       "      <td>29.000000</td>\n",
       "      <td>0.000000</td>\n",
       "    </tr>\n",
       "    <tr>\n",
       "      <th>75%</th>\n",
       "      <td>6.000000</td>\n",
       "      <td>140.250000</td>\n",
       "      <td>80.000000</td>\n",
       "      <td>32.000000</td>\n",
       "      <td>127.250000</td>\n",
       "      <td>36.600000</td>\n",
       "      <td>0.626250</td>\n",
       "      <td>41.000000</td>\n",
       "      <td>1.000000</td>\n",
       "    </tr>\n",
       "    <tr>\n",
       "      <th>max</th>\n",
       "      <td>17.000000</td>\n",
       "      <td>199.000000</td>\n",
       "      <td>122.000000</td>\n",
       "      <td>99.000000</td>\n",
       "      <td>846.000000</td>\n",
       "      <td>67.100000</td>\n",
       "      <td>2.420000</td>\n",
       "      <td>81.000000</td>\n",
       "      <td>1.000000</td>\n",
       "    </tr>\n",
       "  </tbody>\n",
       "</table>\n",
       "</div>"
      ]
     },
     "execution_count": 5,
     "metadata": {},
     "output_type": "execute_result"
    }
   ],
   "execution_count": 5
  },
  {
   "metadata": {},
   "cell_type": "markdown",
   "source": [
    "**Insight:**\n",
    "- Semua kolom memiliki 768 data\n",
    "- Pada kolom Pregancies, Glucose, BloodPressure, SkinThickness, Insulin dan BMI untuk nilai terendahnya adalah 0. Nilai 0 untuk kolom ini tidak logis untuk suatu kondisi fisiologis pada manusia dan perlu ditangani saat tahapan Data Preparation."
   ],
   "id": "6758109086b329f8"
  },
  {
   "cell_type": "markdown",
   "id": "eb89fac0",
   "metadata": {},
   "source": [
    "**Mengecek apakah ada nilai kosong dengan fungsi isna()**"
   ]
  },
  {
   "cell_type": "code",
   "id": "71ba9a60e456ec02",
   "metadata": {
    "ExecuteTime": {
     "end_time": "2025-06-16T15:53:26.248518Z",
     "start_time": "2025-06-16T15:53:26.242787Z"
    }
   },
   "source": [
    "# Mengecek apakah ada data yang kosong\n",
    "diabetes_df.isna().sum()"
   ],
   "outputs": [
    {
     "data": {
      "text/plain": [
       "Pregnancies                 0\n",
       "Glucose                     0\n",
       "BloodPressure               0\n",
       "SkinThickness               0\n",
       "Insulin                     0\n",
       "BMI                         0\n",
       "DiabetesPedigreeFunction    0\n",
       "Age                         0\n",
       "Outcome                     0\n",
       "dtype: int64"
      ]
     },
     "execution_count": 6,
     "metadata": {},
     "output_type": "execute_result"
    }
   ],
   "execution_count": 6
  },
  {
   "metadata": {},
   "cell_type": "markdown",
   "source": [
    "**Insight:**\n",
    "\n",
    "Menggunakan fungsi isna() untuk mengecek apakah dalam dataset terdapat nilai NaN atau missing value. Terlihat pada tabel di atas untuk semua kolom tidak terdapat missing value."
   ],
   "id": "1e23a59617505d98"
  },
  {
   "cell_type": "markdown",
   "id": "850e8cd4",
   "metadata": {},
   "source": [
    "**Mengecek apakah ada data yang duplikat pada dataset dengan fungsi duplicated()**"
   ]
  },
  {
   "cell_type": "code",
   "id": "a3d06c58fe1b48c2",
   "metadata": {
    "ExecuteTime": {
     "end_time": "2025-06-16T15:53:26.556521Z",
     "start_time": "2025-06-16T15:53:26.549276Z"
    }
   },
   "source": [
    "# Menghitung jumlah duplikasi data\n",
    "print(\"Jumlah duplikasi:\", diabetes_df.duplicated().sum())"
   ],
   "outputs": [
    {
     "name": "stdout",
     "output_type": "stream",
     "text": [
      "Jumlah duplikasi: 0\n"
     ]
    }
   ],
   "execution_count": 7
  },
  {
   "metadata": {},
   "cell_type": "markdown",
   "source": [
    "**Insight:**\n",
    "\n",
    "Menggunakan fungsi duplicated() untuk mengecek apakah ada data duplikasi dalam dataset. Terlihat output di atas hasilnya adalah 0, ini menandakan tidak ada data duplikasi."
   ],
   "id": "92d2fb8a59cfbfe3"
  },
  {
   "cell_type": "markdown",
   "id": "5b50fc36",
   "metadata": {},
   "source": "**Mendapatkan kolom yang memiliki nilai 0**"
  },
  {
   "cell_type": "code",
   "id": "aa45a77f1d080658",
   "metadata": {
    "ExecuteTime": {
     "end_time": "2025-06-16T15:53:26.947199Z",
     "start_time": "2025-06-16T15:53:26.937546Z"
    }
   },
   "source": [
    "# Mengambil kolom selain target\n",
    "df_columns = diabetes_df.drop(columns=['Outcome', 'Pregnancies']).columns\n",
    "\n",
    "# Membuat list untuk menampung kolom yang memiliki nilai 0\n",
    "zero_columns = []\n",
    "\n",
    "# Menghitung jumlah missing value\n",
    "for col in df_columns:\n",
    "    miss_val_count = (diabetes_df[col] == 0).sum()\n",
    "\n",
    "    if miss_val_count != 0:\n",
    "        zero_columns.append(col)\n",
    "        print(f\"{col}: {miss_val_count}\")"
   ],
   "outputs": [
    {
     "name": "stdout",
     "output_type": "stream",
     "text": [
      "Glucose: 5\n",
      "BloodPressure: 35\n",
      "SkinThickness: 227\n",
      "Insulin: 374\n",
      "BMI: 11\n"
     ]
    }
   ],
   "execution_count": 8
  },
  {
   "metadata": {},
   "cell_type": "markdown",
   "source": [
    "**Insight:**\n",
    "\n",
    "Melakukan penegcekan pada beberapa kolom fisiologis apakah ada nilai 0 pada dataset. Terlihat pada kolom Glucose terdapat 5 nilai 0, BloodPressure terdapat 35 nilai 0, SkinThickness terdapat 227 nilai 0, Insulin terdapat 374 nilai 0 dan BMI terdapat 11 nilai 0. Nilai 0 ini menandakan nilai yang tidak logis dan perlu ditangani dengan melakukan imputasi pada tahapaan Data Preparation."
   ],
   "id": "ff4e7250dad08b89"
  },
  {
   "cell_type": "markdown",
   "id": "438e0cb3",
   "metadata": {},
   "source": [
    "**Mendapatkan nilai skew dengan fungsi skew() pada kolom numerik untuk mengetahui distribusi data**"
   ]
  },
  {
   "cell_type": "code",
   "id": "ee645b714b6ba9e9",
   "metadata": {
    "ExecuteTime": {
     "end_time": "2025-06-16T15:53:27.164022Z",
     "start_time": "2025-06-16T15:53:27.153894Z"
    }
   },
   "source": [
    "# Menyimpan daftar kolom\n",
    "df_columns = diabetes_df.columns\n",
    "\n",
    "# Melakukan perulangan untuk menghitung nilai skewness tiap kolom\n",
    "for col in df_columns:\n",
    "    series = pd.Series(np.array(diabetes_df[col]))\n",
    "    print(f\"{col}: {series.skew()}\")"
   ],
   "outputs": [
    {
     "name": "stdout",
     "output_type": "stream",
     "text": [
      "Pregnancies: 0.9016739791518588\n",
      "Glucose: 0.17375350179188992\n",
      "BloodPressure: -1.8436079833551302\n",
      "SkinThickness: 0.10937249648187608\n",
      "Insulin: 2.272250858431574\n",
      "BMI: -0.42898158845356543\n",
      "DiabetesPedigreeFunction: 1.919911066307204\n",
      "Age: 1.1295967011444805\n",
      "Outcome: 0.635016643444986\n"
     ]
    }
   ],
   "execution_count": 9
  },
  {
   "cell_type": "markdown",
   "id": "b5540cc5",
   "metadata": {},
   "source": [
    "**Melakukan ploting untuk melihat distribusi data dari kolom numerik apakah right-skewness, normal, atau left-skewness**"
   ]
  },
  {
   "cell_type": "code",
   "id": "e6ab38d69638e81f",
   "metadata": {
    "ExecuteTime": {
     "end_time": "2025-06-16T15:53:28.705356Z",
     "start_time": "2025-06-16T15:53:27.330939Z"
    }
   },
   "source": [
    "# Membuat subplot\n",
    "fig, axes = plt.subplots(3, 3, figsize=(15, 10))\n",
    "\n",
    "# Melakukan flatten axes array untuk memudahkan iterasi jika diperlukan\n",
    "axes = axes.flatten()\n",
    "\n",
    "# Plot setiap kolom\n",
    "for i, column in enumerate(diabetes_df.columns):\n",
    "    diabetes_df[column].hist(ax=axes[i], bins=15)\n",
    "    axes[i].set_title(column)\n",
    "    axes[i].set_xlabel('Value')\n",
    "    axes[i].set_ylabel('Frequency')\n",
    "\n",
    "# Menyesuaikan layout agar lebih rapi\n",
    "plt.tight_layout()\n",
    "plt.show()"
   ],
   "outputs": [
    {
     "data": {
      "text/plain": [
       "<Figure size 1500x1000 with 9 Axes>"
      ],
      "image/png": "[encoded data removed]"
     },
     "metadata": {},
     "output_type": "display_data"
    }
   ],
   "execution_count": 10
  },
  {
   "metadata": {},
   "cell_type": "markdown",
   "source": [
    "**Insight:**\n",
    "\n",
    "Menggunakan fungsi skew() untuk mendapatkan nilai yang mewakili tingkat dan arah kecondongan dari distribusi data pada suatu kolom/fitur. Dari nilai ini dapat diketahui suatu fitur termasuk dalam right-skewness, normal atau left-skewness. Dari hasil skew() dan plot distribusi data di atas menunjukkan distribusi yang sangat bervariasi di setiap fitur, di mana Insulin, DiabetesPedigreeFunction, dan Age sangat condong ke kanan (positif), menandakan adanya outlier bernilai tinggi, sementara Pregnancies dan Outcome juga condong ke kanan pada tingkat yang lebih sedang. Sebaliknya, BloodPressure menunjukkan kemiringan yang sangat kuat ke kiri (negatif), yang disebabkan oleh adanya nilai-nilai rendah yang tidak wajar, sedangkan BMI hanya sedikit condong ke kiri. Di antara semua fitur, hanya Glucose dan SkinThickness yang memiliki distribusi data paling seimbang dan hampir simetris dengan nilai kemiringan yang mendekati nol."
   ],
   "id": "14b7e9bdac4c0687"
  },
  {
   "cell_type": "markdown",
   "id": "6a727496",
   "metadata": {},
   "source": [
    "**Melakukan ploting korelasi antar fitur dari hasil fungsi corr() dengan heatmap**"
   ]
  },
  {
   "cell_type": "code",
   "id": "d24419caeec310e0",
   "metadata": {
    "ExecuteTime": {
     "end_time": "2025-06-16T15:53:29.158071Z",
     "start_time": "2025-06-16T15:53:28.724956Z"
    }
   },
   "source": [
    "# Visualisasi korelasi antar variabel numerik\n",
    "def show_corr_matrix(data):\n",
    "    plt.figure(figsize=(10, 8))\n",
    "    corr_matrix = data.corr(numeric_only=True)\n",
    "\n",
    "    sns.heatmap(corr_matrix, annot=True, cmap='coolwarm', vmin=-1, vmax=1)\n",
    "    plt.title(\"Correlation Matrix\")\n",
    "    plt.show()\n",
    "\n",
    "\n",
    "show_corr_matrix(diabetes_df.drop(columns=['Outcome']))"
   ],
   "outputs": [
    {
     "data": {
      "text/plain": [
       "<Figure size 1000x800 with 2 Axes>"
      ],
      "image/png": "[encoded data removed]"
     },
     "metadata": {},
     "output_type": "display_data"
    }
   ],
   "execution_count": 11
  },
  {
   "cell_type": "code",
   "id": "d7e43c50",
   "metadata": {
    "ExecuteTime": {
     "end_time": "2025-06-16T15:53:29.179301Z",
     "start_time": "2025-06-16T15:53:29.176896Z"
    }
   },
   "source": [
    "# Menyimpan nama kolom yang memiliki korelasi yang cukup tinggi ( > 0.5)\n",
    "high_corr_cols = ['Age', 'Pregnancies']"
   ],
   "outputs": [],
   "execution_count": 12
  },
  {
   "metadata": {},
   "cell_type": "markdown",
   "source": [
    "**Insight:**\n",
    "\n",
    "Menggunakan fungsi corr() untuk mendapatkan nilai korelasi antar fitur. Dari heatmap di atas matriks korelasi ini menunjukkan bahwa sebagian besar variabel kesehatan dalam dataset memiliki hubungan positif yang lemah hingga sedang satu sama lain, artinya ketika satu nilai cenderung naik, nilai lainnya juga cenderung naik. Korelasi positif yang paling menonjol dan terkuat adalah antara Age (Usia) dan Pregnancies (Jumlah Kehamilan). Selain itu, hubungan yang cukup berarti juga terlihat antara SkinThickness (Ketebalan Kulit) dengan Insulin dan BMI. Di sisi lain, hampir tidak ada korelasi negatif yang kuat dalam data ini, karena semua hubungan negatif yang ada nilainya sangat kecil dan mendekati nol, menandakan tidak ada hubungan terbalik yang signifikan antar variabel. Dari hasil tersebut, untuk fitur Age dan Pregnancies disimpan dalam list untuk nanti saat tahap Data Preparation dilakukan reduksi dimensi/PCA."
   ],
   "id": "8911cd0697a98302"
  },
  {
   "cell_type": "markdown",
   "id": "49efeae3",
   "metadata": {},
   "source": [
    "**Menghitung jumlah kelas diabates dan non-diabates dan melakukan ploting**"
   ]
  },
  {
   "cell_type": "code",
   "id": "d8bc49a4277690df",
   "metadata": {
    "ExecuteTime": {
     "end_time": "2025-06-16T15:53:29.239083Z",
     "start_time": "2025-06-16T15:53:29.231926Z"
    }
   },
   "source": [
    "# Menggunakan value_counts() untuk menghitung jumlah wanita yang berisiko diabetes dan tidak\n",
    "diabetes_df['Outcome'].value_counts()"
   ],
   "outputs": [
    {
     "data": {
      "text/plain": [
       "Outcome\n",
       "0    500\n",
       "1    268\n",
       "Name: count, dtype: int64"
      ]
     },
     "execution_count": 13,
     "metadata": {},
     "output_type": "execute_result"
    }
   ],
   "execution_count": 13
  },
  {
   "cell_type": "code",
   "id": "7d0c2a7e3c6be622",
   "metadata": {
    "ExecuteTime": {
     "end_time": "2025-06-16T15:53:29.552070Z",
     "start_time": "2025-06-16T15:53:29.361825Z"
    }
   },
   "source": [
    "plt.figure(figsize=(7, 5))\n",
    "sns.histplot(x=\"Outcome\", data=diabetes_df)\n",
    "\n",
    "plt.title(\"Diabetes Outcome\", fontsize=20)\n",
    "plt.tick_params(axis='x', labelsize=15)\n",
    "plt.show()"
   ],
   "outputs": [
    {
     "data": {
      "text/plain": [
       "<Figure size 700x500 with 1 Axes>"
      ],
      "image/png": "[encoded data removed]"
     },
     "metadata": {},
     "output_type": "display_data"
    }
   ],
   "execution_count": 14
  },
  {
   "metadata": {},
   "cell_type": "markdown",
   "source": [
    "**Insight:**\n",
    "\n",
    "Menghitung jumlah kelas diabetes dan non-diabates dengan fungsi values_count(). Kelas diabetes memiliki jumlah 268 data dan non-diabetes 500 data. Terlihat dari grafik di atas bahwa kelas non-diabates lebih banyak dari kelas diabetes. Hal ini menandakan terjadinya imbalance kelas. Masalah ini perlu ditangani agar model tidak bias ke kelas mayoritas dan memiliki performa buruk pada kelas minoritas. Salah satunya dapat melakukan oversampling dengan teknik SMOTE."
   ],
   "id": "d7759078186b0747"
  },
  {
   "cell_type": "markdown",
   "id": "1902ecd4",
   "metadata": {},
   "source": [
    "**Mendapatkan jumlah kelas berdasarkan kategori rentang umur**"
   ]
  },
  {
   "cell_type": "code",
   "id": "f69bb2bbc5250133",
   "metadata": {
    "ExecuteTime": {
     "end_time": "2025-06-16T15:53:29.723707Z",
     "start_time": "2025-06-16T15:53:29.711392Z"
    }
   },
   "source": [
    "# Membuat fungsi untuk menentukan kategori berdasarkan rentang umur\n",
    "def check_age(age):\n",
    "    if age < 25:\n",
    "        return \"youth\"\n",
    "    elif 25 <= age < 37:\n",
    "        return \"maturity\"\n",
    "    elif 37 <= age < 49:\n",
    "        return \"middle-maturity\"\n",
    "    elif 49 <= age < 61:\n",
    "        return \"full-maturity\"\n",
    "    else:\n",
    "        return \"elderly\"\n",
    "\n",
    "\n",
    "# Membuat DataFrame baru age_df\n",
    "age_df = diabetes_df.copy()\n",
    "\n",
    "# Mengecek kategori umur berdasarkan rentang umur\n",
    "age_df['Age'] = age_df['Age'].apply(check_age)\n",
    "\n",
    "# Menghitung hasil diabetes berdasarkan kategori umur\n",
    "age_df.groupby(by=['Age', 'Outcome'])['Outcome'].count()"
   ],
   "outputs": [
    {
     "data": {
      "text/plain": [
       "Age              Outcome\n",
       "elderly          0           20\n",
       "                 1            7\n",
       "full-maturity    0           28\n",
       "                 1           39\n",
       "maturity         0          185\n",
       "                 1          110\n",
       "middle-maturity  0           79\n",
       "                 1           81\n",
       "youth            0          188\n",
       "                 1           31\n",
       "Name: Outcome, dtype: int64"
      ]
     },
     "execution_count": 15,
     "metadata": {},
     "output_type": "execute_result"
    }
   ],
   "execution_count": 15
  },
  {
   "cell_type": "code",
   "id": "addd1b2aa32d6c3b",
   "metadata": {
    "ExecuteTime": {
     "end_time": "2025-06-16T15:53:29.924584Z",
     "start_time": "2025-06-16T15:53:29.918824Z"
    }
   },
   "source": [
    "# Mengecek jumlah data berdasarkan kategori umur\n",
    "age_df['Age'].value_counts()"
   ],
   "outputs": [
    {
     "data": {
      "text/plain": [
       "Age\n",
       "maturity           295\n",
       "youth              219\n",
       "middle-maturity    160\n",
       "full-maturity       67\n",
       "elderly             27\n",
       "Name: count, dtype: int64"
      ]
     },
     "execution_count": 16,
     "metadata": {},
     "output_type": "execute_result"
    }
   ],
   "execution_count": 16
  },
  {
   "metadata": {},
   "cell_type": "markdown",
   "source": [
    "**Insight:**\n",
    "\n",
    "- Membuat kategori berdasarkan rentang umur yaitu youth kurang dari 25 tahun, maturity dari 25 hingga 36 tahun, middle maturity dari 37 hingga 48 tahun, full maturity dari 49 hingga 60 tahun dan elderly lebih dari sama dengan 61 tahun.\n",
    "- Dari dataset ini, sampel data paling banyak adalah wanita dewasa dengan umur dari rentang 25 hingga 36 tahun dengan jumlah 295 orang. Kemudian, diikuti youth sebanyak 219 orang, middle maturity 160 orang, full maturity 67 orang dan lansia 27 orang."
   ],
   "id": "83ffd505eb4bda6c"
  },
  {
   "cell_type": "markdown",
   "id": "df7b47dc",
   "metadata": {},
   "source": [
    "**Melakukan ploting untuk melihat jumlah wanita berdasarkan kategori umur**"
   ]
  },
  {
   "cell_type": "code",
   "id": "76394548c278f1b4",
   "metadata": {
    "ExecuteTime": {
     "end_time": "2025-06-16T15:53:30.448474Z",
     "start_time": "2025-06-16T15:53:30.278488Z"
    }
   },
   "source": [
    "age_count = age_df['Age'].value_counts().reset_index(name='Count')\n",
    "\n",
    "plt.figure(figsize=(10, 6))\n",
    "sns.barplot(\n",
    "    x='Count',\n",
    "    y='Age',\n",
    "    data=age_count,\n",
    "    errorbar=None,\n",
    ")\n",
    "\n",
    "plt.title(\"Number of people by Age\", fontsize=20)\n",
    "plt.xlabel(None)\n",
    "plt.ylabel(None)\n",
    "plt.show()"
   ],
   "outputs": [
    {
     "data": {
      "text/plain": [
       "<Figure size 1000x600 with 1 Axes>"
      ],
      "image/png": "[encoded data removed]"
     },
     "metadata": {},
     "output_type": "display_data"
    }
   ],
   "execution_count": 17
  },
  {
   "metadata": {},
   "cell_type": "markdown",
   "source": [
    "**Insight:**\n",
    "\n",
    "Terlihat dari plot distribusi di atas, dataset ini banyak mengambil sampel kondisi fisiologis wanita yang sudah dewasa, diikuti dengan remaja, middle maturity, full maturity dan terakhir lansia/elderly."
   ],
   "id": "62a9196dca5eb7f0"
  },
  {
   "cell_type": "markdown",
   "id": "332005c6",
   "metadata": {},
   "source": [
    "**Melakukan ploting untuk melihat distribusi kelas berdasarkan kategori umur**"
   ]
  },
  {
   "cell_type": "code",
   "id": "42c6a096b4428602",
   "metadata": {
    "ExecuteTime": {
     "end_time": "2025-06-16T15:53:30.849777Z",
     "start_time": "2025-06-16T15:53:30.631774Z"
    }
   },
   "source": [
    "# Melihat demografi penderita diabetes dan non-diabetes berdasarkan umur\n",
    "byage_df = age_df.groupby(by=['Age', 'Outcome']).size().reset_index(name='Count')\n",
    "byage_df['Outcome'] = byage_df['Outcome'].map({0: \"Non-Diabetes\", 1: \"Diabetes\"})\n",
    "\n",
    "plt.figure(figsize=(15, 8))\n",
    "\n",
    "sns.barplot(\n",
    "    y=\"Count\",\n",
    "    x=\"Age\",\n",
    "    hue='Outcome',\n",
    "    data=byage_df,\n",
    "    errorbar=None,\n",
    ")\n",
    "\n",
    "plt.tick_params(axis='x', labelsize=15)\n",
    "plt.xlabel(None)\n",
    "plt.ylabel(None)\n",
    "plt.show()\n",
    "\n",
    "byage_df"
   ],
   "outputs": [
    {
     "data": {
      "text/plain": [
       "<Figure size 1500x800 with 1 Axes>"
      ],
      "image/png": "[encoded data removed]"
     },
     "metadata": {},
     "output_type": "display_data"
    },
    {
     "data": {
      "text/plain": [
       "               Age       Outcome  Count\n",
       "0          elderly  Non-Diabetes     20\n",
       "1          elderly      Diabetes      7\n",
       "2    full-maturity  Non-Diabetes     28\n",
       "3    full-maturity      Diabetes     39\n",
       "4         maturity  Non-Diabetes    185\n",
       "5         maturity      Diabetes    110\n",
       "6  middle-maturity  Non-Diabetes     79\n",
       "7  middle-maturity      Diabetes     81\n",
       "8            youth  Non-Diabetes    188\n",
       "9            youth      Diabetes     31"
      ],
      "text/html": [
       "<div>\n",
       "<style scoped>\n",
       "    .dataframe tbody tr th:only-of-type {\n",
       "        vertical-align: middle;\n",
       "    }\n",
       "\n",
       "    .dataframe tbody tr th {\n",
       "        vertical-align: top;\n",
       "    }\n",
       "\n",
       "    .dataframe thead th {\n",
       "        text-align: right;\n",
       "    }\n",
       "</style>\n",
       "<table border=\"1\" class=\"dataframe\">\n",
       "  <thead>\n",
       "    <tr style=\"text-align: right;\">\n",
       "      <th></th>\n",
       "      <th>Age</th>\n",
       "      <th>Outcome</th>\n",
       "      <th>Count</th>\n",
       "    </tr>\n",
       "  </thead>\n",
       "  <tbody>\n",
       "    <tr>\n",
       "      <th>0</th>\n",
       "      <td>elderly</td>\n",
       "      <td>Non-Diabetes</td>\n",
       "      <td>20</td>\n",
       "    </tr>\n",
       "    <tr>\n",
       "      <th>1</th>\n",
       "      <td>elderly</td>\n",
       "      <td>Diabetes</td>\n",
       "      <td>7</td>\n",
       "    </tr>\n",
       "    <tr>\n",
       "      <th>2</th>\n",
       "      <td>full-maturity</td>\n",
       "      <td>Non-Diabetes</td>\n",
       "      <td>28</td>\n",
       "    </tr>\n",
       "    <tr>\n",
       "      <th>3</th>\n",
       "      <td>full-maturity</td>\n",
       "      <td>Diabetes</td>\n",
       "      <td>39</td>\n",
       "    </tr>\n",
       "    <tr>\n",
       "      <th>4</th>\n",
       "      <td>maturity</td>\n",
       "      <td>Non-Diabetes</td>\n",
       "      <td>185</td>\n",
       "    </tr>\n",
       "    <tr>\n",
       "      <th>5</th>\n",
       "      <td>maturity</td>\n",
       "      <td>Diabetes</td>\n",
       "      <td>110</td>\n",
       "    </tr>\n",
       "    <tr>\n",
       "      <th>6</th>\n",
       "      <td>middle-maturity</td>\n",
       "      <td>Non-Diabetes</td>\n",
       "      <td>79</td>\n",
       "    </tr>\n",
       "    <tr>\n",
       "      <th>7</th>\n",
       "      <td>middle-maturity</td>\n",
       "      <td>Diabetes</td>\n",
       "      <td>81</td>\n",
       "    </tr>\n",
       "    <tr>\n",
       "      <th>8</th>\n",
       "      <td>youth</td>\n",
       "      <td>Non-Diabetes</td>\n",
       "      <td>188</td>\n",
       "    </tr>\n",
       "    <tr>\n",
       "      <th>9</th>\n",
       "      <td>youth</td>\n",
       "      <td>Diabetes</td>\n",
       "      <td>31</td>\n",
       "    </tr>\n",
       "  </tbody>\n",
       "</table>\n",
       "</div>"
      ]
     },
     "execution_count": 18,
     "metadata": {},
     "output_type": "execute_result"
    }
   ],
   "execution_count": 18
  },
  {
   "metadata": {},
   "cell_type": "markdown",
   "source": [
    "**Insight:**\n",
    "\n",
    "- Pada lansia/elderly wanita yang berisiko diabates berjumlah 7 orang dan 20 orang tidak\n",
    "- Pada full maturity wanita yang berisiko diabetes jumlahnya 39 orang dan 28 orang tidak\n",
    "- Pada wanita dengan rentang usia dewasa/maturity, yang memiliki risiko diabetes berjumlah 110 orang dan 185 tidak\n",
    "- Pada wanita yang menginjak usia middle maturity dan memiliki kondisi kesehatan yang berisiko diabates berjumlah 81 orang dan 79 tidak\n",
    "- Pada wanita remaja yang berisiko diabates berjumlah 31 orang dan 188 tidak"
   ],
   "id": "c2ee718d35399d00"
  },
  {
   "cell_type": "markdown",
   "id": "12a1874a",
   "metadata": {},
   "source": [
    "**Mendapatkan jumlah wanita berdasarkan tingkat tekanan darah**"
   ]
  },
  {
   "cell_type": "code",
   "id": "d5ddb0279120714d",
   "metadata": {
    "ExecuteTime": {
     "end_time": "2025-06-16T15:53:30.973864Z",
     "start_time": "2025-06-16T15:53:30.967460Z"
    }
   },
   "source": [
    "# Membuat fungsi untuk menentukan kategori berdasarkan rentang tekanan darah\n",
    "def check_blood_pressure(blood_pressure):\n",
    "    if blood_pressure < 80:\n",
    "        return \"normal\"\n",
    "    elif 80 <= blood_pressure <= 89:\n",
    "        return \"pre-hypertension\"\n",
    "    elif 90 <= blood_pressure <= 99:\n",
    "        return \"stage-1-hypertension\"\n",
    "    else:\n",
    "        return \"stage-2-hypertension\"\n",
    "\n",
    "\n",
    "blood_pressure_df = diabetes_df.copy()\n",
    "blood_pressure_df['BloodPressure'] = blood_pressure_df['BloodPressure'].apply(check_blood_pressure)\n",
    "\n",
    "blood_pressure_count = blood_pressure_df['BloodPressure'].value_counts()\n",
    "\n",
    "blood_pressure_count"
   ],
   "outputs": [
    {
     "data": {
      "text/plain": [
       "BloodPressure\n",
       "normal                  563\n",
       "pre-hypertension        145\n",
       "stage-1-hypertension     44\n",
       "stage-2-hypertension     16\n",
       "Name: count, dtype: int64"
      ]
     },
     "execution_count": 19,
     "metadata": {},
     "output_type": "execute_result"
    }
   ],
   "execution_count": 19
  },
  {
   "metadata": {},
   "cell_type": "markdown",
   "source": [
    "**Insight:**\n",
    "\n",
    "- Membuat kategori berdasarkan tingkat tekanan darah diastolik yaitu normal kurang dari 80 mmHg, prehypertension antara 80 hingga 89 mmHg, tahap 1 hipertensi dari 90 hingga 99 mmHg dan lebih dari 99 masuk ke hipertensi tahap 2.\n",
    "- Dari dataset ini 563 wanita memiliki tekanan darah diastolik normal, 145 mengalami pre-hipertensi, 44 masuk ke tahap 1 hipertensi dan 16 orang tahap 2 hipertensi."
   ],
   "id": "b2c5bbc7caaec14"
  },
  {
   "cell_type": "markdown",
   "id": "4c5cb2cb",
   "metadata": {},
   "source": [
    "**Melakukan ploting jumlah wanita berdasarkan kondisi  tekanan darah**"
   ]
  },
  {
   "cell_type": "code",
   "id": "196bbab7",
   "metadata": {
    "ExecuteTime": {
     "end_time": "2025-06-16T15:53:31.452370Z",
     "start_time": "2025-06-16T15:53:31.282023Z"
    }
   },
   "source": [
    "# Melihat distribusi jumlah wanita berdasarkan tekanan darah\n",
    "blood_pressure_count = blood_pressure_df['BloodPressure'].value_counts().reset_index(name='Count')\n",
    "\n",
    "plt.figure(figsize=(10, 6))\n",
    "\n",
    "sns.barplot(\n",
    "    y='BloodPressure',\n",
    "    x='Count',\n",
    "    data=blood_pressure_count,\n",
    "    errorbar=None\n",
    ")\n",
    "\n",
    "plt.title(\"Number of People by Blood Pressure\", fontsize=12)\n",
    "plt.xlabel(None)\n",
    "plt.ylabel(None)\n",
    "plt.show()"
   ],
   "outputs": [
    {
     "data": {
      "text/plain": [
       "<Figure size 1000x600 with 1 Axes>"
      ],
      "image/png": "[encoded data removed]"
     },
     "metadata": {},
     "output_type": "display_data"
    }
   ],
   "execution_count": 20
  },
  {
   "metadata": {},
   "cell_type": "markdown",
   "source": [
    "**Insight:**\n",
    "\n",
    "Dari plot distirbusi di atas, terlihat bahwa wanita dengan kondisi tekanan darah diastolik normal paling banyak diikuti dengan kondisi pre-hipertensi, hipertensi tahap 1 dan terakhir hipertensi tahap 2."
   ],
   "id": "3e6e3c423098eb28"
  },
  {
   "cell_type": "markdown",
   "id": "76284e8e",
   "metadata": {},
   "source": [
    "**Mendapatkan jumlah kelas berdasarkan kondisi tekanan darah dan melakukan ploting untuk melihat distribusi data**"
   ]
  },
  {
   "cell_type": "code",
   "id": "d3b2920d",
   "metadata": {
    "ExecuteTime": {
     "end_time": "2025-06-16T15:53:31.739566Z",
     "start_time": "2025-06-16T15:53:31.731932Z"
    }
   },
   "source": [
    "# Menmpilkan hasil diabetes berdasarkan tekanan darah\n",
    "blood_pressure_df.groupby(by=['BloodPressure', 'Outcome'])['Outcome'].count()"
   ],
   "outputs": [
    {
     "data": {
      "text/plain": [
       "BloodPressure         Outcome\n",
       "normal                0          385\n",
       "                      1          178\n",
       "pre-hypertension      0           84\n",
       "                      1           61\n",
       "stage-1-hypertension  0           24\n",
       "                      1           20\n",
       "stage-2-hypertension  0            7\n",
       "                      1            9\n",
       "Name: Outcome, dtype: int64"
      ]
     },
     "execution_count": 21,
     "metadata": {},
     "output_type": "execute_result"
    }
   ],
   "execution_count": 21
  },
  {
   "cell_type": "code",
   "id": "2bbaa882",
   "metadata": {
    "ExecuteTime": {
     "end_time": "2025-06-16T15:53:32.157643Z",
     "start_time": "2025-06-16T15:53:31.901727Z"
    }
   },
   "source": [
    "# Melihat distribusi penderita diabetes dan non-diabates berdasarkan tekanan darah\n",
    "bybloodpressure_df = blood_pressure_df.groupby(by=['BloodPressure', 'Outcome']).size().reset_index(name='Count')\n",
    "bybloodpressure_df['Outcome'] = bybloodpressure_df['Outcome'].map({0: 'Non-Diabetes', 1: 'Diabetes'})\n",
    "\n",
    "plt.figure(figsize=(15, 8))\n",
    "\n",
    "sns.barplot(\n",
    "    y='Count',\n",
    "    x='BloodPressure',\n",
    "    hue='Outcome',\n",
    "    data=bybloodpressure_df,\n",
    "    errorbar=None\n",
    ")\n",
    "\n",
    "plt.title(\"Number of Class by Blood Pressure\", fontsize=20)\n",
    "plt.tick_params(axis='x', labelsize=15)\n",
    "plt.show()"
   ],
   "outputs": [
    {
     "data": {
      "text/plain": [
       "<Figure size 1500x800 with 1 Axes>"
      ],
      "image/png": "[encoded data removed]"
     },
     "metadata": {},
     "output_type": "display_data"
    }
   ],
   "execution_count": 22
  },
  {
   "metadata": {},
   "cell_type": "markdown",
   "source": [
    "**Insight:**\n",
    "\n",
    "- Wanita yang memmiliki kodnisi tekanan darah diastolik normal dan memiliki kondisi kesehatan yang berisiko diabetes berjumlah 178 orang dan 385 tidak\n",
    "- Wanita yang mengalami pre-hipertensi dan memiliki kondisi yang berisiko diabetes jumlahnya 61 orang dan 84 tidak\n",
    "- Wanita yang tekanan darahnya masuk ke tahap satu dan berisiko diabetes jumlahnya 20 orang dan 24 tidak\n",
    "- Wanita yang tekanan darahnya masuk ke tahap dua dan berisiko diabetes jumlahnya 9 orang dan 7 tidak"
   ],
   "id": "7d4e0359a034a2dc"
  },
  {
   "cell_type": "markdown",
   "id": "26e1dbef",
   "metadata": {},
   "source": [
    "**Mendapatkan jumlah wanita berdasarkan  BMI**"
   ]
  },
  {
   "cell_type": "code",
   "id": "db66b069c7e82768",
   "metadata": {
    "ExecuteTime": {
     "end_time": "2025-06-16T15:53:32.317472Z",
     "start_time": "2025-06-16T15:53:32.310351Z"
    }
   },
   "source": [
    "# Membuat fungsi untuk menentukan kategori berdasarkan BMI\n",
    "def check_bmi(bmi):\n",
    "    if bmi < 18.5:\n",
    "        return \"underweight\"\n",
    "    elif 18.5 <= bmi <= 24.9:\n",
    "        return \"normal\"\n",
    "    elif 25 <= bmi <= 29.9:\n",
    "        return \"overweight\"\n",
    "    else:\n",
    "        return \"obese\"\n",
    "\n",
    "\n",
    "bmi_df = diabetes_df.copy()\n",
    "bmi_df['BMI'] = bmi_df[\"BMI\"].apply(check_bmi)\n",
    "\n",
    "bmi_df[\"BMI\"].value_counts()"
   ],
   "outputs": [
    {
     "data": {
      "text/plain": [
       "BMI\n",
       "obese          472\n",
       "overweight     179\n",
       "normal         102\n",
       "underweight     15\n",
       "Name: count, dtype: int64"
      ]
     },
     "execution_count": 23,
     "metadata": {},
     "output_type": "execute_result"
    }
   ],
   "execution_count": 23
  },
  {
   "metadata": {},
   "cell_type": "markdown",
   "source": [
    "**Insight:**\n",
    "\n",
    "- Membuat kategori berdasarkan nilai BMI yaitu wanita yang nilai BMI-nya kurang dari 18.5 masuk dalam kategori underweight. Kemudian, jika nilai BMI-nya dalam rentang 18.5 hingga 24.9 masuk dalam keadaan normal. Lalu, untuk BMI dengan rentang 25 hingga 29.9 menandakan overweight. Terakhir, jika nilai BMI melebihi 29.9 menandakan wanita tersebut mengalami obesitas.\n",
    "- Dari dataset ini, wanita dengan kondisi obesitas memiliki sampel paling banyak yaitu 472 orang. Kemudian, diikuti kondisi overweght berjumlah 179 orang, normal 102 orang dan 15 orang mengalami underweight."
   ],
   "id": "d152c3ab66ede11"
  },
  {
   "cell_type": "markdown",
   "id": "d1620aab",
   "metadata": {},
   "source": [
    "**Melakukan ploting untuk melihat distribusi jumlah wanita berdasarkan BMI**"
   ]
  },
  {
   "cell_type": "code",
   "id": "76423fd7246f6da9",
   "metadata": {
    "ExecuteTime": {
     "end_time": "2025-06-16T15:53:32.628609Z",
     "start_time": "2025-06-16T15:53:32.465286Z"
    }
   },
   "source": [
    "bmi_count = bmi_df['BMI'].value_counts().reset_index(name='Count')\n",
    "\n",
    "plt.figure(figsize=(10, 6))\n",
    "\n",
    "sns.barplot(\n",
    "    y='BMI',\n",
    "    x='Count',\n",
    "    data=bmi_count,\n",
    "    errorbar=None,\n",
    ")\n",
    "\n",
    "plt.title(\"Number of people by BMI\", fontsize=20)\n",
    "plt.xlabel(None)\n",
    "plt.ylabel(None)\n",
    "plt.show()"
   ],
   "outputs": [
    {
     "data": {
      "text/plain": [
       "<Figure size 1000x600 with 1 Axes>"
      ],
      "image/png": "[encoded data removed]"
     },
     "metadata": {},
     "output_type": "display_data"
    }
   ],
   "execution_count": 24
  },
  {
   "metadata": {},
   "cell_type": "markdown",
   "source": [
    "**Insight:**\n",
    "\n",
    "Terlihat dari hasil plot distribusi di atas, wanita dengan kondisi obesitas jumlahnya paling banyak, diikuti kondisi overweight, normal dan terakhir underweight."
   ],
   "id": "3d9522f04f56196b"
  },
  {
   "cell_type": "markdown",
   "id": "8d8563e4",
   "metadata": {},
   "source": [
    "**Mendapatkan jumlah kelas berdasarkan BMI dan melakukan ploting untuk melihat distribusi data**"
   ]
  },
  {
   "cell_type": "code",
   "id": "5fd5707730913ae1",
   "metadata": {
    "ExecuteTime": {
     "end_time": "2025-06-16T15:53:32.794526Z",
     "start_time": "2025-06-16T15:53:32.786522Z"
    }
   },
   "source": [
    "# Menampilkan hasil diabetes berdasarkan BMI\n",
    "bmi_df.groupby(by=['BMI', 'Outcome'])['Outcome'].count()"
   ],
   "outputs": [
    {
     "data": {
      "text/plain": [
       "BMI          Outcome\n",
       "normal       0           95\n",
       "             1            7\n",
       "obese        0          253\n",
       "             1          219\n",
       "overweight   0          139\n",
       "             1           40\n",
       "underweight  0           13\n",
       "             1            2\n",
       "Name: Outcome, dtype: int64"
      ]
     },
     "execution_count": 25,
     "metadata": {},
     "output_type": "execute_result"
    }
   ],
   "execution_count": 25
  },
  {
   "cell_type": "code",
   "id": "2edf6c83f21a4cda",
   "metadata": {
    "ExecuteTime": {
     "end_time": "2025-06-16T15:53:33.131756Z",
     "start_time": "2025-06-16T15:53:32.960485Z"
    }
   },
   "source": [
    "# Melihat demografi penderita diabetes dan non-diabetes berdasarkan BMI\n",
    "bybmi_df = bmi_df.groupby(by=['BMI', 'Outcome']).size().reset_index(name='Count')\n",
    "bybmi_df['Outcome'] = bmi_df['Outcome'].map({0: \"Non-Diabetes\", 1: \"Diabetes\"})\n",
    "\n",
    "plt.figure(figsize=(15, 8))\n",
    "\n",
    "sns.barplot(\n",
    "    y='Count',\n",
    "    x='BMI',\n",
    "    hue='Outcome',\n",
    "    data=bybmi_df,\n",
    "    errorbar=None\n",
    ")\n",
    "\n",
    "plt.tick_params(axis='x', labelsize=15)\n",
    "plt.show()"
   ],
   "outputs": [
    {
     "data": {
      "text/plain": [
       "<Figure size 1500x800 with 1 Axes>"
      ],
      "image/png": "[encoded data removed]"
     },
     "metadata": {},
     "output_type": "display_data"
    }
   ],
   "execution_count": 26
  },
  {
   "metadata": {},
   "cell_type": "markdown",
   "source": [
    "**Insight:**\n",
    "\n",
    "- Wanita yang memiliki berat badan ideal/normal dan memiliki risiko diabetes jumlahnya 7 orang dan 95 tidak\n",
    "- Wanita yang memiliki kondisi berat badanya obesitas dan memiliki risiko diabetes jumlahnya 219 orang dan 153 tidak\n",
    "- Wanita dengan kondisi overweight dan berisiko diabetes jumlahnya 40 orang dan 139 tidak\n",
    "- Waniata dengan kondisi kurus/underweight dan berisiko diabates jumlahnya 2 orang dan 13 tidak"
   ],
   "id": "875aaee685f74c43"
  },
  {
   "cell_type": "markdown",
   "id": "2b04bd52",
   "metadata": {},
   "source": [
    "**Melihat proporsi kelas diabates dan non-diabates menggunakan pie chart**"
   ]
  },
  {
   "cell_type": "code",
   "id": "975798f3988954dc",
   "metadata": {
    "ExecuteTime": {
     "end_time": "2025-06-16T15:53:33.370963Z",
     "start_time": "2025-06-16T15:53:33.307126Z"
    }
   },
   "source": [
    "# Menghitung jumlah data berdasarkan hasil diabetes (0 dan 1)\n",
    "outcome_count = diabetes_df['Outcome'].value_counts().tolist()\n",
    "\n",
    "plt.pie(\n",
    "    x=outcome_count,\n",
    "    labels=('Non-Diabetes', 'Diabetes'),\n",
    "    autopct='%1.1f%%',\n",
    "    explode=(0.05, 0)\n",
    ")\n",
    "\n",
    "plt.show()"
   ],
   "outputs": [
    {
     "data": {
      "text/plain": [
       "<Figure size 640x480 with 1 Axes>"
      ],
      "image/png": "[encoded data removed]"
     },
     "metadata": {},
     "output_type": "display_data"
    }
   ],
   "execution_count": 27
  },
  {
   "metadata": {},
   "cell_type": "markdown",
   "source": [
    "**Insight:**\n",
    "\n",
    "Dari hasil pie chart di atas, dari 768 wanita 65.1% tidak mengalami diabates dan sisanya 34,9% mengalami diabetes"
   ],
   "id": "23534bc46d68eacd"
  },
  {
   "cell_type": "markdown",
   "id": "3b02ea11",
   "metadata": {},
   "source": [
    "**Mengecek outlier pada fitur numerik**"
   ]
  },
  {
   "cell_type": "code",
   "id": "860d12455630869e",
   "metadata": {
    "ExecuteTime": {
     "end_time": "2025-06-16T15:53:34.191848Z",
     "start_time": "2025-06-16T15:53:33.484480Z"
    }
   },
   "source": [
    "# Melihat distribusi pada data kuantitatif\n",
    "df_columns = diabetes_df.drop(columns=['Outcome']).columns\n",
    "\n",
    "fig, axes = plt.subplots(3, 3, figsize=(15, 10))\n",
    "\n",
    "axes = axes.flatten()\n",
    "\n",
    "for i, column in enumerate(df_columns):\n",
    "    sns.boxplot(x=diabetes_df[column], ax=axes[i])\n",
    "\n",
    "# Menghapus subplot yang tidak terpakai jika ada\n",
    "for j in range(i + 1, len(axes)):\n",
    "    fig.delaxes(axes[j])\n",
    "\n",
    "plt.tight_layout()\n",
    "plt.show()"
   ],
   "outputs": [
    {
     "data": {
      "text/plain": [
       "<Figure size 1500x1000 with 8 Axes>"
      ],
      "image/png": "[encoded data removed]"
     },
     "metadata": {},
     "output_type": "display_data"
    }
   ],
   "execution_count": 28
  },
  {
   "metadata": {},
   "cell_type": "markdown",
   "source": [
    "**Insight:**\n",
    "\n",
    "Dari hasil box plot di atas, terlihat semua variabel independen memiliki data outlier. Mesikpun begitu, dikarenakan ini adalah kondisi kesehatan maka tidak dilakukan penanganan data outlier. Karena, ditakutkan akan menghilangkan banyak informasi."
   ],
   "id": "cbc7e8b464d3cd72"
  },
  {
   "cell_type": "markdown",
   "id": "2d08e4e860cabb27",
   "metadata": {},
   "source": [
    "## **Data Preparation**"
   ]
  },
  {
   "metadata": {},
   "cell_type": "markdown",
   "source": [
    "### **Features Selection**\n",
    "\n",
    "**Melakukan proses seleksi fitur menggunakan metode embedded**"
   ],
   "id": "99bc072cb86a1d08"
  },
  {
   "metadata": {
    "ExecuteTime": {
     "end_time": "2025-06-16T15:53:34.468800Z",
     "start_time": "2025-06-16T15:53:34.253473Z"
    }
   },
   "cell_type": "code",
   "source": [
    "# Memisahkan data mejadi fitur dan label\n",
    "X = diabetes_df.drop(columns=['Outcome'])\n",
    "y = diabetes_df['Outcome']\n",
    "\n",
    "# Embedded Methods\n",
    "# menggunakan Random Forest untuk mendapatkan fitur penting\n",
    "rf_model = RandomForestClassifier(n_estimators=100, random_state=42)\n",
    "rf_model.fit(X, y)\n",
    "\n",
    "# Mendapatkan fitur penting\n",
    "importance = rf_model.feature_importances_\n",
    "indices = np.argsort(importance)[::-1]\n",
    "\n",
    "# Meenentukan ambang batas untuk fitur penting\n",
    "threshold = 0.05\n",
    "important_features_indices = [i for i in range(len(importance)) if importance[i] >= threshold]\n",
    "\n",
    "# Menampilkan fitur penting beserta nilainya\n",
    "print(\"Fitur yang dipilih dengan Embedded Methods (di atas ambang batas > 0.05):\\n\")\n",
    "for i in important_features_indices:\n",
    "    # Jika X asli berbentuk DataFrame, maka kita ambil nama kolom\n",
    "    print(f\"{X.columns[i]}: {importance[i]}\")\n",
    "\n",
    "# Mendapatkan nama kolom penting berdasarkan importace\n",
    "important_features = X.columns[important_features_indices]\n",
    "\n",
    "# Memindahkan fitur penting ke variabel baru\n",
    "X_important = X[important_features]\n",
    "\n",
    "# X_important sekarang berisi hanya fitur penting\n",
    "print(\"\\nDimensi data pelatihan dengan fitur penting:\", X_important.shape)"
   ],
   "id": "f0e4a14f0c6ef783",
   "outputs": [
    {
     "name": "stdout",
     "output_type": "stream",
     "text": [
      "Fitur yang dipilih dengan Embedded Methods (di atas ambang batas > 0.05):\n",
      "\n",
      "Pregnancies: 0.08501656218522641\n",
      "Glucose: 0.2671417574733811\n",
      "BloodPressure: 0.0886596828565411\n",
      "SkinThickness: 0.06460412700022039\n",
      "Insulin: 0.07154711634335888\n",
      "BMI: 0.16876864301424507\n",
      "DiabetesPedigreeFunction: 0.12269526460401114\n",
      "Age: 0.13156684652301587\n",
      "\n",
      "Dimensi data pelatihan dengan fitur penting: (768, 8)\n"
     ]
    }
   ],
   "execution_count": 29
  },
  {
   "metadata": {},
   "cell_type": "markdown",
   "source": [
    "**Insight:**\n",
    "\n",
    "Pada tahapan data preparation, step pertama yang dilakukan adalah melakukan pemilihan fitur terbaik menggunakan metode embedded. Metode embedded adalah salah satu pendekatan seleksi fitur. Metode ini membuat model secara cerdas untuk memilih sendiri fitur-fitur yang paling berguna untuk tugas prediksinya. Ditetapkan treshold 0.05, jadi fitur yang nilainya lebih dari ambang batas tersebut akan dipilih. Terlihat dari hasil keluaran di atas, semua fitur yaitu Pregnancies, Glucose, BloddPressure, SkinThickness, BMI, Insulin, DiabetesPedigreeFunction dan Age memiliki nilai yang melebih ambang batas."
   ],
   "id": "b8d6d0091963360"
  },
  {
   "metadata": {},
   "cell_type": "markdown",
   "source": [
    "### **Spliting Data Training and Testing**\n",
    "\n",
    "**Membagi dataset menjadi dua bagian yaitu data latih dan data uji dengan perbandingan 80:20**"
   ],
   "id": "abb8ad66"
  },
  {
   "cell_type": "code",
   "id": "08d4067f",
   "metadata": {
    "ExecuteTime": {
     "end_time": "2025-06-16T15:53:34.533366Z",
     "start_time": "2025-06-16T15:53:34.525683Z"
    }
   },
   "source": "X_train, X_test, y_train, y_test = train_test_split(X_important, y, test_size=0.2, random_state=42, stratify=y)",
   "outputs": [],
   "execution_count": 30
  },
  {
   "metadata": {},
   "cell_type": "markdown",
   "source": [
    "**Insight:**\n",
    "\n",
    "Untuk step kedua dari Data Preparation adalah melakukan spliting data dengan fungsi train_split_test(). Hal ini perlu dilakukan agar saat melakukan imputasi dengan regresi, PCA, SMOTE tidak terjadi data leaked karena proses tersebut hanya dilakukan pada data latih. Strategi pembagian data ini adalah 80:20, artinya 80% digunakan sebagai data latih dan 20% sebagai data uji."
   ],
   "id": "d4274a5057d351ac"
  },
  {
   "metadata": {},
   "cell_type": "markdown",
   "source": [
    "### **Imputation Data**\n",
    "\n",
    "**Melakukan proses imputasi dengan teknik regresi**"
   ],
   "id": "11deb4428234ba00"
  },
  {
   "metadata": {
    "ExecuteTime": {
     "end_time": "2025-06-16T15:53:46.786584Z",
     "start_time": "2025-06-16T15:53:34.619314Z"
    }
   },
   "cell_type": "code",
   "source": [
    "# Membuat objek imputer\n",
    "imputer = IterativeImputer(estimator=RandomForestRegressor(random_state=42), random_state=42, missing_values=0)\n",
    "\n",
    "# Melakukan imputasi menggunakan data latih dan langsung diterapkan dengan transform\n",
    "X_train_imputed = X_train.copy()\n",
    "X_train_imputed[zero_columns] = imputer.fit_transform(X_train[zero_columns])\n",
    "\n",
    "# Menerapkan imputasi pada data uji\n",
    "X_test_imputed = X_test.copy()\n",
    "X_test_imputed[zero_columns] = imputer.transform(X_test[zero_columns])\n",
    "\n",
    "X_train_imputed"
   ],
   "id": "eb1cb5752afb8983",
   "outputs": [
    {
     "name": "stderr",
     "output_type": "stream",
     "text": [
      "/home/refanzzzz/miniconda3/envs/diabetes-predictive-analytic/lib/python3.12/site-packages/sklearn/impute/_iterative.py:895: ConvergenceWarning: [IterativeImputer] Early stopping criterion not reached.\n",
      "  warnings.warn(\n"
     ]
    },
    {
     "data": {
      "text/plain": [
       "     Pregnancies  Glucose  BloodPressure  SkinThickness  Insulin   BMI  \\\n",
       "353            1     90.0           62.0          12.00    43.00  27.2   \n",
       "711            5    126.0           78.0          27.00    22.00  29.6   \n",
       "373            2    105.0           58.0          40.00    94.00  34.9   \n",
       "46             1    146.0           56.0          28.21   170.04  29.7   \n",
       "682            0     95.0           64.0          39.00   105.00  44.6   \n",
       "..           ...      ...            ...            ...      ...   ...   \n",
       "451            2    134.0           70.0          28.92   138.81  28.9   \n",
       "113            4     76.0           62.0          30.63    55.12  34.0   \n",
       "556            1     97.0           70.0          40.00   118.23  38.1   \n",
       "667           10    111.0           70.0          27.00   123.77  27.5   \n",
       "107            4    144.0           58.0          28.00   140.00  29.5   \n",
       "\n",
       "     DiabetesPedigreeFunction  Age  \n",
       "353                     0.580   24  \n",
       "711                     0.439   40  \n",
       "373                     0.225   25  \n",
       "46                      0.564   29  \n",
       "682                     0.366   22  \n",
       "..                        ...  ...  \n",
       "451                     0.542   23  \n",
       "113                     0.391   25  \n",
       "556                     0.218   30  \n",
       "667                     0.141   40  \n",
       "107                     0.287   37  \n",
       "\n",
       "[614 rows x 8 columns]"
      ],
      "text/html": [
       "<div>\n",
       "<style scoped>\n",
       "    .dataframe tbody tr th:only-of-type {\n",
       "        vertical-align: middle;\n",
       "    }\n",
       "\n",
       "    .dataframe tbody tr th {\n",
       "        vertical-align: top;\n",
       "    }\n",
       "\n",
       "    .dataframe thead th {\n",
       "        text-align: right;\n",
       "    }\n",
       "</style>\n",
       "<table border=\"1\" class=\"dataframe\">\n",
       "  <thead>\n",
       "    <tr style=\"text-align: right;\">\n",
       "      <th></th>\n",
       "      <th>Pregnancies</th>\n",
       "      <th>Glucose</th>\n",
       "      <th>BloodPressure</th>\n",
       "      <th>SkinThickness</th>\n",
       "      <th>Insulin</th>\n",
       "      <th>BMI</th>\n",
       "      <th>DiabetesPedigreeFunction</th>\n",
       "      <th>Age</th>\n",
       "    </tr>\n",
       "  </thead>\n",
       "  <tbody>\n",
       "    <tr>\n",
       "      <th>353</th>\n",
       "      <td>1</td>\n",
       "      <td>90.0</td>\n",
       "      <td>62.0</td>\n",
       "      <td>12.00</td>\n",
       "      <td>43.00</td>\n",
       "      <td>27.2</td>\n",
       "      <td>0.580</td>\n",
       "      <td>24</td>\n",
       "    </tr>\n",
       "    <tr>\n",
       "      <th>711</th>\n",
       "      <td>5</td>\n",
       "      <td>126.0</td>\n",
       "      <td>78.0</td>\n",
       "      <td>27.00</td>\n",
       "      <td>22.00</td>\n",
       "      <td>29.6</td>\n",
       "      <td>0.439</td>\n",
       "      <td>40</td>\n",
       "    </tr>\n",
       "    <tr>\n",
       "      <th>373</th>\n",
       "      <td>2</td>\n",
       "      <td>105.0</td>\n",
       "      <td>58.0</td>\n",
       "      <td>40.00</td>\n",
       "      <td>94.00</td>\n",
       "      <td>34.9</td>\n",
       "      <td>0.225</td>\n",
       "      <td>25</td>\n",
       "    </tr>\n",
       "    <tr>\n",
       "      <th>46</th>\n",
       "      <td>1</td>\n",
       "      <td>146.0</td>\n",
       "      <td>56.0</td>\n",
       "      <td>28.21</td>\n",
       "      <td>170.04</td>\n",
       "      <td>29.7</td>\n",
       "      <td>0.564</td>\n",
       "      <td>29</td>\n",
       "    </tr>\n",
       "    <tr>\n",
       "      <th>682</th>\n",
       "      <td>0</td>\n",
       "      <td>95.0</td>\n",
       "      <td>64.0</td>\n",
       "      <td>39.00</td>\n",
       "      <td>105.00</td>\n",
       "      <td>44.6</td>\n",
       "      <td>0.366</td>\n",
       "      <td>22</td>\n",
       "    </tr>\n",
       "    <tr>\n",
       "      <th>...</th>\n",
       "      <td>...</td>\n",
       "      <td>...</td>\n",
       "      <td>...</td>\n",
       "      <td>...</td>\n",
       "      <td>...</td>\n",
       "      <td>...</td>\n",
       "      <td>...</td>\n",
       "      <td>...</td>\n",
       "    </tr>\n",
       "    <tr>\n",
       "      <th>451</th>\n",
       "      <td>2</td>\n",
       "      <td>134.0</td>\n",
       "      <td>70.0</td>\n",
       "      <td>28.92</td>\n",
       "      <td>138.81</td>\n",
       "      <td>28.9</td>\n",
       "      <td>0.542</td>\n",
       "      <td>23</td>\n",
       "    </tr>\n",
       "    <tr>\n",
       "      <th>113</th>\n",
       "      <td>4</td>\n",
       "      <td>76.0</td>\n",
       "      <td>62.0</td>\n",
       "      <td>30.63</td>\n",
       "      <td>55.12</td>\n",
       "      <td>34.0</td>\n",
       "      <td>0.391</td>\n",
       "      <td>25</td>\n",
       "    </tr>\n",
       "    <tr>\n",
       "      <th>556</th>\n",
       "      <td>1</td>\n",
       "      <td>97.0</td>\n",
       "      <td>70.0</td>\n",
       "      <td>40.00</td>\n",
       "      <td>118.23</td>\n",
       "      <td>38.1</td>\n",
       "      <td>0.218</td>\n",
       "      <td>30</td>\n",
       "    </tr>\n",
       "    <tr>\n",
       "      <th>667</th>\n",
       "      <td>10</td>\n",
       "      <td>111.0</td>\n",
       "      <td>70.0</td>\n",
       "      <td>27.00</td>\n",
       "      <td>123.77</td>\n",
       "      <td>27.5</td>\n",
       "      <td>0.141</td>\n",
       "      <td>40</td>\n",
       "    </tr>\n",
       "    <tr>\n",
       "      <th>107</th>\n",
       "      <td>4</td>\n",
       "      <td>144.0</td>\n",
       "      <td>58.0</td>\n",
       "      <td>28.00</td>\n",
       "      <td>140.00</td>\n",
       "      <td>29.5</td>\n",
       "      <td>0.287</td>\n",
       "      <td>37</td>\n",
       "    </tr>\n",
       "  </tbody>\n",
       "</table>\n",
       "<p>614 rows × 8 columns</p>\n",
       "</div>"
      ]
     },
     "execution_count": 31,
     "metadata": {},
     "output_type": "execute_result"
    }
   ],
   "execution_count": 31
  },
  {
   "metadata": {},
   "cell_type": "markdown",
   "source": [
    "**Insight:**\n",
    "\n",
    "- Untuk step ketiga dari Data Preparation adalah melakukan imputasi dengan teknik regresi pada kolom yang memiliki nilai minimal 0 karena dataset ini berisi kondisi fisiologis dari manusia. Jadi untuk fitur Glucose, BloodPressure, SkinThickness, Insulin dan BMI yang memiliki nilai minimal 0 perlu ditangani karena ini kondisi tidak logis.\n",
    "\n",
    "- Imputasi regresi adalah metode untuk mengisi nilai yang hilang (missing values) dengan cara memprediksi nilai tersebut berdasarkan hubungannya dengan fitur-fitur lain yang lengkap dalam dataset. Metode ini jauh lebih \"cerdas\" daripada imputasi sederhana (seperti mengisi dengan mean atau median) karena ia mempertahankan struktur dan korelasi antar variabel.\n"
   ],
   "id": "b03e6037a0c03cf7"
  },
  {
   "metadata": {},
   "cell_type": "markdown",
   "source": [
    "### **Standardization of Features**\n",
    "\n",
    "**Melakukan scaling fitur menggunakan MinMaxScaler() untuk mengubah skala menjadi rentang 0 - 1**"
   ],
   "id": "4af71100bb269114"
  },
  {
   "metadata": {
    "ExecuteTime": {
     "end_time": "2025-06-16T15:53:46.891632Z",
     "start_time": "2025-06-16T15:53:46.882642Z"
    }
   },
   "cell_type": "code",
   "source": [
    "# Standarisasi fitur numerik\n",
    "scaler = MinMaxScaler()\n",
    "\n",
    "X_train_std = scaler.fit_transform(X_train_imputed)\n",
    "X_test_std = scaler.transform(X_test_imputed)\n",
    "\n",
    "X_train_std = pd.DataFrame(X_train_std, columns=X_train.columns)\n",
    "X_test_std = pd.DataFrame(X_test_std, columns=X_test.columns)"
   ],
   "id": "37637897af2e6414",
   "outputs": [],
   "execution_count": 32
  },
  {
   "metadata": {},
   "cell_type": "markdown",
   "source": [
    "**Insight:**\n",
    "\n",
    "Untuk step selanjutnya pada tahap Data Preparation adalah melakukan scaling fitur menggunakan MinMaxScaler(). Scaling fitur adalah proses untuk menyamakan skala atau rentang nilai dari semua fitur numerik dalam sebuah dataset. MinMaxScaler adalah salah satu teknik spesifik untuk melakukan feature scaling. Cara kerjanya sangat sederhana: ia mengubah setiap nilai dalam sebuah fitur sehingga berada dalam rentang tertentu, biasanya antara 0 dan 1."
   ],
   "id": "ccf1c7fa34e26700"
  },
  {
   "cell_type": "markdown",
   "id": "6929bc20e041ee32",
   "metadata": {},
   "source": [
    "### **SMOTE Oversampling**\n",
    "\n",
    "**Mengatasi kelas minoritas dengan melakukan Oversampling dengan metode SMOTE**"
   ]
  },
  {
   "cell_type": "code",
   "id": "257691c6b5506622",
   "metadata": {
    "ExecuteTime": {
     "end_time": "2025-06-16T15:53:47.092714Z",
     "start_time": "2025-06-16T15:53:47.087124Z"
    }
   },
   "source": [
    "# Mengecek distribusi kelas target\n",
    "Counter(y_train.map({0: \"Non-Diabetes\", 1: \"Diabetes\"}))"
   ],
   "outputs": [
    {
     "data": {
      "text/plain": [
       "Counter({'Non-Diabetes': 400, 'Diabetes': 214})"
      ]
     },
     "execution_count": 33,
     "metadata": {},
     "output_type": "execute_result"
    }
   ],
   "execution_count": 33
  },
  {
   "cell_type": "code",
   "id": "65974e37c55200ac",
   "metadata": {
    "ExecuteTime": {
     "end_time": "2025-06-16T15:53:47.371386Z",
     "start_time": "2025-06-16T15:53:47.347072Z"
    }
   },
   "source": [
    "# Inisialisasi SMOTE\n",
    "smote = SMOTE(random_state=42)\n",
    "\n",
    "# Melakukan oversampling pada data train\n",
    "X_train_resampled, y_train_resampled = smote.fit_resample(X_train_std, y_train)\n",
    "\n",
    "# Menampilkan distribusi kelas setelah SMOTE\n",
    "print(\"Distribusi kelas setelah SMOTE:\", Counter(y_train_resampled.map({0: \"Non-Diabetes\", 1: \"Diabetes\"})))\n",
    "\n",
    "# Mengubah hasil menjadi DataFrame untuk analisis lebih lanjut\n",
    "y_train_resampled = pd.Series(y_train_resampled, name='Target')\n",
    "\n",
    "X_train_resampled"
   ],
   "outputs": [
    {
     "name": "stdout",
     "output_type": "stream",
     "text": [
      "Distribusi kelas setelah SMOTE: Counter({'Non-Diabetes': 400, 'Diabetes': 400})\n"
     ]
    },
    {
     "data": {
      "text/plain": [
       "     Pregnancies   Glucose  BloodPressure  SkinThickness   Insulin       BMI  \\\n",
       "0       0.058824  0.237762       0.387755       0.054348  0.038409  0.184049   \n",
       "1       0.294118  0.489510       0.551020       0.217391  0.009602  0.233129   \n",
       "2       0.117647  0.342657       0.346939       0.358696  0.108368  0.341513   \n",
       "3       0.058824  0.629371       0.326531       0.230543  0.212675  0.235174   \n",
       "4       0.000000  0.272727       0.408163       0.347826  0.123457  0.539877   \n",
       "..           ...       ...            ...            ...       ...       ...   \n",
       "795     0.018647  0.442433       0.631653       0.448565  0.290576  0.589699   \n",
       "796     0.302493  0.929074       0.397993       0.282609  0.431783  0.269779   \n",
       "797     0.056290  0.488908       0.495427       0.151706  0.149392  0.194662   \n",
       "798     0.000000  0.453577       0.463401       0.236556  0.161360  0.296416   \n",
       "799     0.529412  0.462840       0.329855       0.270169  0.177998  0.309222   \n",
       "\n",
       "     DiabetesPedigreeFunction       Age  \n",
       "0                    0.220935  0.050000  \n",
       "1                    0.158129  0.316667  \n",
       "2                    0.062806  0.066667  \n",
       "3                    0.213808  0.133333  \n",
       "4                    0.125612  0.016667  \n",
       "..                        ...       ...  \n",
       "795                  0.176107  0.166667  \n",
       "796                  0.229977  0.139266  \n",
       "797                  0.085528  0.239367  \n",
       "798                  0.029190  0.044829  \n",
       "799                  0.454008  0.204654  \n",
       "\n",
       "[800 rows x 8 columns]"
      ],
      "text/html": [
       "<div>\n",
       "<style scoped>\n",
       "    .dataframe tbody tr th:only-of-type {\n",
       "        vertical-align: middle;\n",
       "    }\n",
       "\n",
       "    .dataframe tbody tr th {\n",
       "        vertical-align: top;\n",
       "    }\n",
       "\n",
       "    .dataframe thead th {\n",
       "        text-align: right;\n",
       "    }\n",
       "</style>\n",
       "<table border=\"1\" class=\"dataframe\">\n",
       "  <thead>\n",
       "    <tr style=\"text-align: right;\">\n",
       "      <th></th>\n",
       "      <th>Pregnancies</th>\n",
       "      <th>Glucose</th>\n",
       "      <th>BloodPressure</th>\n",
       "      <th>SkinThickness</th>\n",
       "      <th>Insulin</th>\n",
       "      <th>BMI</th>\n",
       "      <th>DiabetesPedigreeFunction</th>\n",
       "      <th>Age</th>\n",
       "    </tr>\n",
       "  </thead>\n",
       "  <tbody>\n",
       "    <tr>\n",
       "      <th>0</th>\n",
       "      <td>0.058824</td>\n",
       "      <td>0.237762</td>\n",
       "      <td>0.387755</td>\n",
       "      <td>0.054348</td>\n",
       "      <td>0.038409</td>\n",
       "      <td>0.184049</td>\n",
       "      <td>0.220935</td>\n",
       "      <td>0.050000</td>\n",
       "    </tr>\n",
       "    <tr>\n",
       "      <th>1</th>\n",
       "      <td>0.294118</td>\n",
       "      <td>0.489510</td>\n",
       "      <td>0.551020</td>\n",
       "      <td>0.217391</td>\n",
       "      <td>0.009602</td>\n",
       "      <td>0.233129</td>\n",
       "      <td>0.158129</td>\n",
       "      <td>0.316667</td>\n",
       "    </tr>\n",
       "    <tr>\n",
       "      <th>2</th>\n",
       "      <td>0.117647</td>\n",
       "      <td>0.342657</td>\n",
       "      <td>0.346939</td>\n",
       "      <td>0.358696</td>\n",
       "      <td>0.108368</td>\n",
       "      <td>0.341513</td>\n",
       "      <td>0.062806</td>\n",
       "      <td>0.066667</td>\n",
       "    </tr>\n",
       "    <tr>\n",
       "      <th>3</th>\n",
       "      <td>0.058824</td>\n",
       "      <td>0.629371</td>\n",
       "      <td>0.326531</td>\n",
       "      <td>0.230543</td>\n",
       "      <td>0.212675</td>\n",
       "      <td>0.235174</td>\n",
       "      <td>0.213808</td>\n",
       "      <td>0.133333</td>\n",
       "    </tr>\n",
       "    <tr>\n",
       "      <th>4</th>\n",
       "      <td>0.000000</td>\n",
       "      <td>0.272727</td>\n",
       "      <td>0.408163</td>\n",
       "      <td>0.347826</td>\n",
       "      <td>0.123457</td>\n",
       "      <td>0.539877</td>\n",
       "      <td>0.125612</td>\n",
       "      <td>0.016667</td>\n",
       "    </tr>\n",
       "    <tr>\n",
       "      <th>...</th>\n",
       "      <td>...</td>\n",
       "      <td>...</td>\n",
       "      <td>...</td>\n",
       "      <td>...</td>\n",
       "      <td>...</td>\n",
       "      <td>...</td>\n",
       "      <td>...</td>\n",
       "      <td>...</td>\n",
       "    </tr>\n",
       "    <tr>\n",
       "      <th>795</th>\n",
       "      <td>0.018647</td>\n",
       "      <td>0.442433</td>\n",
       "      <td>0.631653</td>\n",
       "      <td>0.448565</td>\n",
       "      <td>0.290576</td>\n",
       "      <td>0.589699</td>\n",
       "      <td>0.176107</td>\n",
       "      <td>0.166667</td>\n",
       "    </tr>\n",
       "    <tr>\n",
       "      <th>796</th>\n",
       "      <td>0.302493</td>\n",
       "      <td>0.929074</td>\n",
       "      <td>0.397993</td>\n",
       "      <td>0.282609</td>\n",
       "      <td>0.431783</td>\n",
       "      <td>0.269779</td>\n",
       "      <td>0.229977</td>\n",
       "      <td>0.139266</td>\n",
       "    </tr>\n",
       "    <tr>\n",
       "      <th>797</th>\n",
       "      <td>0.056290</td>\n",
       "      <td>0.488908</td>\n",
       "      <td>0.495427</td>\n",
       "      <td>0.151706</td>\n",
       "      <td>0.149392</td>\n",
       "      <td>0.194662</td>\n",
       "      <td>0.085528</td>\n",
       "      <td>0.239367</td>\n",
       "    </tr>\n",
       "    <tr>\n",
       "      <th>798</th>\n",
       "      <td>0.000000</td>\n",
       "      <td>0.453577</td>\n",
       "      <td>0.463401</td>\n",
       "      <td>0.236556</td>\n",
       "      <td>0.161360</td>\n",
       "      <td>0.296416</td>\n",
       "      <td>0.029190</td>\n",
       "      <td>0.044829</td>\n",
       "    </tr>\n",
       "    <tr>\n",
       "      <th>799</th>\n",
       "      <td>0.529412</td>\n",
       "      <td>0.462840</td>\n",
       "      <td>0.329855</td>\n",
       "      <td>0.270169</td>\n",
       "      <td>0.177998</td>\n",
       "      <td>0.309222</td>\n",
       "      <td>0.454008</td>\n",
       "      <td>0.204654</td>\n",
       "    </tr>\n",
       "  </tbody>\n",
       "</table>\n",
       "<p>800 rows × 8 columns</p>\n",
       "</div>"
      ]
     },
     "execution_count": 34,
     "metadata": {},
     "output_type": "execute_result"
    }
   ],
   "execution_count": 34
  },
  {
   "metadata": {},
   "cell_type": "markdown",
   "source": [
    "**Insight:**\n",
    "\n",
    "- Untuk langkah selanjutnya melakukan oversampling dengan teknik SMOTE. Terlihat pada hasil di atas, kelas non-diabetes jumlahnya 400 dan kelas diabetes 214. Ini menandakan kondisi imbalance class. Masalah ini perlu dilakukan oversamppling agar performa model juga bagus saat memprediksi kelas minoritas dan tidak bias ke kelas mayoritas.\n",
    "- Oversampling adalah proses untuk menangani masalah kelas tidak seimbang (imbalanced class), di mana jumlah data pada satu kelas (kelas mayoritas) jauh lebih banyak daripada kelas lainnya (kelas minoritas).\n",
    "- SMOTE (Synthetic Minority Over-sampling Technique) adalah sebuah teknik cerdas untuk mengatasi masalah kelas tidak seimbang (imbalanced class) dengan cara memperbanyak data pada kelas minoritas. Berbeda dengan metode sederhana yang hanya menyalin data (yang bisa menyebabkan overfitting), SMOTE bekerja dengan menciptakan data baru yang sintetis (buatan)."
   ],
   "id": "66fed7f7fb6f720"
  },
  {
   "cell_type": "markdown",
   "id": "1aae92149cce7aa",
   "metadata": {},
   "source": [
    "### **Dimension Reduction**\n",
    "\n",
    "**Melakukan reduksi dimensi pada kolom yang memiliki korelasi yang cukup tinggi**"
   ]
  },
  {
   "cell_type": "code",
   "id": "852ec395923acf5",
   "metadata": {
    "ExecuteTime": {
     "end_time": "2025-06-16T15:53:47.722282Z",
     "start_time": "2025-06-16T15:53:47.703271Z"
    }
   },
   "source": [
    "# Inisialisasi PCA\n",
    "pca = PCA(n_components=1, random_state=42)\n",
    "\n",
    "# Melakukan PCA untuk data train pada kolom yang memiliki korelasi cukup tinggi\n",
    "X_train_pca = pca.fit_transform(X_train_resampled[high_corr_cols])\n",
    "\n",
    "# Menerapkan PCA untuk data latih\n",
    "X_test_pca = pca.transform(X_test_std[high_corr_cols])\n",
    "\n",
    "# Membuat dataframe baru untuk menyimpan hasil reduksi\n",
    "df_train_pca = pd.DataFrame(data=X_train_pca, columns=['pca_1'])\n",
    "df_test_pca = pd.DataFrame(data=X_test_pca, columns=['pca_1'])\n",
    "\n",
    "X_train_final = pd.concat([\n",
    "    X_train_resampled.drop(columns=high_corr_cols),\n",
    "    df_train_pca\n",
    "], axis=1)\n",
    "\n",
    "X_test_final = pd.concat([\n",
    "    X_test_std.drop(columns=high_corr_cols),\n",
    "    df_test_pca\n",
    "], axis=1)\n",
    "\n",
    "X_train_final.head(5)"
   ],
   "outputs": [
    {
     "data": {
      "text/plain": [
       "    Glucose  BloodPressure  SkinThickness   Insulin       BMI  \\\n",
       "0  0.237762       0.387755       0.054348  0.038409  0.184049   \n",
       "1  0.489510       0.551020       0.217391  0.009602  0.233129   \n",
       "2  0.342657       0.346939       0.358696  0.108368  0.341513   \n",
       "3  0.629371       0.326531       0.230543  0.212675  0.235174   \n",
       "4  0.272727       0.408163       0.347826  0.123457  0.539877   \n",
       "\n",
       "   DiabetesPedigreeFunction     pca_1  \n",
       "0                  0.220935 -0.237707  \n",
       "1                  0.158129  0.115737  \n",
       "2                  0.062806 -0.182943  \n",
       "3                  0.213808 -0.181713  \n",
       "4                  0.125612 -0.303670  "
      ],
      "text/html": [
       "<div>\n",
       "<style scoped>\n",
       "    .dataframe tbody tr th:only-of-type {\n",
       "        vertical-align: middle;\n",
       "    }\n",
       "\n",
       "    .dataframe tbody tr th {\n",
       "        vertical-align: top;\n",
       "    }\n",
       "\n",
       "    .dataframe thead th {\n",
       "        text-align: right;\n",
       "    }\n",
       "</style>\n",
       "<table border=\"1\" class=\"dataframe\">\n",
       "  <thead>\n",
       "    <tr style=\"text-align: right;\">\n",
       "      <th></th>\n",
       "      <th>Glucose</th>\n",
       "      <th>BloodPressure</th>\n",
       "      <th>SkinThickness</th>\n",
       "      <th>Insulin</th>\n",
       "      <th>BMI</th>\n",
       "      <th>DiabetesPedigreeFunction</th>\n",
       "      <th>pca_1</th>\n",
       "    </tr>\n",
       "  </thead>\n",
       "  <tbody>\n",
       "    <tr>\n",
       "      <th>0</th>\n",
       "      <td>0.237762</td>\n",
       "      <td>0.387755</td>\n",
       "      <td>0.054348</td>\n",
       "      <td>0.038409</td>\n",
       "      <td>0.184049</td>\n",
       "      <td>0.220935</td>\n",
       "      <td>-0.237707</td>\n",
       "    </tr>\n",
       "    <tr>\n",
       "      <th>1</th>\n",
       "      <td>0.489510</td>\n",
       "      <td>0.551020</td>\n",
       "      <td>0.217391</td>\n",
       "      <td>0.009602</td>\n",
       "      <td>0.233129</td>\n",
       "      <td>0.158129</td>\n",
       "      <td>0.115737</td>\n",
       "    </tr>\n",
       "    <tr>\n",
       "      <th>2</th>\n",
       "      <td>0.342657</td>\n",
       "      <td>0.346939</td>\n",
       "      <td>0.358696</td>\n",
       "      <td>0.108368</td>\n",
       "      <td>0.341513</td>\n",
       "      <td>0.062806</td>\n",
       "      <td>-0.182943</td>\n",
       "    </tr>\n",
       "    <tr>\n",
       "      <th>3</th>\n",
       "      <td>0.629371</td>\n",
       "      <td>0.326531</td>\n",
       "      <td>0.230543</td>\n",
       "      <td>0.212675</td>\n",
       "      <td>0.235174</td>\n",
       "      <td>0.213808</td>\n",
       "      <td>-0.181713</td>\n",
       "    </tr>\n",
       "    <tr>\n",
       "      <th>4</th>\n",
       "      <td>0.272727</td>\n",
       "      <td>0.408163</td>\n",
       "      <td>0.347826</td>\n",
       "      <td>0.123457</td>\n",
       "      <td>0.539877</td>\n",
       "      <td>0.125612</td>\n",
       "      <td>-0.303670</td>\n",
       "    </tr>\n",
       "  </tbody>\n",
       "</table>\n",
       "</div>"
      ]
     },
     "execution_count": 35,
     "metadata": {},
     "output_type": "execute_result"
    }
   ],
   "execution_count": 35
  },
  {
   "metadata": {},
   "cell_type": "markdown",
   "source": [
    "**Insight:*\n",
    "\n",
    "- Langkah selanjutnya pada Data Preparation adalah melakukan reduksi dimensi menggunakan PCA. Pada saat melakukan EDA ditemukan fitur Age dan Pregnancies memiliki nilai korlasi yang cukup tinggi. Hal ini dapat disebut dengan masalah multikolinearitas. Multikolinearitas adalah suatu kondisi di mana dua atau lebih variabel independen (fitur prediktor) memiliki korelasi yang sangat tinggi satu sama lain. Artinya, satu variabel prediktor dapat diprediksi dengan cukup akurat dari variabel prediktor lainnya.\n",
    "- PCA adalah sebuah teknik reduksi dimensi. Tujuannya adalah untuk mengubah satu set fitur yang mungkin saling berkorelasi menjadi satu set fitur baru yang lebih kecil dan tidak saling berkorelasi. Fitur-fitur baru ini disebut Principal Components (PC) atau Komponen Utama.\n",
    "- Pada tahap ini, fitur Age dan Pregnancies diterapkan teknik PCA dan menjadi satu fitur independe dengan nama pca_1\n"
   ],
   "id": "fd457b02b7b1d666"
  },
  {
   "cell_type": "markdown",
   "id": "d4fa5e1fa4c4ddcc",
   "metadata": {},
   "source": [
    "## **Building Model**\n",
    "\n",
    "**Membangun model prediksi diabetes dengan tiga algoritma yaitu Random Forest, K-Nearest-Neighbors dan Logistic Regression**"
   ]
  },
  {
   "cell_type": "code",
   "id": "182cc4e5e8e1167d",
   "metadata": {
    "ExecuteTime": {
     "end_time": "2025-06-16T15:53:48.563805Z",
     "start_time": "2025-06-16T15:53:48.252766Z"
    }
   },
   "source": [
    "# Pelatihan model\n",
    "random_forest = RandomForestClassifier(random_state=42).fit(X_train_final, y_train_resampled)\n",
    "knn = KNeighborsClassifier().fit(X_train_final, y_train_resampled)\n",
    "lr = LogisticRegression(random_state=42).fit(X_train_final, y_train_resampled)\n",
    "\n",
    "print(\"Training model selesai\")"
   ],
   "outputs": [
    {
     "name": "stdout",
     "output_type": "stream",
     "text": [
      "Training model selesai\n"
     ]
    }
   ],
   "execution_count": 36
  },
  {
   "metadata": {},
   "cell_type": "markdown",
   "source": [
    "**Insight:**\n",
    "\n",
    "- Tahapan kode ini adalah pelatihan (training) tiga model klasifikasi machine learning yang berbeda menggunakan data yang sama.\n",
    "- Tiga algoritma klasifikasi yang berbeda dipilih:\n",
    "    - RandomForestClassifier: Sebuah model ensemble yang kuat berbasis pohon keputusan.\n",
    "    - KNeighborsClassifier (KNN): Sebuah model berbasis jarak yang mengklasifikasikan data berdasarkan \"tetangga\" terdekatnya.\n",
    "    - LogisticRegression: Sebuah model linear klasik untuk masalah klasifikasi biner.\n",
    "- Setiap model yang telah dilatih disimpan ke dalam variabelnya masing-masing (random_forest, knn, lr) untuk digunakan pada tahap selanjutnya, yaitu evaluasi dan prediksi."
   ],
   "id": "c235face8b3bdbf8"
  },
  {
   "cell_type": "markdown",
   "id": "655b1c43c67ca9ea",
   "metadata": {},
   "source": [
    "## **Evaluation Model**\n",
    "\n",
    "**Melakukan evaluasi model dengan confusion matrix dan melihat performa model berdasarkan metrik akurasi, precision, recall dan f1-score**"
   ]
  },
  {
   "metadata": {
    "ExecuteTime": {
     "end_time": "2025-06-16T15:53:49.287723Z",
     "start_time": "2025-06-16T15:53:49.193918Z"
    }
   },
   "cell_type": "code",
   "source": [
    "# Fungsi untuk mengevaluasi dan mengembalikan hasil sebagai kamus\n",
    "def evaluate_model(model, X_test, y_test):\n",
    "    y_pred = model.predict(X_test)\n",
    "    cm = confusion_matrix(y_test, y_pred)\n",
    "\n",
    "    evaluate_results = {\n",
    "        'Confusion Matrix': cm,\n",
    "        'Accuracy': accuracy_score(y_test, y_pred),\n",
    "        'Precision': precision_score(y_test, y_pred),\n",
    "        'Recall': recall_score(y_test, y_pred),\n",
    "        'F1 Score': f1_score(y_test, y_pred)\n",
    "    }\n",
    "\n",
    "    return evaluate_results\n",
    "\n",
    "\n",
    "# Mengevaluasi setiap model dan mengumpulkan hasilnya\n",
    "results = {\n",
    "    'Random Forest': evaluate_model(random_forest, X_test_final, y_test),\n",
    "    'KNN': evaluate_model(knn, X_test_final, y_test),\n",
    "    'LR': evaluate_model(lr, X_test_final, y_test)\n",
    "}\n",
    "\n",
    "\n",
    "def print_evaluate_model(result_list):\n",
    "    # Memuat dataframe untuk meringkas hasil\n",
    "    summary_df = pd.DataFrame(columns=['Model', 'Accuracy', 'Precision', 'Recall', 'F1 Score'])\n",
    "\n",
    "    # Mengisi dataframe dengan hasil\n",
    "    rows = []\n",
    "    for model_name, metrics in result_list.items():\n",
    "        rows.append({\n",
    "            'Model': model_name,\n",
    "            'Accuracy': metrics['Accuracy'],\n",
    "            'Precision': metrics['Precision'],\n",
    "            'Recall': metrics['Recall'],\n",
    "            'F1 Score': metrics['F1 Score']\n",
    "        })\n",
    "\n",
    "    # Mengkonversi daftar kamus menjadi dataframe\n",
    "    summary_df = pd.DataFrame(rows)\n",
    "\n",
    "    # Menampilkan dataframe\n",
    "    print(summary_df)"
   ],
   "id": "e3e96d899e0b7b4a",
   "outputs": [],
   "execution_count": 37
  },
  {
   "metadata": {},
   "cell_type": "markdown",
   "source": [
    "**Insight:**\n",
    "\n",
    "Kode ini bertujuan untuk mengevaluasi dan membandingkan performa dari tiga model machine learning (Random Forest, KNN, dan Logistic Regression) yang telah dilatih sebelumnya.\n",
    "\n",
    "Prosesnya dibagi menjadi tiga bagian utama:\n",
    "\n",
    "- Fungsi evaluate_model:\n",
    "\n",
    "Ini adalah fungsi pembantu yang bertugas untuk menguji satu model. Ia mengambil model yang sudah dilatih, lalu menggunakannya untuk membuat prediksi pada data uji (X_test_final). Setelah itu, ia menghitung berbagai metrik performa penting—seperti Accuracy, Precision, Recall, F1 Score, dan Confusion Matrix—dengan membandingkan prediksi model dengan jawaban yang sebenarnya (y_test). Hasilnya dikembalikan dalam bentuk kamus (dictionary).\n",
    "\n",
    "- Variabel results:\n",
    "\n",
    "Di bagian ini, fungsi evaluate_model dipanggil untuk setiap model (random_forest, knn, lr).\n",
    "Hasil evaluasi dari ketiga model tersebut dikumpulkan dan disimpan dalam satu variabel kamus bernama results agar terorganisir.\n",
    "\n",
    "- Fungsi print_evaluate_model:\n",
    "\n",
    "Fungsi ini bertugas untuk menyajikan hasil evaluasi agar mudah dibaca.\n",
    "Ia mengambil data dari kamus results, mengubahnya menjadi sebuah tabel (DataFrame pandas), lalu mencetak tabel ringkasan tersebut ke layar.\n",
    "\n",
    "- Dari keluaran di atas"
   ],
   "id": "e3e52b948b78a80e"
  },
  {
   "metadata": {
    "ExecuteTime": {
     "end_time": "2025-06-16T15:53:49.792085Z",
     "start_time": "2025-06-16T15:53:49.780945Z"
    }
   },
   "cell_type": "code",
   "source": "print_evaluate_model(results)",
   "id": "64693ed19484ea97",
   "outputs": [
    {
     "name": "stdout",
     "output_type": "stream",
     "text": [
      "           Model  Accuracy  Precision    Recall  F1 Score\n",
      "0  Random Forest  0.714286   0.586207  0.629630  0.607143\n",
      "1            KNN  0.759740   0.634921  0.740741  0.683761\n",
      "2             LR  0.714286   0.578125  0.685185  0.627119\n"
     ]
    }
   ],
   "execution_count": 38
  },
  {
   "metadata": {},
   "cell_type": "markdown",
   "source": [
    "**Insight:**\n",
    "\n",
    "1. KNN (K-Nearest Neighbors):\n",
    "\n",
    "Model ini adalah performer terbaik dalam pengujian ini. Ia memiliki skor tertinggi untuk Accuracy (76.0%), Precision (63.5%), Recall (74.1%), dan F1 Score (68.4%). Ini menunjukkan bahwa KNN tidak hanya paling akurat secara keseluruhan, tetapi juga memiliki keseimbangan terbaik dalam menemukan kasus positif (Recall) dan memastikan tebakan positifnya benar (Precision).\n",
    "\n",
    "2. Logistic Regression (LR):\n",
    "\n",
    "Model ini menempati posisi kedua. Meskipun akurasinya setara dengan Random Forest (71.4%), ia memiliki Recall yang lebih baik (68.5%), yang berarti ia lebih unggul dalam mengidentifikasi kasus positif yang sebenarnya. F1 Score-nya (62.7%) yang lebih tinggi dari Random Forest mengonfirmasi bahwa ia memiliki keseimbangan presisi-recall yang lebih baik.\n",
    "\n",
    "3. Random Forest:\n",
    "\n",
    "Dalam pengujian ini, Random Forest menunjukkan kinerja terendah. Walaupun skornya tidak jauh berbeda dari Logistic Regression, Precision (58.6%) dan Recall (63.0%) yang lebih rendah membuatnya kurang efektif dibandingkan dua model lainnya, yang tercermin dari F1 Score-nya yang paling rendah (60.7%)."
   ],
   "id": "840443e8db6d4720"
  },
  {
   "cell_type": "markdown",
   "id": "bd0ea1c5",
   "metadata": {},
   "source": [
    "**Membuat fungsi untuk melakukan ploting confusion matrix**"
   ]
  },
  {
   "cell_type": "code",
   "id": "aa45d7f4e6c926b0",
   "metadata": {
    "ExecuteTime": {
     "end_time": "2025-06-16T15:53:50.235254Z",
     "start_time": "2025-06-16T15:53:50.230009Z"
    }
   },
   "source": [
    "# Membuat fungsi untuk melakukan ploting hasil evaluasi confusion matrix\n",
    "def plot_confusion_matrix(cm):\n",
    "    plt.figure(figsize=(6, 5))\n",
    "    sns.heatmap(cm, annot=True, fmt='d', cmap='Blues')\n",
    "    plt.xlabel('Predicted')\n",
    "    plt.ylabel('Actual')\n",
    "    plt.title('Confusion Matrix')\n",
    "    plt.show()"
   ],
   "outputs": [],
   "execution_count": 39
  },
  {
   "metadata": {},
   "cell_type": "markdown",
   "source": [
    "**Insight:**\n",
    "\n",
    "Fungsi ini bertujuan untuk membuat dan menampilkan visualisasi dari sebuah confusion matrix agar mudah dibaca dan diinterpretasikan."
   ],
   "id": "5180ce71e1f7a2fc"
  },
  {
   "cell_type": "markdown",
   "id": "abc37ae9",
   "metadata": {},
   "source": [
    "**Menampilkan confusion matrix pada model Random Forest sebelum dilakukan hyperparameter tuning**"
   ]
  },
  {
   "cell_type": "code",
   "id": "28f3cba6e4a12a13",
   "metadata": {
    "ExecuteTime": {
     "end_time": "2025-06-16T15:53:50.818197Z",
     "start_time": "2025-06-16T15:53:50.634935Z"
    }
   },
   "source": [
    "# Plot hasil model Random Forest\n",
    "plot_confusion_matrix(results['Random Forest']['Confusion Matrix'])"
   ],
   "outputs": [
    {
     "data": {
      "text/plain": [
       "<Figure size 600x500 with 2 Axes>"
      ],
      "image/png": "[encoded data removed]"
     },
     "metadata": {},
     "output_type": "display_data"
    }
   ],
   "execution_count": 40
  },
  {
   "metadata": {},
   "cell_type": "markdown",
   "source": [
    "**Insight:**\n",
    "\n",
    "Pada heatmap di atas adalah hasil confusion matrix pada model Random Forest sebelum dilakukan hyperparameter tuning. Berikut ini adalah ringkasan dari hasil confusion matrix di atas.\n",
    "\n",
    "True Positive (TP): 76 --> Model berhasil menebak 76 kasus sebagai \"Diabetes\" dengan benar.\n",
    "True Negative (TN): 34 --> Model berhasil menebak 34 kasus sebagai \"Non-Diabetes\" dengan benar.\n",
    "False Positive (FP): 20 -->  Model salah menebak 20 kasus sebagai \"Diabetes\", padahal sebenarnya kasus tersebut \"Non-Diabetes\". Ini disebut juga Error Tipe I.\n",
    "False Negative (FN): 24 --> Model salah menebak 24 kasus sebagai \"Non-Diabetes\", padahal sebenarnya kasus tersebut \"Diabetes\". Ini disebut juga Error Tipe II."
   ],
   "id": "a6d8683c5ad7bf90"
  },
  {
   "cell_type": "markdown",
   "id": "2d980aa1",
   "metadata": {},
   "source": [
    "**Menampilkan confusion matrix pada model K-Nearest-Neighbors sebelum dilakukan hyperparameter tuning**"
   ]
  },
  {
   "cell_type": "code",
   "id": "d46ddc0b54dace3",
   "metadata": {
    "ExecuteTime": {
     "end_time": "2025-06-16T15:53:51.391204Z",
     "start_time": "2025-06-16T15:53:51.183479Z"
    }
   },
   "source": [
    "# Plot hasil model Ada Boost\n",
    "plot_confusion_matrix(results['KNN']['Confusion Matrix'])"
   ],
   "outputs": [
    {
     "data": {
      "text/plain": [
       "<Figure size 600x500 with 2 Axes>"
      ],
      "image/png": "[encoded data removed]"
     },
     "metadata": {},
     "output_type": "display_data"
    }
   ],
   "execution_count": 41
  },
  {
   "metadata": {},
   "cell_type": "markdown",
   "source": [
    "**Insight:**\n",
    "\n",
    "Pada heatmap di atas adalah hasil confusion matrix pada model KNN sebelum dilakukan hyperparameter tuning. Berikut ini adalah ringkasan dari hasil confusion matrix di atas.\n",
    "\n",
    "True Positive (TP): 77  --> Model berhasil menebak 77 kasus sebagai \"Diabetes\" dengan benar.\n",
    "True Negative (TN): 40 --> Model berhasil menebak 40 kasus sebagai \"Non-Diabetes\" dengan benar.\n",
    "False Positive (FP): 14 -->  Model salah menebak 14 kasus sebagai \"Diabetes\", padahal sebenarnya kasus tersebut \"Non-Diabetes\". Ini disebut juga Error Tipe I.\n",
    "False Negative (FN): 23 --> Model salah menebak 23 kasus sebagai \"Non-Diabetes\", padahal sebenarnya kasus tersebut \"Diabetes\". Ini disebut juga Error Tipe II."
   ],
   "id": "96f7ba0a9394a9de"
  },
  {
   "cell_type": "markdown",
   "id": "ea5e019b",
   "metadata": {},
   "source": [
    "**Menampilkan confusion matrix pada model Logistic Regression sebelum dilakukan hyperparameter tuning**"
   ]
  },
  {
   "cell_type": "code",
   "id": "1dd653852a2c89b2",
   "metadata": {
    "ExecuteTime": {
     "end_time": "2025-06-16T15:53:51.904163Z",
     "start_time": "2025-06-16T15:53:51.695995Z"
    }
   },
   "source": [
    "plot_confusion_matrix(results['LR']['Confusion Matrix'])"
   ],
   "outputs": [
    {
     "data": {
      "text/plain": [
       "<Figure size 600x500 with 2 Axes>"
      ],
      "image/png": "[encoded data removed]"
     },
     "metadata": {},
     "output_type": "display_data"
    }
   ],
   "execution_count": 42
  },
  {
   "metadata": {},
   "cell_type": "markdown",
   "source": [
    "**Insight:**\n",
    "\n",
    "Pada heatmap di atas adalah hasil confusion matrix pada model Logistic Regression sebelum dilakukan hyperparameter tuning. Berikut ini adalah ringkasan dari hasil confusion matrix di atas.\n",
    "\n",
    "True Positive (TP): 73 --> Model berhasil menebak 73 kasus sebagai \"Diabetes\" dengan benar.\n",
    "True Negative (TN): 37 --> Model berhasil menebak 37 kasus sebagai \"Non-Diabetes\" dengan benar.\n",
    "False Positive (FP): 17 -->  Model salah menebak 17 kasus sebagai \"Diabetes\", padahal sebenarnya kasus tersebut \"Non-Diabetes\". Ini disebut juga Error Tipe I.\n",
    "False Negative (FN): 27 --> Model salah menebak 27 kasus sebagai \"Non-Diabetes\", padahal sebenarnya kasus tersebut \"Diabetes\". Ini disebut juga Error Tipe II."
   ],
   "id": "1893e94386b992e8"
  },
  {
   "cell_type": "markdown",
   "id": "28d74dad2cf978f6",
   "metadata": {},
   "source": [
    "## **Tuning Model**\n",
    "\n",
    "**Melakukan hyperparameter tuning menggunakan GridSearchCV pada model Random Forest**"
   ]
  },
  {
   "cell_type": "code",
   "id": "9c2942969ae82a8c",
   "metadata": {
    "ExecuteTime": {
     "end_time": "2025-06-16T15:58:31.809491Z",
     "start_time": "2025-06-16T15:53:52.141865Z"
    }
   },
   "source": [
    "# Definisikan parameter grid untuk Grid Search (Random Forest)\n",
    "param_grid_rf = {\n",
    "    'n_estimators': [10, 50, 100, 300],\n",
    "    'max_depth': np.arange(1, 10, 1),\n",
    "    'min_samples_split': np.arange(2, 10, 1)\n",
    "}\n",
    "\n",
    "# Inisialisasi GridSearchCV\n",
    "grid_search_rf = GridSearchCV(random_forest, param_grid_rf, cv=5, n_jobs=1, verbose=2)\n",
    "grid_search_rf.fit(X_train_final, y_train_resampled)\n",
    "\n",
    "# Output hasil terbaik\n",
    "print(f\"Best parameters for Random Forest: {grid_search_rf.best_params_}\")\n",
    "best_rf_grid = grid_search_rf.best_estimator_\n",
    "\n",
    "# Evaluasi performa model pada test set\n",
    "grid_search_rf_score = best_rf_grid.score(X_test_final, y_test)\n",
    "print((f\"Accuracy RF after Grid Search: {grid_search_rf_score}\"))\n",
    "\n",
    "# Menyimpan hasil tuning\n",
    "n_estimators = grid_search_rf.best_params_['n_estimators']\n",
    "max_depth = grid_search_rf.best_params_['max_depth']\n",
    "min_samples_split = grid_search_rf.best_params_['min_samples_split']"
   ],
   "outputs": [
    {
     "name": "stdout",
     "output_type": "stream",
     "text": [
      "Fitting 5 folds for each of 288 candidates, totalling 1440 fits\n",
      "[CV] END ..max_depth=1, min_samples_split=2, n_estimators=10; total time=   0.0s\n",
      "[CV] END ..max_depth=1, min_samples_split=2, n_estimators=10; total time=   0.0s\n",
      "[CV] END ..max_depth=1, min_samples_split=2, n_estimators=10; total time=   0.0s\n",
      "[CV] END ..max_depth=1, min_samples_split=2, n_estimators=10; total time=   0.0s\n",
      "[CV] END ..max_depth=1, min_samples_split=2, n_estimators=10; total time=   0.0s\n",
      "[CV] END ..max_depth=1, min_samples_split=2, n_estimators=50; total time=   0.1s\n",
      "[CV] END ..max_depth=1, min_samples_split=2, n_estimators=50; total time=   0.1s\n",
      "[CV] END ..max_depth=1, min_samples_split=2, n_estimators=50; total time=   0.1s\n",
      "[CV] END ..max_depth=1, min_samples_split=2, n_estimators=50; total time=   0.1s\n",
      "[CV] END ..max_depth=1, min_samples_split=2, n_estimators=50; total time=   0.1s\n",
      "[CV] END .max_depth=1, min_samples_split=2, n_estimators=100; total time=   0.2s\n",
      "[CV] END .max_depth=1, min_samples_split=2, n_estimators=100; total time=   0.2s\n",
      "[CV] END .max_depth=1, min_samples_split=2, n_estimators=100; total time=   0.1s\n",
      "[CV] END .max_depth=1, min_samples_split=2, n_estimators=100; total time=   0.2s\n",
      "[CV] END .max_depth=1, min_samples_split=2, n_estimators=100; total time=   0.2s\n",
      "[CV] END .max_depth=1, min_samples_split=2, n_estimators=300; total time=   0.5s\n",
      "[CV] END .max_depth=1, min_samples_split=2, n_estimators=300; total time=   0.5s\n",
      "[CV] END .max_depth=1, min_samples_split=2, n_estimators=300; total time=   0.6s\n",
      "[CV] END .max_depth=1, min_samples_split=2, n_estimators=300; total time=   0.7s\n",
      "[CV] END .max_depth=1, min_samples_split=2, n_estimators=300; total time=   0.5s\n",
      "[CV] END ..max_depth=1, min_samples_split=3, n_estimators=10; total time=   0.0s\n",
      "[CV] END ..max_depth=1, min_samples_split=3, n_estimators=10; total time=   0.0s\n",
      "[CV] END ..max_depth=1, min_samples_split=3, n_estimators=10; total time=   0.0s\n",
      "[CV] END ..max_depth=1, min_samples_split=3, n_estimators=10; total time=   0.0s\n",
      "[CV] END ..max_depth=1, min_samples_split=3, n_estimators=10; total time=   0.0s\n",
      "[CV] END ..max_depth=1, min_samples_split=3, n_estimators=50; total time=   0.1s\n",
      "[CV] END ..max_depth=1, min_samples_split=3, n_estimators=50; total time=   0.1s\n",
      "[CV] END ..max_depth=1, min_samples_split=3, n_estimators=50; total time=   0.1s\n",
      "[CV] END ..max_depth=1, min_samples_split=3, n_estimators=50; total time=   0.1s\n",
      "[CV] END ..max_depth=1, min_samples_split=3, n_estimators=50; total time=   0.1s\n",
      "[CV] END .max_depth=1, min_samples_split=3, n_estimators=100; total time=   0.2s\n",
      "[CV] END .max_depth=1, min_samples_split=3, n_estimators=100; total time=   0.1s\n",
      "[CV] END .max_depth=1, min_samples_split=3, n_estimators=100; total time=   0.1s\n",
      "[CV] END .max_depth=1, min_samples_split=3, n_estimators=100; total time=   0.1s\n",
      "[CV] END .max_depth=1, min_samples_split=3, n_estimators=100; total time=   0.1s\n",
      "[CV] END .max_depth=1, min_samples_split=3, n_estimators=300; total time=   0.5s\n",
      "[CV] END .max_depth=1, min_samples_split=3, n_estimators=300; total time=   0.5s\n",
      "[CV] END .max_depth=1, min_samples_split=3, n_estimators=300; total time=   0.3s\n",
      "[CV] END .max_depth=1, min_samples_split=3, n_estimators=300; total time=   0.5s\n",
      "[CV] END .max_depth=1, min_samples_split=3, n_estimators=300; total time=   0.4s\n",
      "[CV] END ..max_depth=1, min_samples_split=4, n_estimators=10; total time=   0.0s\n",
      "[CV] END ..max_depth=1, min_samples_split=4, n_estimators=10; total time=   0.0s\n",
      "[CV] END ..max_depth=1, min_samples_split=4, n_estimators=10; total time=   0.0s\n",
      "[CV] END ..max_depth=1, min_samples_split=4, n_estimators=10; total time=   0.0s\n",
      "[CV] END ..max_depth=1, min_samples_split=4, n_estimators=10; total time=   0.0s\n",
      "[CV] END ..max_depth=1, min_samples_split=4, n_estimators=50; total time=   0.1s\n",
      "[CV] END ..max_depth=1, min_samples_split=4, n_estimators=50; total time=   0.1s\n",
      "[CV] END ..max_depth=1, min_samples_split=4, n_estimators=50; total time=   0.1s\n",
      "[CV] END ..max_depth=1, min_samples_split=4, n_estimators=50; total time=   0.1s\n",
      "[CV] END ..max_depth=1, min_samples_split=4, n_estimators=50; total time=   0.1s\n",
      "[CV] END .max_depth=1, min_samples_split=4, n_estimators=100; total time=   0.2s\n",
      "[CV] END .max_depth=1, min_samples_split=4, n_estimators=100; total time=   0.2s\n",
      "[CV] END .max_depth=1, min_samples_split=4, n_estimators=100; total time=   0.1s\n",
      "[CV] END .max_depth=1, min_samples_split=4, n_estimators=100; total time=   0.1s\n",
      "[CV] END .max_depth=1, min_samples_split=4, n_estimators=100; total time=   0.2s\n",
      "[CV] END .max_depth=1, min_samples_split=4, n_estimators=300; total time=   0.5s\n",
      "[CV] END .max_depth=1, min_samples_split=4, n_estimators=300; total time=   0.3s\n",
      "[CV] END .max_depth=1, min_samples_split=4, n_estimators=300; total time=   0.4s\n",
      "[CV] END .max_depth=1, min_samples_split=4, n_estimators=300; total time=   0.4s\n",
      "[CV] END .max_depth=1, min_samples_split=4, n_estimators=300; total time=   0.4s\n",
      "[CV] END ..max_depth=1, min_samples_split=5, n_estimators=10; total time=   0.0s\n",
      "[CV] END ..max_depth=1, min_samples_split=5, n_estimators=10; total time=   0.0s\n",
      "[CV] END ..max_depth=1, min_samples_split=5, n_estimators=10; total time=   0.0s\n",
      "[CV] END ..max_depth=1, min_samples_split=5, n_estimators=10; total time=   0.0s\n",
      "[CV] END ..max_depth=1, min_samples_split=5, n_estimators=10; total time=   0.0s\n",
      "[CV] END ..max_depth=1, min_samples_split=5, n_estimators=50; total time=   0.1s\n",
      "[CV] END ..max_depth=1, min_samples_split=5, n_estimators=50; total time=   0.1s\n",
      "[CV] END ..max_depth=1, min_samples_split=5, n_estimators=50; total time=   0.1s\n",
      "[CV] END ..max_depth=1, min_samples_split=5, n_estimators=50; total time=   0.1s\n",
      "[CV] END ..max_depth=1, min_samples_split=5, n_estimators=50; total time=   0.1s\n",
      "[CV] END .max_depth=1, min_samples_split=5, n_estimators=100; total time=   0.1s\n",
      "[CV] END .max_depth=1, min_samples_split=5, n_estimators=100; total time=   0.1s\n",
      "[CV] END .max_depth=1, min_samples_split=5, n_estimators=100; total time=   0.1s\n",
      "[CV] END .max_depth=1, min_samples_split=5, n_estimators=100; total time=   0.2s\n",
      "[CV] END .max_depth=1, min_samples_split=5, n_estimators=100; total time=   0.1s\n",
      "[CV] END .max_depth=1, min_samples_split=5, n_estimators=300; total time=   0.5s\n",
      "[CV] END .max_depth=1, min_samples_split=5, n_estimators=300; total time=   0.3s\n",
      "[CV] END .max_depth=1, min_samples_split=5, n_estimators=300; total time=   0.4s\n",
      "[CV] END .max_depth=1, min_samples_split=5, n_estimators=300; total time=   0.4s\n",
      "[CV] END .max_depth=1, min_samples_split=5, n_estimators=300; total time=   0.4s\n",
      "[CV] END ..max_depth=1, min_samples_split=6, n_estimators=10; total time=   0.0s\n",
      "[CV] END ..max_depth=1, min_samples_split=6, n_estimators=10; total time=   0.0s\n",
      "[CV] END ..max_depth=1, min_samples_split=6, n_estimators=10; total time=   0.0s\n",
      "[CV] END ..max_depth=1, min_samples_split=6, n_estimators=10; total time=   0.0s\n",
      "[CV] END ..max_depth=1, min_samples_split=6, n_estimators=10; total time=   0.0s\n",
      "[CV] END ..max_depth=1, min_samples_split=6, n_estimators=50; total time=   0.1s\n",
      "[CV] END ..max_depth=1, min_samples_split=6, n_estimators=50; total time=   0.1s\n",
      "[CV] END ..max_depth=1, min_samples_split=6, n_estimators=50; total time=   0.1s\n",
      "[CV] END ..max_depth=1, min_samples_split=6, n_estimators=50; total time=   0.1s\n",
      "[CV] END ..max_depth=1, min_samples_split=6, n_estimators=50; total time=   0.1s\n",
      "[CV] END .max_depth=1, min_samples_split=6, n_estimators=100; total time=   0.1s\n",
      "[CV] END .max_depth=1, min_samples_split=6, n_estimators=100; total time=   0.1s\n",
      "[CV] END .max_depth=1, min_samples_split=6, n_estimators=100; total time=   0.1s\n",
      "[CV] END .max_depth=1, min_samples_split=6, n_estimators=100; total time=   0.2s\n",
      "[CV] END .max_depth=1, min_samples_split=6, n_estimators=100; total time=   0.1s\n",
      "[CV] END .max_depth=1, min_samples_split=6, n_estimators=300; total time=   0.4s\n",
      "[CV] END .max_depth=1, min_samples_split=6, n_estimators=300; total time=   0.4s\n",
      "[CV] END .max_depth=1, min_samples_split=6, n_estimators=300; total time=   0.4s\n",
      "[CV] END .max_depth=1, min_samples_split=6, n_estimators=300; total time=   0.4s\n",
      "[CV] END .max_depth=1, min_samples_split=6, n_estimators=300; total time=   0.4s\n",
      "[CV] END ..max_depth=1, min_samples_split=7, n_estimators=10; total time=   0.0s\n",
      "[CV] END ..max_depth=1, min_samples_split=7, n_estimators=10; total time=   0.0s\n",
      "[CV] END ..max_depth=1, min_samples_split=7, n_estimators=10; total time=   0.0s\n",
      "[CV] END ..max_depth=1, min_samples_split=7, n_estimators=10; total time=   0.0s\n",
      "[CV] END ..max_depth=1, min_samples_split=7, n_estimators=10; total time=   0.0s\n",
      "[CV] END ..max_depth=1, min_samples_split=7, n_estimators=50; total time=   0.1s\n",
      "[CV] END ..max_depth=1, min_samples_split=7, n_estimators=50; total time=   0.1s\n",
      "[CV] END ..max_depth=1, min_samples_split=7, n_estimators=50; total time=   0.1s\n",
      "[CV] END ..max_depth=1, min_samples_split=7, n_estimators=50; total time=   0.1s\n",
      "[CV] END ..max_depth=1, min_samples_split=7, n_estimators=50; total time=   0.1s\n",
      "[CV] END .max_depth=1, min_samples_split=7, n_estimators=100; total time=   0.1s\n",
      "[CV] END .max_depth=1, min_samples_split=7, n_estimators=100; total time=   0.1s\n",
      "[CV] END .max_depth=1, min_samples_split=7, n_estimators=100; total time=   0.1s\n",
      "[CV] END .max_depth=1, min_samples_split=7, n_estimators=100; total time=   0.1s\n",
      "[CV] END .max_depth=1, min_samples_split=7, n_estimators=100; total time=   0.1s\n",
      "[CV] END .max_depth=1, min_samples_split=7, n_estimators=300; total time=   0.3s\n",
      "[CV] END .max_depth=1, min_samples_split=7, n_estimators=300; total time=   0.3s\n",
      "[CV] END .max_depth=1, min_samples_split=7, n_estimators=300; total time=   0.3s\n",
      "[CV] END .max_depth=1, min_samples_split=7, n_estimators=300; total time=   0.4s\n",
      "[CV] END .max_depth=1, min_samples_split=7, n_estimators=300; total time=   0.4s\n",
      "[CV] END ..max_depth=1, min_samples_split=8, n_estimators=10; total time=   0.0s\n",
      "[CV] END ..max_depth=1, min_samples_split=8, n_estimators=10; total time=   0.0s\n",
      "[CV] END ..max_depth=1, min_samples_split=8, n_estimators=10; total time=   0.0s\n",
      "[CV] END ..max_depth=1, min_samples_split=8, n_estimators=10; total time=   0.0s\n",
      "[CV] END ..max_depth=1, min_samples_split=8, n_estimators=10; total time=   0.0s\n",
      "[CV] END ..max_depth=1, min_samples_split=8, n_estimators=50; total time=   0.1s\n",
      "[CV] END ..max_depth=1, min_samples_split=8, n_estimators=50; total time=   0.1s\n",
      "[CV] END ..max_depth=1, min_samples_split=8, n_estimators=50; total time=   0.1s\n",
      "[CV] END ..max_depth=1, min_samples_split=8, n_estimators=50; total time=   0.1s\n",
      "[CV] END ..max_depth=1, min_samples_split=8, n_estimators=50; total time=   0.1s\n",
      "[CV] END .max_depth=1, min_samples_split=8, n_estimators=100; total time=   0.1s\n",
      "[CV] END .max_depth=1, min_samples_split=8, n_estimators=100; total time=   0.1s\n",
      "[CV] END .max_depth=1, min_samples_split=8, n_estimators=100; total time=   0.1s\n",
      "[CV] END .max_depth=1, min_samples_split=8, n_estimators=100; total time=   0.1s\n",
      "[CV] END .max_depth=1, min_samples_split=8, n_estimators=100; total time=   0.1s\n",
      "[CV] END .max_depth=1, min_samples_split=8, n_estimators=300; total time=   0.4s\n",
      "[CV] END .max_depth=1, min_samples_split=8, n_estimators=300; total time=   0.4s\n",
      "[CV] END .max_depth=1, min_samples_split=8, n_estimators=300; total time=   0.4s\n",
      "[CV] END .max_depth=1, min_samples_split=8, n_estimators=300; total time=   0.4s\n",
      "[CV] END .max_depth=1, min_samples_split=8, n_estimators=300; total time=   0.3s\n",
      "[CV] END ..max_depth=1, min_samples_split=9, n_estimators=10; total time=   0.0s\n",
      "[CV] END ..max_depth=1, min_samples_split=9, n_estimators=10; total time=   0.0s\n",
      "[CV] END ..max_depth=1, min_samples_split=9, n_estimators=10; total time=   0.0s\n",
      "[CV] END ..max_depth=1, min_samples_split=9, n_estimators=10; total time=   0.0s\n",
      "[CV] END ..max_depth=1, min_samples_split=9, n_estimators=10; total time=   0.0s\n",
      "[CV] END ..max_depth=1, min_samples_split=9, n_estimators=50; total time=   0.1s\n",
      "[CV] END ..max_depth=1, min_samples_split=9, n_estimators=50; total time=   0.1s\n",
      "[CV] END ..max_depth=1, min_samples_split=9, n_estimators=50; total time=   0.1s\n",
      "[CV] END ..max_depth=1, min_samples_split=9, n_estimators=50; total time=   0.1s\n",
      "[CV] END ..max_depth=1, min_samples_split=9, n_estimators=50; total time=   0.1s\n",
      "[CV] END .max_depth=1, min_samples_split=9, n_estimators=100; total time=   0.1s\n",
      "[CV] END .max_depth=1, min_samples_split=9, n_estimators=100; total time=   0.1s\n",
      "[CV] END .max_depth=1, min_samples_split=9, n_estimators=100; total time=   0.1s\n",
      "[CV] END .max_depth=1, min_samples_split=9, n_estimators=100; total time=   0.1s\n",
      "[CV] END .max_depth=1, min_samples_split=9, n_estimators=100; total time=   0.1s\n",
      "[CV] END .max_depth=1, min_samples_split=9, n_estimators=300; total time=   0.4s\n",
      "[CV] END .max_depth=1, min_samples_split=9, n_estimators=300; total time=   0.4s\n",
      "[CV] END .max_depth=1, min_samples_split=9, n_estimators=300; total time=   0.4s\n",
      "[CV] END .max_depth=1, min_samples_split=9, n_estimators=300; total time=   0.4s\n",
      "[CV] END .max_depth=1, min_samples_split=9, n_estimators=300; total time=   0.4s\n",
      "[CV] END ..max_depth=2, min_samples_split=2, n_estimators=10; total time=   0.0s\n",
      "[CV] END ..max_depth=2, min_samples_split=2, n_estimators=10; total time=   0.0s\n",
      "[CV] END ..max_depth=2, min_samples_split=2, n_estimators=10; total time=   0.0s\n",
      "[CV] END ..max_depth=2, min_samples_split=2, n_estimators=10; total time=   0.0s\n",
      "[CV] END ..max_depth=2, min_samples_split=2, n_estimators=10; total time=   0.0s\n",
      "[CV] END ..max_depth=2, min_samples_split=2, n_estimators=50; total time=   0.1s\n",
      "[CV] END ..max_depth=2, min_samples_split=2, n_estimators=50; total time=   0.1s\n",
      "[CV] END ..max_depth=2, min_samples_split=2, n_estimators=50; total time=   0.1s\n",
      "[CV] END ..max_depth=2, min_samples_split=2, n_estimators=50; total time=   0.1s\n",
      "[CV] END ..max_depth=2, min_samples_split=2, n_estimators=50; total time=   0.1s\n",
      "[CV] END .max_depth=2, min_samples_split=2, n_estimators=100; total time=   0.1s\n",
      "[CV] END .max_depth=2, min_samples_split=2, n_estimators=100; total time=   0.1s\n",
      "[CV] END .max_depth=2, min_samples_split=2, n_estimators=100; total time=   0.1s\n",
      "[CV] END .max_depth=2, min_samples_split=2, n_estimators=100; total time=   0.1s\n",
      "[CV] END .max_depth=2, min_samples_split=2, n_estimators=100; total time=   0.1s\n",
      "[CV] END .max_depth=2, min_samples_split=2, n_estimators=300; total time=   0.4s\n",
      "[CV] END .max_depth=2, min_samples_split=2, n_estimators=300; total time=   0.4s\n",
      "[CV] END .max_depth=2, min_samples_split=2, n_estimators=300; total time=   0.4s\n",
      "[CV] END .max_depth=2, min_samples_split=2, n_estimators=300; total time=   0.4s\n",
      "[CV] END .max_depth=2, min_samples_split=2, n_estimators=300; total time=   0.4s\n",
      "[CV] END ..max_depth=2, min_samples_split=3, n_estimators=10; total time=   0.0s\n",
      "[CV] END ..max_depth=2, min_samples_split=3, n_estimators=10; total time=   0.0s\n",
      "[CV] END ..max_depth=2, min_samples_split=3, n_estimators=10; total time=   0.0s\n",
      "[CV] END ..max_depth=2, min_samples_split=3, n_estimators=10; total time=   0.0s\n",
      "[CV] END ..max_depth=2, min_samples_split=3, n_estimators=10; total time=   0.0s\n",
      "[CV] END ..max_depth=2, min_samples_split=3, n_estimators=50; total time=   0.1s\n",
      "[CV] END ..max_depth=2, min_samples_split=3, n_estimators=50; total time=   0.1s\n",
      "[CV] END ..max_depth=2, min_samples_split=3, n_estimators=50; total time=   0.1s\n",
      "[CV] END ..max_depth=2, min_samples_split=3, n_estimators=50; total time=   0.1s\n",
      "[CV] END ..max_depth=2, min_samples_split=3, n_estimators=50; total time=   0.1s\n",
      "[CV] END .max_depth=2, min_samples_split=3, n_estimators=100; total time=   0.1s\n",
      "[CV] END .max_depth=2, min_samples_split=3, n_estimators=100; total time=   0.1s\n",
      "[CV] END .max_depth=2, min_samples_split=3, n_estimators=100; total time=   0.1s\n",
      "[CV] END .max_depth=2, min_samples_split=3, n_estimators=100; total time=   0.1s\n",
      "[CV] END .max_depth=2, min_samples_split=3, n_estimators=100; total time=   0.1s\n",
      "[CV] END .max_depth=2, min_samples_split=3, n_estimators=300; total time=   0.4s\n",
      "[CV] END .max_depth=2, min_samples_split=3, n_estimators=300; total time=   0.4s\n",
      "[CV] END .max_depth=2, min_samples_split=3, n_estimators=300; total time=   0.5s\n",
      "[CV] END .max_depth=2, min_samples_split=3, n_estimators=300; total time=   0.5s\n",
      "[CV] END .max_depth=2, min_samples_split=3, n_estimators=300; total time=   0.5s\n",
      "[CV] END ..max_depth=2, min_samples_split=4, n_estimators=10; total time=   0.0s\n",
      "[CV] END ..max_depth=2, min_samples_split=4, n_estimators=10; total time=   0.0s\n",
      "[CV] END ..max_depth=2, min_samples_split=4, n_estimators=10; total time=   0.0s\n",
      "[CV] END ..max_depth=2, min_samples_split=4, n_estimators=10; total time=   0.0s\n",
      "[CV] END ..max_depth=2, min_samples_split=4, n_estimators=10; total time=   0.0s\n",
      "[CV] END ..max_depth=2, min_samples_split=4, n_estimators=50; total time=   0.1s\n",
      "[CV] END ..max_depth=2, min_samples_split=4, n_estimators=50; total time=   0.1s\n",
      "[CV] END ..max_depth=2, min_samples_split=4, n_estimators=50; total time=   0.1s\n",
      "[CV] END ..max_depth=2, min_samples_split=4, n_estimators=50; total time=   0.1s\n",
      "[CV] END ..max_depth=2, min_samples_split=4, n_estimators=50; total time=   0.1s\n",
      "[CV] END .max_depth=2, min_samples_split=4, n_estimators=100; total time=   0.2s\n",
      "[CV] END .max_depth=2, min_samples_split=4, n_estimators=100; total time=   0.2s\n",
      "[CV] END .max_depth=2, min_samples_split=4, n_estimators=100; total time=   0.2s\n",
      "[CV] END .max_depth=2, min_samples_split=4, n_estimators=100; total time=   0.1s\n",
      "[CV] END .max_depth=2, min_samples_split=4, n_estimators=100; total time=   0.2s\n",
      "[CV] END .max_depth=2, min_samples_split=4, n_estimators=300; total time=   0.4s\n",
      "[CV] END .max_depth=2, min_samples_split=4, n_estimators=300; total time=   0.5s\n",
      "[CV] END .max_depth=2, min_samples_split=4, n_estimators=300; total time=   0.4s\n",
      "[CV] END .max_depth=2, min_samples_split=4, n_estimators=300; total time=   0.6s\n",
      "[CV] END .max_depth=2, min_samples_split=4, n_estimators=300; total time=   0.5s\n",
      "[CV] END ..max_depth=2, min_samples_split=5, n_estimators=10; total time=   0.0s\n",
      "[CV] END ..max_depth=2, min_samples_split=5, n_estimators=10; total time=   0.0s\n",
      "[CV] END ..max_depth=2, min_samples_split=5, n_estimators=10; total time=   0.0s\n",
      "[CV] END ..max_depth=2, min_samples_split=5, n_estimators=10; total time=   0.0s\n",
      "[CV] END ..max_depth=2, min_samples_split=5, n_estimators=10; total time=   0.0s\n",
      "[CV] END ..max_depth=2, min_samples_split=5, n_estimators=50; total time=   0.1s\n",
      "[CV] END ..max_depth=2, min_samples_split=5, n_estimators=50; total time=   0.1s\n",
      "[CV] END ..max_depth=2, min_samples_split=5, n_estimators=50; total time=   0.1s\n",
      "[CV] END ..max_depth=2, min_samples_split=5, n_estimators=50; total time=   0.1s\n",
      "[CV] END ..max_depth=2, min_samples_split=5, n_estimators=50; total time=   0.1s\n",
      "[CV] END .max_depth=2, min_samples_split=5, n_estimators=100; total time=   0.2s\n",
      "[CV] END .max_depth=2, min_samples_split=5, n_estimators=100; total time=   0.2s\n",
      "[CV] END .max_depth=2, min_samples_split=5, n_estimators=100; total time=   0.1s\n",
      "[CV] END .max_depth=2, min_samples_split=5, n_estimators=100; total time=   0.1s\n",
      "[CV] END .max_depth=2, min_samples_split=5, n_estimators=100; total time=   0.1s\n",
      "[CV] END .max_depth=2, min_samples_split=5, n_estimators=300; total time=   0.5s\n",
      "[CV] END .max_depth=2, min_samples_split=5, n_estimators=300; total time=   0.4s\n",
      "[CV] END .max_depth=2, min_samples_split=5, n_estimators=300; total time=   0.5s\n",
      "[CV] END .max_depth=2, min_samples_split=5, n_estimators=300; total time=   0.5s\n",
      "[CV] END .max_depth=2, min_samples_split=5, n_estimators=300; total time=   0.4s\n",
      "[CV] END ..max_depth=2, min_samples_split=6, n_estimators=10; total time=   0.0s\n",
      "[CV] END ..max_depth=2, min_samples_split=6, n_estimators=10; total time=   0.0s\n",
      "[CV] END ..max_depth=2, min_samples_split=6, n_estimators=10; total time=   0.0s\n",
      "[CV] END ..max_depth=2, min_samples_split=6, n_estimators=10; total time=   0.0s\n",
      "[CV] END ..max_depth=2, min_samples_split=6, n_estimators=10; total time=   0.0s\n",
      "[CV] END ..max_depth=2, min_samples_split=6, n_estimators=50; total time=   0.1s\n",
      "[CV] END ..max_depth=2, min_samples_split=6, n_estimators=50; total time=   0.1s\n",
      "[CV] END ..max_depth=2, min_samples_split=6, n_estimators=50; total time=   0.1s\n",
      "[CV] END ..max_depth=2, min_samples_split=6, n_estimators=50; total time=   0.1s\n",
      "[CV] END ..max_depth=2, min_samples_split=6, n_estimators=50; total time=   0.1s\n",
      "[CV] END .max_depth=2, min_samples_split=6, n_estimators=100; total time=   0.1s\n",
      "[CV] END .max_depth=2, min_samples_split=6, n_estimators=100; total time=   0.2s\n",
      "[CV] END .max_depth=2, min_samples_split=6, n_estimators=100; total time=   0.1s\n",
      "[CV] END .max_depth=2, min_samples_split=6, n_estimators=100; total time=   0.1s\n",
      "[CV] END .max_depth=2, min_samples_split=6, n_estimators=100; total time=   0.2s\n",
      "[CV] END .max_depth=2, min_samples_split=6, n_estimators=300; total time=   0.4s\n",
      "[CV] END .max_depth=2, min_samples_split=6, n_estimators=300; total time=   0.4s\n",
      "[CV] END .max_depth=2, min_samples_split=6, n_estimators=300; total time=   0.4s\n",
      "[CV] END .max_depth=2, min_samples_split=6, n_estimators=300; total time=   0.4s\n",
      "[CV] END .max_depth=2, min_samples_split=6, n_estimators=300; total time=   0.4s\n",
      "[CV] END ..max_depth=2, min_samples_split=7, n_estimators=10; total time=   0.0s\n",
      "[CV] END ..max_depth=2, min_samples_split=7, n_estimators=10; total time=   0.0s\n",
      "[CV] END ..max_depth=2, min_samples_split=7, n_estimators=10; total time=   0.0s\n",
      "[CV] END ..max_depth=2, min_samples_split=7, n_estimators=10; total time=   0.0s\n",
      "[CV] END ..max_depth=2, min_samples_split=7, n_estimators=10; total time=   0.0s\n",
      "[CV] END ..max_depth=2, min_samples_split=7, n_estimators=50; total time=   0.1s\n",
      "[CV] END ..max_depth=2, min_samples_split=7, n_estimators=50; total time=   0.1s\n",
      "[CV] END ..max_depth=2, min_samples_split=7, n_estimators=50; total time=   0.1s\n",
      "[CV] END ..max_depth=2, min_samples_split=7, n_estimators=50; total time=   0.1s\n",
      "[CV] END ..max_depth=2, min_samples_split=7, n_estimators=50; total time=   0.1s\n",
      "[CV] END .max_depth=2, min_samples_split=7, n_estimators=100; total time=   0.2s\n",
      "[CV] END .max_depth=2, min_samples_split=7, n_estimators=100; total time=   0.2s\n",
      "[CV] END .max_depth=2, min_samples_split=7, n_estimators=100; total time=   0.1s\n",
      "[CV] END .max_depth=2, min_samples_split=7, n_estimators=100; total time=   0.1s\n",
      "[CV] END .max_depth=2, min_samples_split=7, n_estimators=100; total time=   0.1s\n",
      "[CV] END .max_depth=2, min_samples_split=7, n_estimators=300; total time=   0.3s\n",
      "[CV] END .max_depth=2, min_samples_split=7, n_estimators=300; total time=   0.4s\n",
      "[CV] END .max_depth=2, min_samples_split=7, n_estimators=300; total time=   0.4s\n",
      "[CV] END .max_depth=2, min_samples_split=7, n_estimators=300; total time=   0.4s\n",
      "[CV] END .max_depth=2, min_samples_split=7, n_estimators=300; total time=   0.4s\n",
      "[CV] END ..max_depth=2, min_samples_split=8, n_estimators=10; total time=   0.0s\n",
      "[CV] END ..max_depth=2, min_samples_split=8, n_estimators=10; total time=   0.0s\n",
      "[CV] END ..max_depth=2, min_samples_split=8, n_estimators=10; total time=   0.0s\n",
      "[CV] END ..max_depth=2, min_samples_split=8, n_estimators=10; total time=   0.0s\n",
      "[CV] END ..max_depth=2, min_samples_split=8, n_estimators=10; total time=   0.0s\n",
      "[CV] END ..max_depth=2, min_samples_split=8, n_estimators=50; total time=   0.1s\n",
      "[CV] END ..max_depth=2, min_samples_split=8, n_estimators=50; total time=   0.1s\n",
      "[CV] END ..max_depth=2, min_samples_split=8, n_estimators=50; total time=   0.1s\n",
      "[CV] END ..max_depth=2, min_samples_split=8, n_estimators=50; total time=   0.1s\n",
      "[CV] END ..max_depth=2, min_samples_split=8, n_estimators=50; total time=   0.1s\n",
      "[CV] END .max_depth=2, min_samples_split=8, n_estimators=100; total time=   0.1s\n",
      "[CV] END .max_depth=2, min_samples_split=8, n_estimators=100; total time=   0.1s\n",
      "[CV] END .max_depth=2, min_samples_split=8, n_estimators=100; total time=   0.1s\n",
      "[CV] END .max_depth=2, min_samples_split=8, n_estimators=100; total time=   0.1s\n",
      "[CV] END .max_depth=2, min_samples_split=8, n_estimators=100; total time=   0.1s\n",
      "[CV] END .max_depth=2, min_samples_split=8, n_estimators=300; total time=   0.5s\n",
      "[CV] END .max_depth=2, min_samples_split=8, n_estimators=300; total time=   0.5s\n",
      "[CV] END .max_depth=2, min_samples_split=8, n_estimators=300; total time=   0.4s\n",
      "[CV] END .max_depth=2, min_samples_split=8, n_estimators=300; total time=   0.6s\n",
      "[CV] END .max_depth=2, min_samples_split=8, n_estimators=300; total time=   0.8s\n",
      "[CV] END ..max_depth=2, min_samples_split=9, n_estimators=10; total time=   0.0s\n",
      "[CV] END ..max_depth=2, min_samples_split=9, n_estimators=10; total time=   0.0s\n",
      "[CV] END ..max_depth=2, min_samples_split=9, n_estimators=10; total time=   0.0s\n",
      "[CV] END ..max_depth=2, min_samples_split=9, n_estimators=10; total time=   0.0s\n",
      "[CV] END ..max_depth=2, min_samples_split=9, n_estimators=10; total time=   0.0s\n",
      "[CV] END ..max_depth=2, min_samples_split=9, n_estimators=50; total time=   0.1s\n",
      "[CV] END ..max_depth=2, min_samples_split=9, n_estimators=50; total time=   0.1s\n",
      "[CV] END ..max_depth=2, min_samples_split=9, n_estimators=50; total time=   0.1s\n",
      "[CV] END ..max_depth=2, min_samples_split=9, n_estimators=50; total time=   0.1s\n",
      "[CV] END ..max_depth=2, min_samples_split=9, n_estimators=50; total time=   0.1s\n",
      "[CV] END .max_depth=2, min_samples_split=9, n_estimators=100; total time=   0.2s\n",
      "[CV] END .max_depth=2, min_samples_split=9, n_estimators=100; total time=   0.2s\n",
      "[CV] END .max_depth=2, min_samples_split=9, n_estimators=100; total time=   0.2s\n",
      "[CV] END .max_depth=2, min_samples_split=9, n_estimators=100; total time=   0.2s\n",
      "[CV] END .max_depth=2, min_samples_split=9, n_estimators=100; total time=   0.1s\n",
      "[CV] END .max_depth=2, min_samples_split=9, n_estimators=300; total time=   0.4s\n",
      "[CV] END .max_depth=2, min_samples_split=9, n_estimators=300; total time=   0.4s\n",
      "[CV] END .max_depth=2, min_samples_split=9, n_estimators=300; total time=   0.4s\n",
      "[CV] END .max_depth=2, min_samples_split=9, n_estimators=300; total time=   0.4s\n",
      "[CV] END .max_depth=2, min_samples_split=9, n_estimators=300; total time=   0.4s\n",
      "[CV] END ..max_depth=3, min_samples_split=2, n_estimators=10; total time=   0.0s\n",
      "[CV] END ..max_depth=3, min_samples_split=2, n_estimators=10; total time=   0.0s\n",
      "[CV] END ..max_depth=3, min_samples_split=2, n_estimators=10; total time=   0.0s\n",
      "[CV] END ..max_depth=3, min_samples_split=2, n_estimators=10; total time=   0.0s\n",
      "[CV] END ..max_depth=3, min_samples_split=2, n_estimators=10; total time=   0.0s\n",
      "[CV] END ..max_depth=3, min_samples_split=2, n_estimators=50; total time=   0.1s\n",
      "[CV] END ..max_depth=3, min_samples_split=2, n_estimators=50; total time=   0.1s\n",
      "[CV] END ..max_depth=3, min_samples_split=2, n_estimators=50; total time=   0.1s\n",
      "[CV] END ..max_depth=3, min_samples_split=2, n_estimators=50; total time=   0.1s\n",
      "[CV] END ..max_depth=3, min_samples_split=2, n_estimators=50; total time=   0.1s\n",
      "[CV] END .max_depth=3, min_samples_split=2, n_estimators=100; total time=   0.1s\n",
      "[CV] END .max_depth=3, min_samples_split=2, n_estimators=100; total time=   0.1s\n",
      "[CV] END .max_depth=3, min_samples_split=2, n_estimators=100; total time=   0.1s\n",
      "[CV] END .max_depth=3, min_samples_split=2, n_estimators=100; total time=   0.2s\n",
      "[CV] END .max_depth=3, min_samples_split=2, n_estimators=100; total time=   0.1s\n",
      "[CV] END .max_depth=3, min_samples_split=2, n_estimators=300; total time=   0.5s\n",
      "[CV] END .max_depth=3, min_samples_split=2, n_estimators=300; total time=   0.4s\n",
      "[CV] END .max_depth=3, min_samples_split=2, n_estimators=300; total time=   0.5s\n",
      "[CV] END .max_depth=3, min_samples_split=2, n_estimators=300; total time=   0.4s\n",
      "[CV] END .max_depth=3, min_samples_split=2, n_estimators=300; total time=   0.4s\n",
      "[CV] END ..max_depth=3, min_samples_split=3, n_estimators=10; total time=   0.0s\n",
      "[CV] END ..max_depth=3, min_samples_split=3, n_estimators=10; total time=   0.0s\n",
      "[CV] END ..max_depth=3, min_samples_split=3, n_estimators=10; total time=   0.0s\n",
      "[CV] END ..max_depth=3, min_samples_split=3, n_estimators=10; total time=   0.0s\n",
      "[CV] END ..max_depth=3, min_samples_split=3, n_estimators=10; total time=   0.0s\n",
      "[CV] END ..max_depth=3, min_samples_split=3, n_estimators=50; total time=   0.1s\n",
      "[CV] END ..max_depth=3, min_samples_split=3, n_estimators=50; total time=   0.1s\n",
      "[CV] END ..max_depth=3, min_samples_split=3, n_estimators=50; total time=   0.1s\n",
      "[CV] END ..max_depth=3, min_samples_split=3, n_estimators=50; total time=   0.1s\n",
      "[CV] END ..max_depth=3, min_samples_split=3, n_estimators=50; total time=   0.1s\n",
      "[CV] END .max_depth=3, min_samples_split=3, n_estimators=100; total time=   0.1s\n",
      "[CV] END .max_depth=3, min_samples_split=3, n_estimators=100; total time=   0.1s\n",
      "[CV] END .max_depth=3, min_samples_split=3, n_estimators=100; total time=   0.1s\n",
      "[CV] END .max_depth=3, min_samples_split=3, n_estimators=100; total time=   0.1s\n",
      "[CV] END .max_depth=3, min_samples_split=3, n_estimators=100; total time=   0.1s\n",
      "[CV] END .max_depth=3, min_samples_split=3, n_estimators=300; total time=   0.4s\n",
      "[CV] END .max_depth=3, min_samples_split=3, n_estimators=300; total time=   0.5s\n",
      "[CV] END .max_depth=3, min_samples_split=3, n_estimators=300; total time=   0.5s\n",
      "[CV] END .max_depth=3, min_samples_split=3, n_estimators=300; total time=   0.5s\n",
      "[CV] END .max_depth=3, min_samples_split=3, n_estimators=300; total time=   0.5s\n",
      "[CV] END ..max_depth=3, min_samples_split=4, n_estimators=10; total time=   0.0s\n",
      "[CV] END ..max_depth=3, min_samples_split=4, n_estimators=10; total time=   0.0s\n",
      "[CV] END ..max_depth=3, min_samples_split=4, n_estimators=10; total time=   0.0s\n",
      "[CV] END ..max_depth=3, min_samples_split=4, n_estimators=10; total time=   0.0s\n",
      "[CV] END ..max_depth=3, min_samples_split=4, n_estimators=10; total time=   0.0s\n",
      "[CV] END ..max_depth=3, min_samples_split=4, n_estimators=50; total time=   0.1s\n",
      "[CV] END ..max_depth=3, min_samples_split=4, n_estimators=50; total time=   0.1s\n",
      "[CV] END ..max_depth=3, min_samples_split=4, n_estimators=50; total time=   0.1s\n",
      "[CV] END ..max_depth=3, min_samples_split=4, n_estimators=50; total time=   0.1s\n",
      "[CV] END ..max_depth=3, min_samples_split=4, n_estimators=50; total time=   0.1s\n",
      "[CV] END .max_depth=3, min_samples_split=4, n_estimators=100; total time=   0.2s\n",
      "[CV] END .max_depth=3, min_samples_split=4, n_estimators=100; total time=   0.2s\n",
      "[CV] END .max_depth=3, min_samples_split=4, n_estimators=100; total time=   0.2s\n",
      "[CV] END .max_depth=3, min_samples_split=4, n_estimators=100; total time=   0.2s\n",
      "[CV] END .max_depth=3, min_samples_split=4, n_estimators=100; total time=   0.2s\n",
      "[CV] END .max_depth=3, min_samples_split=4, n_estimators=300; total time=   0.4s\n",
      "[CV] END .max_depth=3, min_samples_split=4, n_estimators=300; total time=   0.5s\n",
      "[CV] END .max_depth=3, min_samples_split=4, n_estimators=300; total time=   0.5s\n",
      "[CV] END .max_depth=3, min_samples_split=4, n_estimators=300; total time=   0.4s\n",
      "[CV] END .max_depth=3, min_samples_split=4, n_estimators=300; total time=   0.4s\n",
      "[CV] END ..max_depth=3, min_samples_split=5, n_estimators=10; total time=   0.0s\n",
      "[CV] END ..max_depth=3, min_samples_split=5, n_estimators=10; total time=   0.0s\n",
      "[CV] END ..max_depth=3, min_samples_split=5, n_estimators=10; total time=   0.0s\n",
      "[CV] END ..max_depth=3, min_samples_split=5, n_estimators=10; total time=   0.0s\n",
      "[CV] END ..max_depth=3, min_samples_split=5, n_estimators=10; total time=   0.0s\n",
      "[CV] END ..max_depth=3, min_samples_split=5, n_estimators=50; total time=   0.1s\n",
      "[CV] END ..max_depth=3, min_samples_split=5, n_estimators=50; total time=   0.1s\n",
      "[CV] END ..max_depth=3, min_samples_split=5, n_estimators=50; total time=   0.1s\n",
      "[CV] END ..max_depth=3, min_samples_split=5, n_estimators=50; total time=   0.1s\n",
      "[CV] END ..max_depth=3, min_samples_split=5, n_estimators=50; total time=   0.1s\n",
      "[CV] END .max_depth=3, min_samples_split=5, n_estimators=100; total time=   0.1s\n",
      "[CV] END .max_depth=3, min_samples_split=5, n_estimators=100; total time=   0.2s\n",
      "[CV] END .max_depth=3, min_samples_split=5, n_estimators=100; total time=   0.2s\n",
      "[CV] END .max_depth=3, min_samples_split=5, n_estimators=100; total time=   0.1s\n",
      "[CV] END .max_depth=3, min_samples_split=5, n_estimators=100; total time=   0.1s\n",
      "[CV] END .max_depth=3, min_samples_split=5, n_estimators=300; total time=   0.5s\n",
      "[CV] END .max_depth=3, min_samples_split=5, n_estimators=300; total time=   0.6s\n",
      "[CV] END .max_depth=3, min_samples_split=5, n_estimators=300; total time=   0.6s\n",
      "[CV] END .max_depth=3, min_samples_split=5, n_estimators=300; total time=   0.4s\n",
      "[CV] END .max_depth=3, min_samples_split=5, n_estimators=300; total time=   0.5s\n",
      "[CV] END ..max_depth=3, min_samples_split=6, n_estimators=10; total time=   0.0s\n",
      "[CV] END ..max_depth=3, min_samples_split=6, n_estimators=10; total time=   0.0s\n",
      "[CV] END ..max_depth=3, min_samples_split=6, n_estimators=10; total time=   0.0s\n",
      "[CV] END ..max_depth=3, min_samples_split=6, n_estimators=10; total time=   0.0s\n",
      "[CV] END ..max_depth=3, min_samples_split=6, n_estimators=10; total time=   0.0s\n",
      "[CV] END ..max_depth=3, min_samples_split=6, n_estimators=50; total time=   0.1s\n",
      "[CV] END ..max_depth=3, min_samples_split=6, n_estimators=50; total time=   0.1s\n",
      "[CV] END ..max_depth=3, min_samples_split=6, n_estimators=50; total time=   0.1s\n",
      "[CV] END ..max_depth=3, min_samples_split=6, n_estimators=50; total time=   0.1s\n",
      "[CV] END ..max_depth=3, min_samples_split=6, n_estimators=50; total time=   0.1s\n",
      "[CV] END .max_depth=3, min_samples_split=6, n_estimators=100; total time=   0.1s\n",
      "[CV] END .max_depth=3, min_samples_split=6, n_estimators=100; total time=   0.1s\n",
      "[CV] END .max_depth=3, min_samples_split=6, n_estimators=100; total time=   0.1s\n",
      "[CV] END .max_depth=3, min_samples_split=6, n_estimators=100; total time=   0.1s\n",
      "[CV] END .max_depth=3, min_samples_split=6, n_estimators=100; total time=   0.2s\n",
      "[CV] END .max_depth=3, min_samples_split=6, n_estimators=300; total time=   0.4s\n",
      "[CV] END .max_depth=3, min_samples_split=6, n_estimators=300; total time=   0.4s\n",
      "[CV] END .max_depth=3, min_samples_split=6, n_estimators=300; total time=   0.4s\n",
      "[CV] END .max_depth=3, min_samples_split=6, n_estimators=300; total time=   0.4s\n",
      "[CV] END .max_depth=3, min_samples_split=6, n_estimators=300; total time=   0.4s\n",
      "[CV] END ..max_depth=3, min_samples_split=7, n_estimators=10; total time=   0.0s\n",
      "[CV] END ..max_depth=3, min_samples_split=7, n_estimators=10; total time=   0.0s\n",
      "[CV] END ..max_depth=3, min_samples_split=7, n_estimators=10; total time=   0.0s\n",
      "[CV] END ..max_depth=3, min_samples_split=7, n_estimators=10; total time=   0.0s\n",
      "[CV] END ..max_depth=3, min_samples_split=7, n_estimators=10; total time=   0.0s\n",
      "[CV] END ..max_depth=3, min_samples_split=7, n_estimators=50; total time=   0.1s\n",
      "[CV] END ..max_depth=3, min_samples_split=7, n_estimators=50; total time=   0.1s\n",
      "[CV] END ..max_depth=3, min_samples_split=7, n_estimators=50; total time=   0.1s\n",
      "[CV] END ..max_depth=3, min_samples_split=7, n_estimators=50; total time=   0.1s\n",
      "[CV] END ..max_depth=3, min_samples_split=7, n_estimators=50; total time=   0.1s\n",
      "[CV] END .max_depth=3, min_samples_split=7, n_estimators=100; total time=   0.1s\n",
      "[CV] END .max_depth=3, min_samples_split=7, n_estimators=100; total time=   0.1s\n",
      "[CV] END .max_depth=3, min_samples_split=7, n_estimators=100; total time=   0.1s\n",
      "[CV] END .max_depth=3, min_samples_split=7, n_estimators=100; total time=   0.1s\n",
      "[CV] END .max_depth=3, min_samples_split=7, n_estimators=100; total time=   0.1s\n",
      "[CV] END .max_depth=3, min_samples_split=7, n_estimators=300; total time=   0.4s\n",
      "[CV] END .max_depth=3, min_samples_split=7, n_estimators=300; total time=   0.4s\n",
      "[CV] END .max_depth=3, min_samples_split=7, n_estimators=300; total time=   0.4s\n",
      "[CV] END .max_depth=3, min_samples_split=7, n_estimators=300; total time=   0.5s\n",
      "[CV] END .max_depth=3, min_samples_split=7, n_estimators=300; total time=   0.5s\n",
      "[CV] END ..max_depth=3, min_samples_split=8, n_estimators=10; total time=   0.0s\n",
      "[CV] END ..max_depth=3, min_samples_split=8, n_estimators=10; total time=   0.0s\n",
      "[CV] END ..max_depth=3, min_samples_split=8, n_estimators=10; total time=   0.0s\n",
      "[CV] END ..max_depth=3, min_samples_split=8, n_estimators=10; total time=   0.0s\n",
      "[CV] END ..max_depth=3, min_samples_split=8, n_estimators=10; total time=   0.0s\n",
      "[CV] END ..max_depth=3, min_samples_split=8, n_estimators=50; total time=   0.1s\n",
      "[CV] END ..max_depth=3, min_samples_split=8, n_estimators=50; total time=   0.1s\n",
      "[CV] END ..max_depth=3, min_samples_split=8, n_estimators=50; total time=   0.1s\n",
      "[CV] END ..max_depth=3, min_samples_split=8, n_estimators=50; total time=   0.1s\n",
      "[CV] END ..max_depth=3, min_samples_split=8, n_estimators=50; total time=   0.1s\n",
      "[CV] END .max_depth=3, min_samples_split=8, n_estimators=100; total time=   0.1s\n",
      "[CV] END .max_depth=3, min_samples_split=8, n_estimators=100; total time=   0.1s\n",
      "[CV] END .max_depth=3, min_samples_split=8, n_estimators=100; total time=   0.1s\n",
      "[CV] END .max_depth=3, min_samples_split=8, n_estimators=100; total time=   0.1s\n",
      "[CV] END .max_depth=3, min_samples_split=8, n_estimators=100; total time=   0.1s\n",
      "[CV] END .max_depth=3, min_samples_split=8, n_estimators=300; total time=   0.4s\n",
      "[CV] END .max_depth=3, min_samples_split=8, n_estimators=300; total time=   0.4s\n",
      "[CV] END .max_depth=3, min_samples_split=8, n_estimators=300; total time=   0.5s\n",
      "[CV] END .max_depth=3, min_samples_split=8, n_estimators=300; total time=   0.5s\n",
      "[CV] END .max_depth=3, min_samples_split=8, n_estimators=300; total time=   0.4s\n",
      "[CV] END ..max_depth=3, min_samples_split=9, n_estimators=10; total time=   0.0s\n",
      "[CV] END ..max_depth=3, min_samples_split=9, n_estimators=10; total time=   0.0s\n",
      "[CV] END ..max_depth=3, min_samples_split=9, n_estimators=10; total time=   0.0s\n",
      "[CV] END ..max_depth=3, min_samples_split=9, n_estimators=10; total time=   0.0s\n",
      "[CV] END ..max_depth=3, min_samples_split=9, n_estimators=10; total time=   0.0s\n",
      "[CV] END ..max_depth=3, min_samples_split=9, n_estimators=50; total time=   0.1s\n",
      "[CV] END ..max_depth=3, min_samples_split=9, n_estimators=50; total time=   0.1s\n",
      "[CV] END ..max_depth=3, min_samples_split=9, n_estimators=50; total time=   0.1s\n",
      "[CV] END ..max_depth=3, min_samples_split=9, n_estimators=50; total time=   0.1s\n",
      "[CV] END ..max_depth=3, min_samples_split=9, n_estimators=50; total time=   0.1s\n",
      "[CV] END .max_depth=3, min_samples_split=9, n_estimators=100; total time=   0.1s\n",
      "[CV] END .max_depth=3, min_samples_split=9, n_estimators=100; total time=   0.1s\n",
      "[CV] END .max_depth=3, min_samples_split=9, n_estimators=100; total time=   0.1s\n",
      "[CV] END .max_depth=3, min_samples_split=9, n_estimators=100; total time=   0.1s\n",
      "[CV] END .max_depth=3, min_samples_split=9, n_estimators=100; total time=   0.1s\n",
      "[CV] END .max_depth=3, min_samples_split=9, n_estimators=300; total time=   0.4s\n",
      "[CV] END .max_depth=3, min_samples_split=9, n_estimators=300; total time=   0.6s\n",
      "[CV] END .max_depth=3, min_samples_split=9, n_estimators=300; total time=   0.4s\n",
      "[CV] END .max_depth=3, min_samples_split=9, n_estimators=300; total time=   0.5s\n",
      "[CV] END .max_depth=3, min_samples_split=9, n_estimators=300; total time=   0.6s\n",
      "[CV] END ..max_depth=4, min_samples_split=2, n_estimators=10; total time=   0.0s\n",
      "[CV] END ..max_depth=4, min_samples_split=2, n_estimators=10; total time=   0.0s\n",
      "[CV] END ..max_depth=4, min_samples_split=2, n_estimators=10; total time=   0.0s\n",
      "[CV] END ..max_depth=4, min_samples_split=2, n_estimators=10; total time=   0.0s\n",
      "[CV] END ..max_depth=4, min_samples_split=2, n_estimators=10; total time=   0.0s\n",
      "[CV] END ..max_depth=4, min_samples_split=2, n_estimators=50; total time=   0.1s\n",
      "[CV] END ..max_depth=4, min_samples_split=2, n_estimators=50; total time=   0.1s\n",
      "[CV] END ..max_depth=4, min_samples_split=2, n_estimators=50; total time=   0.1s\n",
      "[CV] END ..max_depth=4, min_samples_split=2, n_estimators=50; total time=   0.1s\n",
      "[CV] END ..max_depth=4, min_samples_split=2, n_estimators=50; total time=   0.1s\n",
      "[CV] END .max_depth=4, min_samples_split=2, n_estimators=100; total time=   0.1s\n",
      "[CV] END .max_depth=4, min_samples_split=2, n_estimators=100; total time=   0.1s\n",
      "[CV] END .max_depth=4, min_samples_split=2, n_estimators=100; total time=   0.1s\n",
      "[CV] END .max_depth=4, min_samples_split=2, n_estimators=100; total time=   0.2s\n",
      "[CV] END .max_depth=4, min_samples_split=2, n_estimators=100; total time=   0.1s\n",
      "[CV] END .max_depth=4, min_samples_split=2, n_estimators=300; total time=   0.4s\n",
      "[CV] END .max_depth=4, min_samples_split=2, n_estimators=300; total time=   0.4s\n",
      "[CV] END .max_depth=4, min_samples_split=2, n_estimators=300; total time=   0.4s\n",
      "[CV] END .max_depth=4, min_samples_split=2, n_estimators=300; total time=   0.4s\n",
      "[CV] END .max_depth=4, min_samples_split=2, n_estimators=300; total time=   0.4s\n",
      "[CV] END ..max_depth=4, min_samples_split=3, n_estimators=10; total time=   0.0s\n",
      "[CV] END ..max_depth=4, min_samples_split=3, n_estimators=10; total time=   0.0s\n",
      "[CV] END ..max_depth=4, min_samples_split=3, n_estimators=10; total time=   0.0s\n",
      "[CV] END ..max_depth=4, min_samples_split=3, n_estimators=10; total time=   0.0s\n",
      "[CV] END ..max_depth=4, min_samples_split=3, n_estimators=10; total time=   0.0s\n",
      "[CV] END ..max_depth=4, min_samples_split=3, n_estimators=50; total time=   0.1s\n",
      "[CV] END ..max_depth=4, min_samples_split=3, n_estimators=50; total time=   0.1s\n",
      "[CV] END ..max_depth=4, min_samples_split=3, n_estimators=50; total time=   0.1s\n",
      "[CV] END ..max_depth=4, min_samples_split=3, n_estimators=50; total time=   0.1s\n",
      "[CV] END ..max_depth=4, min_samples_split=3, n_estimators=50; total time=   0.1s\n",
      "[CV] END .max_depth=4, min_samples_split=3, n_estimators=100; total time=   0.1s\n",
      "[CV] END .max_depth=4, min_samples_split=3, n_estimators=100; total time=   0.1s\n",
      "[CV] END .max_depth=4, min_samples_split=3, n_estimators=100; total time=   0.1s\n",
      "[CV] END .max_depth=4, min_samples_split=3, n_estimators=100; total time=   0.1s\n",
      "[CV] END .max_depth=4, min_samples_split=3, n_estimators=100; total time=   0.1s\n",
      "[CV] END .max_depth=4, min_samples_split=3, n_estimators=300; total time=   0.4s\n",
      "[CV] END .max_depth=4, min_samples_split=3, n_estimators=300; total time=   0.4s\n",
      "[CV] END .max_depth=4, min_samples_split=3, n_estimators=300; total time=   0.4s\n",
      "[CV] END .max_depth=4, min_samples_split=3, n_estimators=300; total time=   0.4s\n",
      "[CV] END .max_depth=4, min_samples_split=3, n_estimators=300; total time=   0.4s\n",
      "[CV] END ..max_depth=4, min_samples_split=4, n_estimators=10; total time=   0.0s\n",
      "[CV] END ..max_depth=4, min_samples_split=4, n_estimators=10; total time=   0.0s\n",
      "[CV] END ..max_depth=4, min_samples_split=4, n_estimators=10; total time=   0.0s\n",
      "[CV] END ..max_depth=4, min_samples_split=4, n_estimators=10; total time=   0.0s\n",
      "[CV] END ..max_depth=4, min_samples_split=4, n_estimators=10; total time=   0.0s\n",
      "[CV] END ..max_depth=4, min_samples_split=4, n_estimators=50; total time=   0.1s\n",
      "[CV] END ..max_depth=4, min_samples_split=4, n_estimators=50; total time=   0.1s\n",
      "[CV] END ..max_depth=4, min_samples_split=4, n_estimators=50; total time=   0.1s\n",
      "[CV] END ..max_depth=4, min_samples_split=4, n_estimators=50; total time=   0.1s\n",
      "[CV] END ..max_depth=4, min_samples_split=4, n_estimators=50; total time=   0.1s\n",
      "[CV] END .max_depth=4, min_samples_split=4, n_estimators=100; total time=   0.1s\n",
      "[CV] END .max_depth=4, min_samples_split=4, n_estimators=100; total time=   0.1s\n",
      "[CV] END .max_depth=4, min_samples_split=4, n_estimators=100; total time=   0.1s\n",
      "[CV] END .max_depth=4, min_samples_split=4, n_estimators=100; total time=   0.1s\n",
      "[CV] END .max_depth=4, min_samples_split=4, n_estimators=100; total time=   0.1s\n",
      "[CV] END .max_depth=4, min_samples_split=4, n_estimators=300; total time=   0.5s\n",
      "[CV] END .max_depth=4, min_samples_split=4, n_estimators=300; total time=   0.5s\n",
      "[CV] END .max_depth=4, min_samples_split=4, n_estimators=300; total time=   0.5s\n",
      "[CV] END .max_depth=4, min_samples_split=4, n_estimators=300; total time=   0.4s\n",
      "[CV] END .max_depth=4, min_samples_split=4, n_estimators=300; total time=   0.5s\n",
      "[CV] END ..max_depth=4, min_samples_split=5, n_estimators=10; total time=   0.0s\n",
      "[CV] END ..max_depth=4, min_samples_split=5, n_estimators=10; total time=   0.0s\n",
      "[CV] END ..max_depth=4, min_samples_split=5, n_estimators=10; total time=   0.0s\n",
      "[CV] END ..max_depth=4, min_samples_split=5, n_estimators=10; total time=   0.0s\n",
      "[CV] END ..max_depth=4, min_samples_split=5, n_estimators=10; total time=   0.0s\n",
      "[CV] END ..max_depth=4, min_samples_split=5, n_estimators=50; total time=   0.1s\n",
      "[CV] END ..max_depth=4, min_samples_split=5, n_estimators=50; total time=   0.1s\n",
      "[CV] END ..max_depth=4, min_samples_split=5, n_estimators=50; total time=   0.1s\n",
      "[CV] END ..max_depth=4, min_samples_split=5, n_estimators=50; total time=   0.1s\n",
      "[CV] END ..max_depth=4, min_samples_split=5, n_estimators=50; total time=   0.1s\n",
      "[CV] END .max_depth=4, min_samples_split=5, n_estimators=100; total time=   0.2s\n",
      "[CV] END .max_depth=4, min_samples_split=5, n_estimators=100; total time=   0.2s\n",
      "[CV] END .max_depth=4, min_samples_split=5, n_estimators=100; total time=   0.2s\n",
      "[CV] END .max_depth=4, min_samples_split=5, n_estimators=100; total time=   0.1s\n",
      "[CV] END .max_depth=4, min_samples_split=5, n_estimators=100; total time=   0.2s\n",
      "[CV] END .max_depth=4, min_samples_split=5, n_estimators=300; total time=   0.5s\n",
      "[CV] END .max_depth=4, min_samples_split=5, n_estimators=300; total time=   0.5s\n",
      "[CV] END .max_depth=4, min_samples_split=5, n_estimators=300; total time=   0.5s\n",
      "[CV] END .max_depth=4, min_samples_split=5, n_estimators=300; total time=   0.5s\n",
      "[CV] END .max_depth=4, min_samples_split=5, n_estimators=300; total time=   0.5s\n",
      "[CV] END ..max_depth=4, min_samples_split=6, n_estimators=10; total time=   0.0s\n",
      "[CV] END ..max_depth=4, min_samples_split=6, n_estimators=10; total time=   0.0s\n",
      "[CV] END ..max_depth=4, min_samples_split=6, n_estimators=10; total time=   0.0s\n",
      "[CV] END ..max_depth=4, min_samples_split=6, n_estimators=10; total time=   0.0s\n",
      "[CV] END ..max_depth=4, min_samples_split=6, n_estimators=10; total time=   0.0s\n",
      "[CV] END ..max_depth=4, min_samples_split=6, n_estimators=50; total time=   0.1s\n",
      "[CV] END ..max_depth=4, min_samples_split=6, n_estimators=50; total time=   0.1s\n",
      "[CV] END ..max_depth=4, min_samples_split=6, n_estimators=50; total time=   0.1s\n",
      "[CV] END ..max_depth=4, min_samples_split=6, n_estimators=50; total time=   0.1s\n",
      "[CV] END ..max_depth=4, min_samples_split=6, n_estimators=50; total time=   0.1s\n",
      "[CV] END .max_depth=4, min_samples_split=6, n_estimators=100; total time=   0.2s\n",
      "[CV] END .max_depth=4, min_samples_split=6, n_estimators=100; total time=   0.2s\n",
      "[CV] END .max_depth=4, min_samples_split=6, n_estimators=100; total time=   0.1s\n",
      "[CV] END .max_depth=4, min_samples_split=6, n_estimators=100; total time=   0.1s\n",
      "[CV] END .max_depth=4, min_samples_split=6, n_estimators=100; total time=   0.1s\n",
      "[CV] END .max_depth=4, min_samples_split=6, n_estimators=300; total time=   0.5s\n",
      "[CV] END .max_depth=4, min_samples_split=6, n_estimators=300; total time=   0.9s\n",
      "[CV] END .max_depth=4, min_samples_split=6, n_estimators=300; total time=   0.6s\n",
      "[CV] END .max_depth=4, min_samples_split=6, n_estimators=300; total time=   0.5s\n",
      "[CV] END .max_depth=4, min_samples_split=6, n_estimators=300; total time=   0.5s\n",
      "[CV] END ..max_depth=4, min_samples_split=7, n_estimators=10; total time=   0.0s\n",
      "[CV] END ..max_depth=4, min_samples_split=7, n_estimators=10; total time=   0.0s\n",
      "[CV] END ..max_depth=4, min_samples_split=7, n_estimators=10; total time=   0.0s\n",
      "[CV] END ..max_depth=4, min_samples_split=7, n_estimators=10; total time=   0.0s\n",
      "[CV] END ..max_depth=4, min_samples_split=7, n_estimators=10; total time=   0.0s\n",
      "[CV] END ..max_depth=4, min_samples_split=7, n_estimators=50; total time=   0.1s\n",
      "[CV] END ..max_depth=4, min_samples_split=7, n_estimators=50; total time=   0.1s\n",
      "[CV] END ..max_depth=4, min_samples_split=7, n_estimators=50; total time=   0.1s\n",
      "[CV] END ..max_depth=4, min_samples_split=7, n_estimators=50; total time=   0.1s\n",
      "[CV] END ..max_depth=4, min_samples_split=7, n_estimators=50; total time=   0.1s\n",
      "[CV] END .max_depth=4, min_samples_split=7, n_estimators=100; total time=   0.1s\n",
      "[CV] END .max_depth=4, min_samples_split=7, n_estimators=100; total time=   0.2s\n",
      "[CV] END .max_depth=4, min_samples_split=7, n_estimators=100; total time=   0.2s\n",
      "[CV] END .max_depth=4, min_samples_split=7, n_estimators=100; total time=   0.2s\n",
      "[CV] END .max_depth=4, min_samples_split=7, n_estimators=100; total time=   0.2s\n",
      "[CV] END .max_depth=4, min_samples_split=7, n_estimators=300; total time=   0.4s\n",
      "[CV] END .max_depth=4, min_samples_split=7, n_estimators=300; total time=   0.4s\n",
      "[CV] END .max_depth=4, min_samples_split=7, n_estimators=300; total time=   0.4s\n",
      "[CV] END .max_depth=4, min_samples_split=7, n_estimators=300; total time=   0.4s\n",
      "[CV] END .max_depth=4, min_samples_split=7, n_estimators=300; total time=   0.6s\n",
      "[CV] END ..max_depth=4, min_samples_split=8, n_estimators=10; total time=   0.0s\n",
      "[CV] END ..max_depth=4, min_samples_split=8, n_estimators=10; total time=   0.0s\n",
      "[CV] END ..max_depth=4, min_samples_split=8, n_estimators=10; total time=   0.0s\n",
      "[CV] END ..max_depth=4, min_samples_split=8, n_estimators=10; total time=   0.0s\n",
      "[CV] END ..max_depth=4, min_samples_split=8, n_estimators=10; total time=   0.0s\n",
      "[CV] END ..max_depth=4, min_samples_split=8, n_estimators=50; total time=   0.1s\n",
      "[CV] END ..max_depth=4, min_samples_split=8, n_estimators=50; total time=   0.1s\n",
      "[CV] END ..max_depth=4, min_samples_split=8, n_estimators=50; total time=   0.1s\n",
      "[CV] END ..max_depth=4, min_samples_split=8, n_estimators=50; total time=   0.1s\n",
      "[CV] END ..max_depth=4, min_samples_split=8, n_estimators=50; total time=   0.1s\n",
      "[CV] END .max_depth=4, min_samples_split=8, n_estimators=100; total time=   0.2s\n",
      "[CV] END .max_depth=4, min_samples_split=8, n_estimators=100; total time=   0.1s\n",
      "[CV] END .max_depth=4, min_samples_split=8, n_estimators=100; total time=   0.1s\n",
      "[CV] END .max_depth=4, min_samples_split=8, n_estimators=100; total time=   0.2s\n",
      "[CV] END .max_depth=4, min_samples_split=8, n_estimators=100; total time=   0.1s\n",
      "[CV] END .max_depth=4, min_samples_split=8, n_estimators=300; total time=   0.5s\n",
      "[CV] END .max_depth=4, min_samples_split=8, n_estimators=300; total time=   0.7s\n",
      "[CV] END .max_depth=4, min_samples_split=8, n_estimators=300; total time=   0.6s\n",
      "[CV] END .max_depth=4, min_samples_split=8, n_estimators=300; total time=   0.5s\n",
      "[CV] END .max_depth=4, min_samples_split=8, n_estimators=300; total time=   0.5s\n",
      "[CV] END ..max_depth=4, min_samples_split=9, n_estimators=10; total time=   0.0s\n",
      "[CV] END ..max_depth=4, min_samples_split=9, n_estimators=10; total time=   0.0s\n",
      "[CV] END ..max_depth=4, min_samples_split=9, n_estimators=10; total time=   0.0s\n",
      "[CV] END ..max_depth=4, min_samples_split=9, n_estimators=10; total time=   0.0s\n",
      "[CV] END ..max_depth=4, min_samples_split=9, n_estimators=10; total time=   0.0s\n",
      "[CV] END ..max_depth=4, min_samples_split=9, n_estimators=50; total time=   0.1s\n",
      "[CV] END ..max_depth=4, min_samples_split=9, n_estimators=50; total time=   0.1s\n",
      "[CV] END ..max_depth=4, min_samples_split=9, n_estimators=50; total time=   0.1s\n",
      "[CV] END ..max_depth=4, min_samples_split=9, n_estimators=50; total time=   0.1s\n",
      "[CV] END ..max_depth=4, min_samples_split=9, n_estimators=50; total time=   0.1s\n",
      "[CV] END .max_depth=4, min_samples_split=9, n_estimators=100; total time=   0.1s\n",
      "[CV] END .max_depth=4, min_samples_split=9, n_estimators=100; total time=   0.1s\n",
      "[CV] END .max_depth=4, min_samples_split=9, n_estimators=100; total time=   0.1s\n",
      "[CV] END .max_depth=4, min_samples_split=9, n_estimators=100; total time=   0.1s\n",
      "[CV] END .max_depth=4, min_samples_split=9, n_estimators=100; total time=   0.1s\n",
      "[CV] END .max_depth=4, min_samples_split=9, n_estimators=300; total time=   0.4s\n",
      "[CV] END .max_depth=4, min_samples_split=9, n_estimators=300; total time=   0.4s\n",
      "[CV] END .max_depth=4, min_samples_split=9, n_estimators=300; total time=   0.4s\n",
      "[CV] END .max_depth=4, min_samples_split=9, n_estimators=300; total time=   0.5s\n",
      "[CV] END .max_depth=4, min_samples_split=9, n_estimators=300; total time=   0.5s\n",
      "[CV] END ..max_depth=5, min_samples_split=2, n_estimators=10; total time=   0.0s\n",
      "[CV] END ..max_depth=5, min_samples_split=2, n_estimators=10; total time=   0.0s\n",
      "[CV] END ..max_depth=5, min_samples_split=2, n_estimators=10; total time=   0.0s\n",
      "[CV] END ..max_depth=5, min_samples_split=2, n_estimators=10; total time=   0.0s\n",
      "[CV] END ..max_depth=5, min_samples_split=2, n_estimators=10; total time=   0.0s\n",
      "[CV] END ..max_depth=5, min_samples_split=2, n_estimators=50; total time=   0.1s\n",
      "[CV] END ..max_depth=5, min_samples_split=2, n_estimators=50; total time=   0.1s\n",
      "[CV] END ..max_depth=5, min_samples_split=2, n_estimators=50; total time=   0.1s\n",
      "[CV] END ..max_depth=5, min_samples_split=2, n_estimators=50; total time=   0.1s\n",
      "[CV] END ..max_depth=5, min_samples_split=2, n_estimators=50; total time=   0.1s\n",
      "[CV] END .max_depth=5, min_samples_split=2, n_estimators=100; total time=   0.1s\n",
      "[CV] END .max_depth=5, min_samples_split=2, n_estimators=100; total time=   0.1s\n",
      "[CV] END .max_depth=5, min_samples_split=2, n_estimators=100; total time=   0.1s\n",
      "[CV] END .max_depth=5, min_samples_split=2, n_estimators=100; total time=   0.1s\n",
      "[CV] END .max_depth=5, min_samples_split=2, n_estimators=100; total time=   0.1s\n",
      "[CV] END .max_depth=5, min_samples_split=2, n_estimators=300; total time=   0.5s\n",
      "[CV] END .max_depth=5, min_samples_split=2, n_estimators=300; total time=   0.4s\n",
      "[CV] END .max_depth=5, min_samples_split=2, n_estimators=300; total time=   0.5s\n",
      "[CV] END .max_depth=5, min_samples_split=2, n_estimators=300; total time=   0.4s\n",
      "[CV] END .max_depth=5, min_samples_split=2, n_estimators=300; total time=   0.5s\n",
      "[CV] END ..max_depth=5, min_samples_split=3, n_estimators=10; total time=   0.0s\n",
      "[CV] END ..max_depth=5, min_samples_split=3, n_estimators=10; total time=   0.0s\n",
      "[CV] END ..max_depth=5, min_samples_split=3, n_estimators=10; total time=   0.0s\n",
      "[CV] END ..max_depth=5, min_samples_split=3, n_estimators=10; total time=   0.0s\n",
      "[CV] END ..max_depth=5, min_samples_split=3, n_estimators=10; total time=   0.0s\n",
      "[CV] END ..max_depth=5, min_samples_split=3, n_estimators=50; total time=   0.1s\n",
      "[CV] END ..max_depth=5, min_samples_split=3, n_estimators=50; total time=   0.1s\n",
      "[CV] END ..max_depth=5, min_samples_split=3, n_estimators=50; total time=   0.1s\n",
      "[CV] END ..max_depth=5, min_samples_split=3, n_estimators=50; total time=   0.1s\n",
      "[CV] END ..max_depth=5, min_samples_split=3, n_estimators=50; total time=   0.1s\n",
      "[CV] END .max_depth=5, min_samples_split=3, n_estimators=100; total time=   0.1s\n",
      "[CV] END .max_depth=5, min_samples_split=3, n_estimators=100; total time=   0.2s\n",
      "[CV] END .max_depth=5, min_samples_split=3, n_estimators=100; total time=   0.1s\n",
      "[CV] END .max_depth=5, min_samples_split=3, n_estimators=100; total time=   0.2s\n",
      "[CV] END .max_depth=5, min_samples_split=3, n_estimators=100; total time=   0.2s\n",
      "[CV] END .max_depth=5, min_samples_split=3, n_estimators=300; total time=   0.6s\n",
      "[CV] END .max_depth=5, min_samples_split=3, n_estimators=300; total time=   0.6s\n",
      "[CV] END .max_depth=5, min_samples_split=3, n_estimators=300; total time=   0.5s\n",
      "[CV] END .max_depth=5, min_samples_split=3, n_estimators=300; total time=   0.4s\n",
      "[CV] END .max_depth=5, min_samples_split=3, n_estimators=300; total time=   0.5s\n",
      "[CV] END ..max_depth=5, min_samples_split=4, n_estimators=10; total time=   0.0s\n",
      "[CV] END ..max_depth=5, min_samples_split=4, n_estimators=10; total time=   0.0s\n",
      "[CV] END ..max_depth=5, min_samples_split=4, n_estimators=10; total time=   0.0s\n",
      "[CV] END ..max_depth=5, min_samples_split=4, n_estimators=10; total time=   0.0s\n",
      "[CV] END ..max_depth=5, min_samples_split=4, n_estimators=10; total time=   0.0s\n",
      "[CV] END ..max_depth=5, min_samples_split=4, n_estimators=50; total time=   0.1s\n",
      "[CV] END ..max_depth=5, min_samples_split=4, n_estimators=50; total time=   0.1s\n",
      "[CV] END ..max_depth=5, min_samples_split=4, n_estimators=50; total time=   0.1s\n",
      "[CV] END ..max_depth=5, min_samples_split=4, n_estimators=50; total time=   0.1s\n",
      "[CV] END ..max_depth=5, min_samples_split=4, n_estimators=50; total time=   0.1s\n",
      "[CV] END .max_depth=5, min_samples_split=4, n_estimators=100; total time=   0.2s\n",
      "[CV] END .max_depth=5, min_samples_split=4, n_estimators=100; total time=   0.2s\n",
      "[CV] END .max_depth=5, min_samples_split=4, n_estimators=100; total time=   0.2s\n",
      "[CV] END .max_depth=5, min_samples_split=4, n_estimators=100; total time=   0.2s\n",
      "[CV] END .max_depth=5, min_samples_split=4, n_estimators=100; total time=   0.2s\n",
      "[CV] END .max_depth=5, min_samples_split=4, n_estimators=300; total time=   0.5s\n",
      "[CV] END .max_depth=5, min_samples_split=4, n_estimators=300; total time=   0.5s\n",
      "[CV] END .max_depth=5, min_samples_split=4, n_estimators=300; total time=   0.5s\n",
      "[CV] END .max_depth=5, min_samples_split=4, n_estimators=300; total time=   0.5s\n",
      "[CV] END .max_depth=5, min_samples_split=4, n_estimators=300; total time=   0.4s\n",
      "[CV] END ..max_depth=5, min_samples_split=5, n_estimators=10; total time=   0.0s\n",
      "[CV] END ..max_depth=5, min_samples_split=5, n_estimators=10; total time=   0.0s\n",
      "[CV] END ..max_depth=5, min_samples_split=5, n_estimators=10; total time=   0.0s\n",
      "[CV] END ..max_depth=5, min_samples_split=5, n_estimators=10; total time=   0.0s\n",
      "[CV] END ..max_depth=5, min_samples_split=5, n_estimators=10; total time=   0.0s\n",
      "[CV] END ..max_depth=5, min_samples_split=5, n_estimators=50; total time=   0.1s\n",
      "[CV] END ..max_depth=5, min_samples_split=5, n_estimators=50; total time=   0.1s\n",
      "[CV] END ..max_depth=5, min_samples_split=5, n_estimators=50; total time=   0.1s\n",
      "[CV] END ..max_depth=5, min_samples_split=5, n_estimators=50; total time=   0.1s\n",
      "[CV] END ..max_depth=5, min_samples_split=5, n_estimators=50; total time=   0.1s\n",
      "[CV] END .max_depth=5, min_samples_split=5, n_estimators=100; total time=   0.2s\n",
      "[CV] END .max_depth=5, min_samples_split=5, n_estimators=100; total time=   0.1s\n",
      "[CV] END .max_depth=5, min_samples_split=5, n_estimators=100; total time=   0.2s\n",
      "[CV] END .max_depth=5, min_samples_split=5, n_estimators=100; total time=   0.2s\n",
      "[CV] END .max_depth=5, min_samples_split=5, n_estimators=100; total time=   0.2s\n",
      "[CV] END .max_depth=5, min_samples_split=5, n_estimators=300; total time=   0.6s\n",
      "[CV] END .max_depth=5, min_samples_split=5, n_estimators=300; total time=   0.4s\n",
      "[CV] END .max_depth=5, min_samples_split=5, n_estimators=300; total time=   0.5s\n",
      "[CV] END .max_depth=5, min_samples_split=5, n_estimators=300; total time=   0.5s\n",
      "[CV] END .max_depth=5, min_samples_split=5, n_estimators=300; total time=   0.6s\n",
      "[CV] END ..max_depth=5, min_samples_split=6, n_estimators=10; total time=   0.0s\n",
      "[CV] END ..max_depth=5, min_samples_split=6, n_estimators=10; total time=   0.0s\n",
      "[CV] END ..max_depth=5, min_samples_split=6, n_estimators=10; total time=   0.0s\n",
      "[CV] END ..max_depth=5, min_samples_split=6, n_estimators=10; total time=   0.0s\n",
      "[CV] END ..max_depth=5, min_samples_split=6, n_estimators=10; total time=   0.0s\n",
      "[CV] END ..max_depth=5, min_samples_split=6, n_estimators=50; total time=   0.1s\n",
      "[CV] END ..max_depth=5, min_samples_split=6, n_estimators=50; total time=   0.1s\n",
      "[CV] END ..max_depth=5, min_samples_split=6, n_estimators=50; total time=   0.1s\n",
      "[CV] END ..max_depth=5, min_samples_split=6, n_estimators=50; total time=   0.1s\n",
      "[CV] END ..max_depth=5, min_samples_split=6, n_estimators=50; total time=   0.2s\n",
      "[CV] END .max_depth=5, min_samples_split=6, n_estimators=100; total time=   0.4s\n",
      "[CV] END .max_depth=5, min_samples_split=6, n_estimators=100; total time=   0.3s\n",
      "[CV] END .max_depth=5, min_samples_split=6, n_estimators=100; total time=   0.2s\n",
      "[CV] END .max_depth=5, min_samples_split=6, n_estimators=100; total time=   0.2s\n",
      "[CV] END .max_depth=5, min_samples_split=6, n_estimators=100; total time=   0.2s\n",
      "[CV] END .max_depth=5, min_samples_split=6, n_estimators=300; total time=   0.6s\n",
      "[CV] END .max_depth=5, min_samples_split=6, n_estimators=300; total time=   0.6s\n",
      "[CV] END .max_depth=5, min_samples_split=6, n_estimators=300; total time=   0.5s\n",
      "[CV] END .max_depth=5, min_samples_split=6, n_estimators=300; total time=   0.6s\n",
      "[CV] END .max_depth=5, min_samples_split=6, n_estimators=300; total time=   0.6s\n",
      "[CV] END ..max_depth=5, min_samples_split=7, n_estimators=10; total time=   0.0s\n",
      "[CV] END ..max_depth=5, min_samples_split=7, n_estimators=10; total time=   0.0s\n",
      "[CV] END ..max_depth=5, min_samples_split=7, n_estimators=10; total time=   0.0s\n",
      "[CV] END ..max_depth=5, min_samples_split=7, n_estimators=10; total time=   0.0s\n",
      "[CV] END ..max_depth=5, min_samples_split=7, n_estimators=10; total time=   0.0s\n",
      "[CV] END ..max_depth=5, min_samples_split=7, n_estimators=50; total time=   0.1s\n",
      "[CV] END ..max_depth=5, min_samples_split=7, n_estimators=50; total time=   0.1s\n",
      "[CV] END ..max_depth=5, min_samples_split=7, n_estimators=50; total time=   0.1s\n",
      "[CV] END ..max_depth=5, min_samples_split=7, n_estimators=50; total time=   0.1s\n",
      "[CV] END ..max_depth=5, min_samples_split=7, n_estimators=50; total time=   0.1s\n",
      "[CV] END .max_depth=5, min_samples_split=7, n_estimators=100; total time=   0.2s\n",
      "[CV] END .max_depth=5, min_samples_split=7, n_estimators=100; total time=   0.1s\n",
      "[CV] END .max_depth=5, min_samples_split=7, n_estimators=100; total time=   0.1s\n",
      "[CV] END .max_depth=5, min_samples_split=7, n_estimators=100; total time=   0.2s\n",
      "[CV] END .max_depth=5, min_samples_split=7, n_estimators=100; total time=   0.1s\n",
      "[CV] END .max_depth=5, min_samples_split=7, n_estimators=300; total time=   0.5s\n",
      "[CV] END .max_depth=5, min_samples_split=7, n_estimators=300; total time=   0.5s\n",
      "[CV] END .max_depth=5, min_samples_split=7, n_estimators=300; total time=   0.6s\n",
      "[CV] END .max_depth=5, min_samples_split=7, n_estimators=300; total time=   0.5s\n",
      "[CV] END .max_depth=5, min_samples_split=7, n_estimators=300; total time=   0.5s\n",
      "[CV] END ..max_depth=5, min_samples_split=8, n_estimators=10; total time=   0.0s\n",
      "[CV] END ..max_depth=5, min_samples_split=8, n_estimators=10; total time=   0.0s\n",
      "[CV] END ..max_depth=5, min_samples_split=8, n_estimators=10; total time=   0.0s\n",
      "[CV] END ..max_depth=5, min_samples_split=8, n_estimators=10; total time=   0.0s\n",
      "[CV] END ..max_depth=5, min_samples_split=8, n_estimators=10; total time=   0.0s\n",
      "[CV] END ..max_depth=5, min_samples_split=8, n_estimators=50; total time=   0.1s\n",
      "[CV] END ..max_depth=5, min_samples_split=8, n_estimators=50; total time=   0.1s\n",
      "[CV] END ..max_depth=5, min_samples_split=8, n_estimators=50; total time=   0.1s\n",
      "[CV] END ..max_depth=5, min_samples_split=8, n_estimators=50; total time=   0.1s\n",
      "[CV] END ..max_depth=5, min_samples_split=8, n_estimators=50; total time=   0.1s\n",
      "[CV] END .max_depth=5, min_samples_split=8, n_estimators=100; total time=   0.2s\n",
      "[CV] END .max_depth=5, min_samples_split=8, n_estimators=100; total time=   0.2s\n",
      "[CV] END .max_depth=5, min_samples_split=8, n_estimators=100; total time=   0.2s\n",
      "[CV] END .max_depth=5, min_samples_split=8, n_estimators=100; total time=   0.3s\n",
      "[CV] END .max_depth=5, min_samples_split=8, n_estimators=100; total time=   0.2s\n",
      "[CV] END .max_depth=5, min_samples_split=8, n_estimators=300; total time=   0.5s\n",
      "[CV] END .max_depth=5, min_samples_split=8, n_estimators=300; total time=   0.5s\n",
      "[CV] END .max_depth=5, min_samples_split=8, n_estimators=300; total time=   0.5s\n",
      "[CV] END .max_depth=5, min_samples_split=8, n_estimators=300; total time=   0.5s\n",
      "[CV] END .max_depth=5, min_samples_split=8, n_estimators=300; total time=   0.5s\n",
      "[CV] END ..max_depth=5, min_samples_split=9, n_estimators=10; total time=   0.0s\n",
      "[CV] END ..max_depth=5, min_samples_split=9, n_estimators=10; total time=   0.0s\n",
      "[CV] END ..max_depth=5, min_samples_split=9, n_estimators=10; total time=   0.0s\n",
      "[CV] END ..max_depth=5, min_samples_split=9, n_estimators=10; total time=   0.0s\n",
      "[CV] END ..max_depth=5, min_samples_split=9, n_estimators=10; total time=   0.0s\n",
      "[CV] END ..max_depth=5, min_samples_split=9, n_estimators=50; total time=   0.1s\n",
      "[CV] END ..max_depth=5, min_samples_split=9, n_estimators=50; total time=   0.1s\n",
      "[CV] END ..max_depth=5, min_samples_split=9, n_estimators=50; total time=   0.1s\n",
      "[CV] END ..max_depth=5, min_samples_split=9, n_estimators=50; total time=   0.1s\n",
      "[CV] END ..max_depth=5, min_samples_split=9, n_estimators=50; total time=   0.1s\n",
      "[CV] END .max_depth=5, min_samples_split=9, n_estimators=100; total time=   0.1s\n",
      "[CV] END .max_depth=5, min_samples_split=9, n_estimators=100; total time=   0.2s\n",
      "[CV] END .max_depth=5, min_samples_split=9, n_estimators=100; total time=   0.2s\n",
      "[CV] END .max_depth=5, min_samples_split=9, n_estimators=100; total time=   0.2s\n",
      "[CV] END .max_depth=5, min_samples_split=9, n_estimators=100; total time=   0.2s\n",
      "[CV] END .max_depth=5, min_samples_split=9, n_estimators=300; total time=   0.5s\n",
      "[CV] END .max_depth=5, min_samples_split=9, n_estimators=300; total time=   0.5s\n",
      "[CV] END .max_depth=5, min_samples_split=9, n_estimators=300; total time=   0.5s\n",
      "[CV] END .max_depth=5, min_samples_split=9, n_estimators=300; total time=   0.5s\n",
      "[CV] END .max_depth=5, min_samples_split=9, n_estimators=300; total time=   0.4s\n",
      "[CV] END ..max_depth=6, min_samples_split=2, n_estimators=10; total time=   0.0s\n",
      "[CV] END ..max_depth=6, min_samples_split=2, n_estimators=10; total time=   0.0s\n",
      "[CV] END ..max_depth=6, min_samples_split=2, n_estimators=10; total time=   0.0s\n",
      "[CV] END ..max_depth=6, min_samples_split=2, n_estimators=10; total time=   0.0s\n",
      "[CV] END ..max_depth=6, min_samples_split=2, n_estimators=10; total time=   0.0s\n",
      "[CV] END ..max_depth=6, min_samples_split=2, n_estimators=50; total time=   0.1s\n",
      "[CV] END ..max_depth=6, min_samples_split=2, n_estimators=50; total time=   0.1s\n",
      "[CV] END ..max_depth=6, min_samples_split=2, n_estimators=50; total time=   0.1s\n",
      "[CV] END ..max_depth=6, min_samples_split=2, n_estimators=50; total time=   0.1s\n",
      "[CV] END ..max_depth=6, min_samples_split=2, n_estimators=50; total time=   0.1s\n",
      "[CV] END .max_depth=6, min_samples_split=2, n_estimators=100; total time=   0.2s\n",
      "[CV] END .max_depth=6, min_samples_split=2, n_estimators=100; total time=   0.2s\n",
      "[CV] END .max_depth=6, min_samples_split=2, n_estimators=100; total time=   0.2s\n",
      "[CV] END .max_depth=6, min_samples_split=2, n_estimators=100; total time=   0.2s\n",
      "[CV] END .max_depth=6, min_samples_split=2, n_estimators=100; total time=   0.2s\n",
      "[CV] END .max_depth=6, min_samples_split=2, n_estimators=300; total time=   0.6s\n",
      "[CV] END .max_depth=6, min_samples_split=2, n_estimators=300; total time=   0.5s\n",
      "[CV] END .max_depth=6, min_samples_split=2, n_estimators=300; total time=   0.5s\n",
      "[CV] END .max_depth=6, min_samples_split=2, n_estimators=300; total time=   0.5s\n",
      "[CV] END .max_depth=6, min_samples_split=2, n_estimators=300; total time=   0.5s\n",
      "[CV] END ..max_depth=6, min_samples_split=3, n_estimators=10; total time=   0.0s\n",
      "[CV] END ..max_depth=6, min_samples_split=3, n_estimators=10; total time=   0.0s\n",
      "[CV] END ..max_depth=6, min_samples_split=3, n_estimators=10; total time=   0.0s\n",
      "[CV] END ..max_depth=6, min_samples_split=3, n_estimators=10; total time=   0.0s\n",
      "[CV] END ..max_depth=6, min_samples_split=3, n_estimators=10; total time=   0.0s\n",
      "[CV] END ..max_depth=6, min_samples_split=3, n_estimators=50; total time=   0.1s\n",
      "[CV] END ..max_depth=6, min_samples_split=3, n_estimators=50; total time=   0.1s\n",
      "[CV] END ..max_depth=6, min_samples_split=3, n_estimators=50; total time=   0.1s\n",
      "[CV] END ..max_depth=6, min_samples_split=3, n_estimators=50; total time=   0.1s\n",
      "[CV] END ..max_depth=6, min_samples_split=3, n_estimators=50; total time=   0.1s\n",
      "[CV] END .max_depth=6, min_samples_split=3, n_estimators=100; total time=   0.2s\n",
      "[CV] END .max_depth=6, min_samples_split=3, n_estimators=100; total time=   0.2s\n",
      "[CV] END .max_depth=6, min_samples_split=3, n_estimators=100; total time=   0.2s\n",
      "[CV] END .max_depth=6, min_samples_split=3, n_estimators=100; total time=   0.2s\n",
      "[CV] END .max_depth=6, min_samples_split=3, n_estimators=100; total time=   0.2s\n",
      "[CV] END .max_depth=6, min_samples_split=3, n_estimators=300; total time=   0.6s\n",
      "[CV] END .max_depth=6, min_samples_split=3, n_estimators=300; total time=   0.6s\n",
      "[CV] END .max_depth=6, min_samples_split=3, n_estimators=300; total time=   0.9s\n",
      "[CV] END .max_depth=6, min_samples_split=3, n_estimators=300; total time=   0.9s\n",
      "[CV] END .max_depth=6, min_samples_split=3, n_estimators=300; total time=   0.8s\n",
      "[CV] END ..max_depth=6, min_samples_split=4, n_estimators=10; total time=   0.0s\n",
      "[CV] END ..max_depth=6, min_samples_split=4, n_estimators=10; total time=   0.0s\n",
      "[CV] END ..max_depth=6, min_samples_split=4, n_estimators=10; total time=   0.0s\n",
      "[CV] END ..max_depth=6, min_samples_split=4, n_estimators=10; total time=   0.0s\n",
      "[CV] END ..max_depth=6, min_samples_split=4, n_estimators=10; total time=   0.0s\n",
      "[CV] END ..max_depth=6, min_samples_split=4, n_estimators=50; total time=   0.2s\n",
      "[CV] END ..max_depth=6, min_samples_split=4, n_estimators=50; total time=   0.1s\n",
      "[CV] END ..max_depth=6, min_samples_split=4, n_estimators=50; total time=   0.1s\n",
      "[CV] END ..max_depth=6, min_samples_split=4, n_estimators=50; total time=   0.1s\n",
      "[CV] END ..max_depth=6, min_samples_split=4, n_estimators=50; total time=   0.1s\n",
      "[CV] END .max_depth=6, min_samples_split=4, n_estimators=100; total time=   0.2s\n",
      "[CV] END .max_depth=6, min_samples_split=4, n_estimators=100; total time=   0.2s\n",
      "[CV] END .max_depth=6, min_samples_split=4, n_estimators=100; total time=   0.2s\n",
      "[CV] END .max_depth=6, min_samples_split=4, n_estimators=100; total time=   0.2s\n",
      "[CV] END .max_depth=6, min_samples_split=4, n_estimators=100; total time=   0.2s\n",
      "[CV] END .max_depth=6, min_samples_split=4, n_estimators=300; total time=   0.7s\n",
      "[CV] END .max_depth=6, min_samples_split=4, n_estimators=300; total time=   0.5s\n",
      "[CV] END .max_depth=6, min_samples_split=4, n_estimators=300; total time=   0.5s\n",
      "[CV] END .max_depth=6, min_samples_split=4, n_estimators=300; total time=   0.4s\n",
      "[CV] END .max_depth=6, min_samples_split=4, n_estimators=300; total time=   0.5s\n",
      "[CV] END ..max_depth=6, min_samples_split=5, n_estimators=10; total time=   0.0s\n",
      "[CV] END ..max_depth=6, min_samples_split=5, n_estimators=10; total time=   0.0s\n",
      "[CV] END ..max_depth=6, min_samples_split=5, n_estimators=10; total time=   0.0s\n",
      "[CV] END ..max_depth=6, min_samples_split=5, n_estimators=10; total time=   0.0s\n",
      "[CV] END ..max_depth=6, min_samples_split=5, n_estimators=10; total time=   0.0s\n",
      "[CV] END ..max_depth=6, min_samples_split=5, n_estimators=50; total time=   0.1s\n",
      "[CV] END ..max_depth=6, min_samples_split=5, n_estimators=50; total time=   0.1s\n",
      "[CV] END ..max_depth=6, min_samples_split=5, n_estimators=50; total time=   0.1s\n",
      "[CV] END ..max_depth=6, min_samples_split=5, n_estimators=50; total time=   0.1s\n",
      "[CV] END ..max_depth=6, min_samples_split=5, n_estimators=50; total time=   0.1s\n",
      "[CV] END .max_depth=6, min_samples_split=5, n_estimators=100; total time=   0.2s\n",
      "[CV] END .max_depth=6, min_samples_split=5, n_estimators=100; total time=   0.2s\n",
      "[CV] END .max_depth=6, min_samples_split=5, n_estimators=100; total time=   0.2s\n",
      "[CV] END .max_depth=6, min_samples_split=5, n_estimators=100; total time=   0.2s\n",
      "[CV] END .max_depth=6, min_samples_split=5, n_estimators=100; total time=   0.2s\n",
      "[CV] END .max_depth=6, min_samples_split=5, n_estimators=300; total time=   0.5s\n",
      "[CV] END .max_depth=6, min_samples_split=5, n_estimators=300; total time=   0.5s\n",
      "[CV] END .max_depth=6, min_samples_split=5, n_estimators=300; total time=   0.5s\n",
      "[CV] END .max_depth=6, min_samples_split=5, n_estimators=300; total time=   0.5s\n",
      "[CV] END .max_depth=6, min_samples_split=5, n_estimators=300; total time=   0.5s\n",
      "[CV] END ..max_depth=6, min_samples_split=6, n_estimators=10; total time=   0.0s\n",
      "[CV] END ..max_depth=6, min_samples_split=6, n_estimators=10; total time=   0.0s\n",
      "[CV] END ..max_depth=6, min_samples_split=6, n_estimators=10; total time=   0.0s\n",
      "[CV] END ..max_depth=6, min_samples_split=6, n_estimators=10; total time=   0.0s\n",
      "[CV] END ..max_depth=6, min_samples_split=6, n_estimators=10; total time=   0.0s\n",
      "[CV] END ..max_depth=6, min_samples_split=6, n_estimators=50; total time=   0.1s\n",
      "[CV] END ..max_depth=6, min_samples_split=6, n_estimators=50; total time=   0.1s\n",
      "[CV] END ..max_depth=6, min_samples_split=6, n_estimators=50; total time=   0.1s\n",
      "[CV] END ..max_depth=6, min_samples_split=6, n_estimators=50; total time=   0.1s\n",
      "[CV] END ..max_depth=6, min_samples_split=6, n_estimators=50; total time=   0.1s\n",
      "[CV] END .max_depth=6, min_samples_split=6, n_estimators=100; total time=   0.2s\n",
      "[CV] END .max_depth=6, min_samples_split=6, n_estimators=100; total time=   0.2s\n",
      "[CV] END .max_depth=6, min_samples_split=6, n_estimators=100; total time=   0.2s\n",
      "[CV] END .max_depth=6, min_samples_split=6, n_estimators=100; total time=   0.2s\n",
      "[CV] END .max_depth=6, min_samples_split=6, n_estimators=100; total time=   0.2s\n",
      "[CV] END .max_depth=6, min_samples_split=6, n_estimators=300; total time=   0.5s\n",
      "[CV] END .max_depth=6, min_samples_split=6, n_estimators=300; total time=   0.5s\n",
      "[CV] END .max_depth=6, min_samples_split=6, n_estimators=300; total time=   0.5s\n",
      "[CV] END .max_depth=6, min_samples_split=6, n_estimators=300; total time=   0.5s\n",
      "[CV] END .max_depth=6, min_samples_split=6, n_estimators=300; total time=   0.6s\n",
      "[CV] END ..max_depth=6, min_samples_split=7, n_estimators=10; total time=   0.0s\n",
      "[CV] END ..max_depth=6, min_samples_split=7, n_estimators=10; total time=   0.0s\n",
      "[CV] END ..max_depth=6, min_samples_split=7, n_estimators=10; total time=   0.0s\n",
      "[CV] END ..max_depth=6, min_samples_split=7, n_estimators=10; total time=   0.0s\n",
      "[CV] END ..max_depth=6, min_samples_split=7, n_estimators=10; total time=   0.0s\n",
      "[CV] END ..max_depth=6, min_samples_split=7, n_estimators=50; total time=   0.1s\n",
      "[CV] END ..max_depth=6, min_samples_split=7, n_estimators=50; total time=   0.1s\n",
      "[CV] END ..max_depth=6, min_samples_split=7, n_estimators=50; total time=   0.1s\n",
      "[CV] END ..max_depth=6, min_samples_split=7, n_estimators=50; total time=   0.1s\n",
      "[CV] END ..max_depth=6, min_samples_split=7, n_estimators=50; total time=   0.1s\n",
      "[CV] END .max_depth=6, min_samples_split=7, n_estimators=100; total time=   0.2s\n",
      "[CV] END .max_depth=6, min_samples_split=7, n_estimators=100; total time=   0.2s\n",
      "[CV] END .max_depth=6, min_samples_split=7, n_estimators=100; total time=   0.2s\n",
      "[CV] END .max_depth=6, min_samples_split=7, n_estimators=100; total time=   0.2s\n",
      "[CV] END .max_depth=6, min_samples_split=7, n_estimators=100; total time=   0.2s\n",
      "[CV] END .max_depth=6, min_samples_split=7, n_estimators=300; total time=   0.6s\n",
      "[CV] END .max_depth=6, min_samples_split=7, n_estimators=300; total time=   0.5s\n",
      "[CV] END .max_depth=6, min_samples_split=7, n_estimators=300; total time=   0.6s\n",
      "[CV] END .max_depth=6, min_samples_split=7, n_estimators=300; total time=   0.6s\n",
      "[CV] END .max_depth=6, min_samples_split=7, n_estimators=300; total time=   0.5s\n",
      "[CV] END ..max_depth=6, min_samples_split=8, n_estimators=10; total time=   0.0s\n",
      "[CV] END ..max_depth=6, min_samples_split=8, n_estimators=10; total time=   0.0s\n",
      "[CV] END ..max_depth=6, min_samples_split=8, n_estimators=10; total time=   0.0s\n",
      "[CV] END ..max_depth=6, min_samples_split=8, n_estimators=10; total time=   0.0s\n",
      "[CV] END ..max_depth=6, min_samples_split=8, n_estimators=10; total time=   0.0s\n",
      "[CV] END ..max_depth=6, min_samples_split=8, n_estimators=50; total time=   0.1s\n",
      "[CV] END ..max_depth=6, min_samples_split=8, n_estimators=50; total time=   0.1s\n",
      "[CV] END ..max_depth=6, min_samples_split=8, n_estimators=50; total time=   0.1s\n",
      "[CV] END ..max_depth=6, min_samples_split=8, n_estimators=50; total time=   0.1s\n",
      "[CV] END ..max_depth=6, min_samples_split=8, n_estimators=50; total time=   0.1s\n",
      "[CV] END .max_depth=6, min_samples_split=8, n_estimators=100; total time=   0.2s\n",
      "[CV] END .max_depth=6, min_samples_split=8, n_estimators=100; total time=   0.1s\n",
      "[CV] END .max_depth=6, min_samples_split=8, n_estimators=100; total time=   0.2s\n",
      "[CV] END .max_depth=6, min_samples_split=8, n_estimators=100; total time=   0.2s\n",
      "[CV] END .max_depth=6, min_samples_split=8, n_estimators=100; total time=   0.1s\n",
      "[CV] END .max_depth=6, min_samples_split=8, n_estimators=300; total time=   0.5s\n",
      "[CV] END .max_depth=6, min_samples_split=8, n_estimators=300; total time=   0.6s\n",
      "[CV] END .max_depth=6, min_samples_split=8, n_estimators=300; total time=   0.5s\n",
      "[CV] END .max_depth=6, min_samples_split=8, n_estimators=300; total time=   0.5s\n",
      "[CV] END .max_depth=6, min_samples_split=8, n_estimators=300; total time=   0.5s\n",
      "[CV] END ..max_depth=6, min_samples_split=9, n_estimators=10; total time=   0.0s\n",
      "[CV] END ..max_depth=6, min_samples_split=9, n_estimators=10; total time=   0.0s\n",
      "[CV] END ..max_depth=6, min_samples_split=9, n_estimators=10; total time=   0.0s\n",
      "[CV] END ..max_depth=6, min_samples_split=9, n_estimators=10; total time=   0.0s\n",
      "[CV] END ..max_depth=6, min_samples_split=9, n_estimators=10; total time=   0.0s\n",
      "[CV] END ..max_depth=6, min_samples_split=9, n_estimators=50; total time=   0.1s\n",
      "[CV] END ..max_depth=6, min_samples_split=9, n_estimators=50; total time=   0.1s\n",
      "[CV] END ..max_depth=6, min_samples_split=9, n_estimators=50; total time=   0.1s\n",
      "[CV] END ..max_depth=6, min_samples_split=9, n_estimators=50; total time=   0.1s\n",
      "[CV] END ..max_depth=6, min_samples_split=9, n_estimators=50; total time=   0.1s\n",
      "[CV] END .max_depth=6, min_samples_split=9, n_estimators=100; total time=   0.2s\n",
      "[CV] END .max_depth=6, min_samples_split=9, n_estimators=100; total time=   0.2s\n",
      "[CV] END .max_depth=6, min_samples_split=9, n_estimators=100; total time=   0.1s\n",
      "[CV] END .max_depth=6, min_samples_split=9, n_estimators=100; total time=   0.2s\n",
      "[CV] END .max_depth=6, min_samples_split=9, n_estimators=100; total time=   0.2s\n",
      "[CV] END .max_depth=6, min_samples_split=9, n_estimators=300; total time=   0.5s\n",
      "[CV] END .max_depth=6, min_samples_split=9, n_estimators=300; total time=   0.6s\n",
      "[CV] END .max_depth=6, min_samples_split=9, n_estimators=300; total time=   0.6s\n",
      "[CV] END .max_depth=6, min_samples_split=9, n_estimators=300; total time=   0.6s\n",
      "[CV] END .max_depth=6, min_samples_split=9, n_estimators=300; total time=   0.5s\n",
      "[CV] END ..max_depth=7, min_samples_split=2, n_estimators=10; total time=   0.0s\n",
      "[CV] END ..max_depth=7, min_samples_split=2, n_estimators=10; total time=   0.0s\n",
      "[CV] END ..max_depth=7, min_samples_split=2, n_estimators=10; total time=   0.0s\n",
      "[CV] END ..max_depth=7, min_samples_split=2, n_estimators=10; total time=   0.0s\n",
      "[CV] END ..max_depth=7, min_samples_split=2, n_estimators=10; total time=   0.0s\n",
      "[CV] END ..max_depth=7, min_samples_split=2, n_estimators=50; total time=   0.1s\n",
      "[CV] END ..max_depth=7, min_samples_split=2, n_estimators=50; total time=   0.1s\n",
      "[CV] END ..max_depth=7, min_samples_split=2, n_estimators=50; total time=   0.1s\n",
      "[CV] END ..max_depth=7, min_samples_split=2, n_estimators=50; total time=   0.1s\n",
      "[CV] END ..max_depth=7, min_samples_split=2, n_estimators=50; total time=   0.1s\n",
      "[CV] END .max_depth=7, min_samples_split=2, n_estimators=100; total time=   0.2s\n",
      "[CV] END .max_depth=7, min_samples_split=2, n_estimators=100; total time=   0.2s\n",
      "[CV] END .max_depth=7, min_samples_split=2, n_estimators=100; total time=   0.2s\n",
      "[CV] END .max_depth=7, min_samples_split=2, n_estimators=100; total time=   0.2s\n",
      "[CV] END .max_depth=7, min_samples_split=2, n_estimators=100; total time=   0.2s\n",
      "[CV] END .max_depth=7, min_samples_split=2, n_estimators=300; total time=   0.6s\n",
      "[CV] END .max_depth=7, min_samples_split=2, n_estimators=300; total time=   0.6s\n",
      "[CV] END .max_depth=7, min_samples_split=2, n_estimators=300; total time=   0.6s\n",
      "[CV] END .max_depth=7, min_samples_split=2, n_estimators=300; total time=   0.6s\n",
      "[CV] END .max_depth=7, min_samples_split=2, n_estimators=300; total time=   0.6s\n",
      "[CV] END ..max_depth=7, min_samples_split=3, n_estimators=10; total time=   0.0s\n",
      "[CV] END ..max_depth=7, min_samples_split=3, n_estimators=10; total time=   0.0s\n",
      "[CV] END ..max_depth=7, min_samples_split=3, n_estimators=10; total time=   0.0s\n",
      "[CV] END ..max_depth=7, min_samples_split=3, n_estimators=10; total time=   0.0s\n",
      "[CV] END ..max_depth=7, min_samples_split=3, n_estimators=10; total time=   0.0s\n",
      "[CV] END ..max_depth=7, min_samples_split=3, n_estimators=50; total time=   0.1s\n",
      "[CV] END ..max_depth=7, min_samples_split=3, n_estimators=50; total time=   0.1s\n",
      "[CV] END ..max_depth=7, min_samples_split=3, n_estimators=50; total time=   0.1s\n",
      "[CV] END ..max_depth=7, min_samples_split=3, n_estimators=50; total time=   0.1s\n",
      "[CV] END ..max_depth=7, min_samples_split=3, n_estimators=50; total time=   0.1s\n",
      "[CV] END .max_depth=7, min_samples_split=3, n_estimators=100; total time=   0.2s\n",
      "[CV] END .max_depth=7, min_samples_split=3, n_estimators=100; total time=   0.2s\n",
      "[CV] END .max_depth=7, min_samples_split=3, n_estimators=100; total time=   0.2s\n",
      "[CV] END .max_depth=7, min_samples_split=3, n_estimators=100; total time=   0.2s\n",
      "[CV] END .max_depth=7, min_samples_split=3, n_estimators=100; total time=   0.2s\n",
      "[CV] END .max_depth=7, min_samples_split=3, n_estimators=300; total time=   0.5s\n",
      "[CV] END .max_depth=7, min_samples_split=3, n_estimators=300; total time=   0.5s\n",
      "[CV] END .max_depth=7, min_samples_split=3, n_estimators=300; total time=   0.5s\n",
      "[CV] END .max_depth=7, min_samples_split=3, n_estimators=300; total time=   0.6s\n",
      "[CV] END .max_depth=7, min_samples_split=3, n_estimators=300; total time=   0.6s\n",
      "[CV] END ..max_depth=7, min_samples_split=4, n_estimators=10; total time=   0.0s\n",
      "[CV] END ..max_depth=7, min_samples_split=4, n_estimators=10; total time=   0.0s\n",
      "[CV] END ..max_depth=7, min_samples_split=4, n_estimators=10; total time=   0.0s\n",
      "[CV] END ..max_depth=7, min_samples_split=4, n_estimators=10; total time=   0.0s\n",
      "[CV] END ..max_depth=7, min_samples_split=4, n_estimators=10; total time=   0.0s\n",
      "[CV] END ..max_depth=7, min_samples_split=4, n_estimators=50; total time=   0.1s\n",
      "[CV] END ..max_depth=7, min_samples_split=4, n_estimators=50; total time=   0.1s\n",
      "[CV] END ..max_depth=7, min_samples_split=4, n_estimators=50; total time=   0.1s\n",
      "[CV] END ..max_depth=7, min_samples_split=4, n_estimators=50; total time=   0.1s\n",
      "[CV] END ..max_depth=7, min_samples_split=4, n_estimators=50; total time=   0.1s\n",
      "[CV] END .max_depth=7, min_samples_split=4, n_estimators=100; total time=   0.2s\n",
      "[CV] END .max_depth=7, min_samples_split=4, n_estimators=100; total time=   0.2s\n",
      "[CV] END .max_depth=7, min_samples_split=4, n_estimators=100; total time=   0.2s\n",
      "[CV] END .max_depth=7, min_samples_split=4, n_estimators=100; total time=   0.2s\n",
      "[CV] END .max_depth=7, min_samples_split=4, n_estimators=100; total time=   0.2s\n",
      "[CV] END .max_depth=7, min_samples_split=4, n_estimators=300; total time=   0.5s\n",
      "[CV] END .max_depth=7, min_samples_split=4, n_estimators=300; total time=   0.5s\n",
      "[CV] END .max_depth=7, min_samples_split=4, n_estimators=300; total time=   0.5s\n",
      "[CV] END .max_depth=7, min_samples_split=4, n_estimators=300; total time=   0.5s\n",
      "[CV] END .max_depth=7, min_samples_split=4, n_estimators=300; total time=   0.5s\n",
      "[CV] END ..max_depth=7, min_samples_split=5, n_estimators=10; total time=   0.0s\n",
      "[CV] END ..max_depth=7, min_samples_split=5, n_estimators=10; total time=   0.0s\n",
      "[CV] END ..max_depth=7, min_samples_split=5, n_estimators=10; total time=   0.0s\n",
      "[CV] END ..max_depth=7, min_samples_split=5, n_estimators=10; total time=   0.0s\n",
      "[CV] END ..max_depth=7, min_samples_split=5, n_estimators=10; total time=   0.0s\n",
      "[CV] END ..max_depth=7, min_samples_split=5, n_estimators=50; total time=   0.1s\n",
      "[CV] END ..max_depth=7, min_samples_split=5, n_estimators=50; total time=   0.1s\n",
      "[CV] END ..max_depth=7, min_samples_split=5, n_estimators=50; total time=   0.1s\n",
      "[CV] END ..max_depth=7, min_samples_split=5, n_estimators=50; total time=   0.1s\n",
      "[CV] END ..max_depth=7, min_samples_split=5, n_estimators=50; total time=   0.1s\n",
      "[CV] END .max_depth=7, min_samples_split=5, n_estimators=100; total time=   0.2s\n",
      "[CV] END .max_depth=7, min_samples_split=5, n_estimators=100; total time=   0.2s\n",
      "[CV] END .max_depth=7, min_samples_split=5, n_estimators=100; total time=   0.2s\n",
      "[CV] END .max_depth=7, min_samples_split=5, n_estimators=100; total time=   0.2s\n",
      "[CV] END .max_depth=7, min_samples_split=5, n_estimators=100; total time=   0.2s\n",
      "[CV] END .max_depth=7, min_samples_split=5, n_estimators=300; total time=   0.5s\n",
      "[CV] END .max_depth=7, min_samples_split=5, n_estimators=300; total time=   0.5s\n",
      "[CV] END .max_depth=7, min_samples_split=5, n_estimators=300; total time=   0.5s\n",
      "[CV] END .max_depth=7, min_samples_split=5, n_estimators=300; total time=   0.5s\n",
      "[CV] END .max_depth=7, min_samples_split=5, n_estimators=300; total time=   0.4s\n",
      "[CV] END ..max_depth=7, min_samples_split=6, n_estimators=10; total time=   0.0s\n",
      "[CV] END ..max_depth=7, min_samples_split=6, n_estimators=10; total time=   0.0s\n",
      "[CV] END ..max_depth=7, min_samples_split=6, n_estimators=10; total time=   0.0s\n",
      "[CV] END ..max_depth=7, min_samples_split=6, n_estimators=10; total time=   0.0s\n",
      "[CV] END ..max_depth=7, min_samples_split=6, n_estimators=10; total time=   0.0s\n",
      "[CV] END ..max_depth=7, min_samples_split=6, n_estimators=50; total time=   0.1s\n",
      "[CV] END ..max_depth=7, min_samples_split=6, n_estimators=50; total time=   0.1s\n",
      "[CV] END ..max_depth=7, min_samples_split=6, n_estimators=50; total time=   0.1s\n",
      "[CV] END ..max_depth=7, min_samples_split=6, n_estimators=50; total time=   0.1s\n",
      "[CV] END ..max_depth=7, min_samples_split=6, n_estimators=50; total time=   0.1s\n",
      "[CV] END .max_depth=7, min_samples_split=6, n_estimators=100; total time=   0.2s\n",
      "[CV] END .max_depth=7, min_samples_split=6, n_estimators=100; total time=   0.2s\n",
      "[CV] END .max_depth=7, min_samples_split=6, n_estimators=100; total time=   0.2s\n",
      "[CV] END .max_depth=7, min_samples_split=6, n_estimators=100; total time=   0.2s\n",
      "[CV] END .max_depth=7, min_samples_split=6, n_estimators=100; total time=   0.1s\n",
      "[CV] END .max_depth=7, min_samples_split=6, n_estimators=300; total time=   0.5s\n",
      "[CV] END .max_depth=7, min_samples_split=6, n_estimators=300; total time=   0.4s\n",
      "[CV] END .max_depth=7, min_samples_split=6, n_estimators=300; total time=   0.5s\n",
      "[CV] END .max_depth=7, min_samples_split=6, n_estimators=300; total time=   0.5s\n",
      "[CV] END .max_depth=7, min_samples_split=6, n_estimators=300; total time=   0.6s\n",
      "[CV] END ..max_depth=7, min_samples_split=7, n_estimators=10; total time=   0.0s\n",
      "[CV] END ..max_depth=7, min_samples_split=7, n_estimators=10; total time=   0.0s\n",
      "[CV] END ..max_depth=7, min_samples_split=7, n_estimators=10; total time=   0.0s\n",
      "[CV] END ..max_depth=7, min_samples_split=7, n_estimators=10; total time=   0.0s\n",
      "[CV] END ..max_depth=7, min_samples_split=7, n_estimators=10; total time=   0.0s\n",
      "[CV] END ..max_depth=7, min_samples_split=7, n_estimators=50; total time=   0.1s\n",
      "[CV] END ..max_depth=7, min_samples_split=7, n_estimators=50; total time=   0.1s\n",
      "[CV] END ..max_depth=7, min_samples_split=7, n_estimators=50; total time=   0.1s\n",
      "[CV] END ..max_depth=7, min_samples_split=7, n_estimators=50; total time=   0.1s\n",
      "[CV] END ..max_depth=7, min_samples_split=7, n_estimators=50; total time=   0.1s\n",
      "[CV] END .max_depth=7, min_samples_split=7, n_estimators=100; total time=   0.2s\n",
      "[CV] END .max_depth=7, min_samples_split=7, n_estimators=100; total time=   0.2s\n",
      "[CV] END .max_depth=7, min_samples_split=7, n_estimators=100; total time=   0.2s\n",
      "[CV] END .max_depth=7, min_samples_split=7, n_estimators=100; total time=   0.2s\n",
      "[CV] END .max_depth=7, min_samples_split=7, n_estimators=100; total time=   0.2s\n",
      "[CV] END .max_depth=7, min_samples_split=7, n_estimators=300; total time=   0.5s\n",
      "[CV] END .max_depth=7, min_samples_split=7, n_estimators=300; total time=   0.6s\n",
      "[CV] END .max_depth=7, min_samples_split=7, n_estimators=300; total time=   0.5s\n",
      "[CV] END .max_depth=7, min_samples_split=7, n_estimators=300; total time=   0.6s\n",
      "[CV] END .max_depth=7, min_samples_split=7, n_estimators=300; total time=   0.5s\n",
      "[CV] END ..max_depth=7, min_samples_split=8, n_estimators=10; total time=   0.0s\n",
      "[CV] END ..max_depth=7, min_samples_split=8, n_estimators=10; total time=   0.0s\n",
      "[CV] END ..max_depth=7, min_samples_split=8, n_estimators=10; total time=   0.0s\n",
      "[CV] END ..max_depth=7, min_samples_split=8, n_estimators=10; total time=   0.0s\n",
      "[CV] END ..max_depth=7, min_samples_split=8, n_estimators=10; total time=   0.0s\n",
      "[CV] END ..max_depth=7, min_samples_split=8, n_estimators=50; total time=   0.1s\n",
      "[CV] END ..max_depth=7, min_samples_split=8, n_estimators=50; total time=   0.1s\n",
      "[CV] END ..max_depth=7, min_samples_split=8, n_estimators=50; total time=   0.1s\n",
      "[CV] END ..max_depth=7, min_samples_split=8, n_estimators=50; total time=   0.1s\n",
      "[CV] END ..max_depth=7, min_samples_split=8, n_estimators=50; total time=   0.1s\n",
      "[CV] END .max_depth=7, min_samples_split=8, n_estimators=100; total time=   0.3s\n",
      "[CV] END .max_depth=7, min_samples_split=8, n_estimators=100; total time=   0.2s\n",
      "[CV] END .max_depth=7, min_samples_split=8, n_estimators=100; total time=   0.1s\n",
      "[CV] END .max_depth=7, min_samples_split=8, n_estimators=100; total time=   0.2s\n",
      "[CV] END .max_depth=7, min_samples_split=8, n_estimators=100; total time=   0.1s\n",
      "[CV] END .max_depth=7, min_samples_split=8, n_estimators=300; total time=   0.5s\n",
      "[CV] END .max_depth=7, min_samples_split=8, n_estimators=300; total time=   0.7s\n",
      "[CV] END .max_depth=7, min_samples_split=8, n_estimators=300; total time=   0.5s\n",
      "[CV] END .max_depth=7, min_samples_split=8, n_estimators=300; total time=   0.5s\n",
      "[CV] END .max_depth=7, min_samples_split=8, n_estimators=300; total time=   0.5s\n",
      "[CV] END ..max_depth=7, min_samples_split=9, n_estimators=10; total time=   0.0s\n",
      "[CV] END ..max_depth=7, min_samples_split=9, n_estimators=10; total time=   0.0s\n",
      "[CV] END ..max_depth=7, min_samples_split=9, n_estimators=10; total time=   0.0s\n",
      "[CV] END ..max_depth=7, min_samples_split=9, n_estimators=10; total time=   0.0s\n",
      "[CV] END ..max_depth=7, min_samples_split=9, n_estimators=10; total time=   0.0s\n",
      "[CV] END ..max_depth=7, min_samples_split=9, n_estimators=50; total time=   0.1s\n",
      "[CV] END ..max_depth=7, min_samples_split=9, n_estimators=50; total time=   0.1s\n",
      "[CV] END ..max_depth=7, min_samples_split=9, n_estimators=50; total time=   0.1s\n",
      "[CV] END ..max_depth=7, min_samples_split=9, n_estimators=50; total time=   0.1s\n",
      "[CV] END ..max_depth=7, min_samples_split=9, n_estimators=50; total time=   0.1s\n",
      "[CV] END .max_depth=7, min_samples_split=9, n_estimators=100; total time=   0.2s\n",
      "[CV] END .max_depth=7, min_samples_split=9, n_estimators=100; total time=   0.1s\n",
      "[CV] END .max_depth=7, min_samples_split=9, n_estimators=100; total time=   0.2s\n",
      "[CV] END .max_depth=7, min_samples_split=9, n_estimators=100; total time=   0.2s\n",
      "[CV] END .max_depth=7, min_samples_split=9, n_estimators=100; total time=   0.2s\n",
      "[CV] END .max_depth=7, min_samples_split=9, n_estimators=300; total time=   0.5s\n",
      "[CV] END .max_depth=7, min_samples_split=9, n_estimators=300; total time=   0.6s\n",
      "[CV] END .max_depth=7, min_samples_split=9, n_estimators=300; total time=   0.6s\n",
      "[CV] END .max_depth=7, min_samples_split=9, n_estimators=300; total time=   0.7s\n",
      "[CV] END .max_depth=7, min_samples_split=9, n_estimators=300; total time=   0.6s\n",
      "[CV] END ..max_depth=8, min_samples_split=2, n_estimators=10; total time=   0.0s\n",
      "[CV] END ..max_depth=8, min_samples_split=2, n_estimators=10; total time=   0.0s\n",
      "[CV] END ..max_depth=8, min_samples_split=2, n_estimators=10; total time=   0.0s\n",
      "[CV] END ..max_depth=8, min_samples_split=2, n_estimators=10; total time=   0.0s\n",
      "[CV] END ..max_depth=8, min_samples_split=2, n_estimators=10; total time=   0.0s\n",
      "[CV] END ..max_depth=8, min_samples_split=2, n_estimators=50; total time=   0.1s\n",
      "[CV] END ..max_depth=8, min_samples_split=2, n_estimators=50; total time=   0.1s\n",
      "[CV] END ..max_depth=8, min_samples_split=2, n_estimators=50; total time=   0.1s\n",
      "[CV] END ..max_depth=8, min_samples_split=2, n_estimators=50; total time=   0.1s\n",
      "[CV] END ..max_depth=8, min_samples_split=2, n_estimators=50; total time=   0.1s\n",
      "[CV] END .max_depth=8, min_samples_split=2, n_estimators=100; total time=   0.2s\n",
      "[CV] END .max_depth=8, min_samples_split=2, n_estimators=100; total time=   0.2s\n",
      "[CV] END .max_depth=8, min_samples_split=2, n_estimators=100; total time=   0.2s\n",
      "[CV] END .max_depth=8, min_samples_split=2, n_estimators=100; total time=   0.2s\n",
      "[CV] END .max_depth=8, min_samples_split=2, n_estimators=100; total time=   0.2s\n",
      "[CV] END .max_depth=8, min_samples_split=2, n_estimators=300; total time=   0.6s\n",
      "[CV] END .max_depth=8, min_samples_split=2, n_estimators=300; total time=   0.5s\n",
      "[CV] END .max_depth=8, min_samples_split=2, n_estimators=300; total time=   0.5s\n",
      "[CV] END .max_depth=8, min_samples_split=2, n_estimators=300; total time=   0.5s\n",
      "[CV] END .max_depth=8, min_samples_split=2, n_estimators=300; total time=   0.5s\n",
      "[CV] END ..max_depth=8, min_samples_split=3, n_estimators=10; total time=   0.0s\n",
      "[CV] END ..max_depth=8, min_samples_split=3, n_estimators=10; total time=   0.0s\n",
      "[CV] END ..max_depth=8, min_samples_split=3, n_estimators=10; total time=   0.0s\n",
      "[CV] END ..max_depth=8, min_samples_split=3, n_estimators=10; total time=   0.0s\n",
      "[CV] END ..max_depth=8, min_samples_split=3, n_estimators=10; total time=   0.0s\n",
      "[CV] END ..max_depth=8, min_samples_split=3, n_estimators=50; total time=   0.1s\n",
      "[CV] END ..max_depth=8, min_samples_split=3, n_estimators=50; total time=   0.1s\n",
      "[CV] END ..max_depth=8, min_samples_split=3, n_estimators=50; total time=   0.1s\n",
      "[CV] END ..max_depth=8, min_samples_split=3, n_estimators=50; total time=   0.1s\n",
      "[CV] END ..max_depth=8, min_samples_split=3, n_estimators=50; total time=   0.1s\n",
      "[CV] END .max_depth=8, min_samples_split=3, n_estimators=100; total time=   0.2s\n",
      "[CV] END .max_depth=8, min_samples_split=3, n_estimators=100; total time=   0.2s\n",
      "[CV] END .max_depth=8, min_samples_split=3, n_estimators=100; total time=   0.2s\n",
      "[CV] END .max_depth=8, min_samples_split=3, n_estimators=100; total time=   0.2s\n",
      "[CV] END .max_depth=8, min_samples_split=3, n_estimators=100; total time=   0.2s\n",
      "[CV] END .max_depth=8, min_samples_split=3, n_estimators=300; total time=   0.5s\n",
      "[CV] END .max_depth=8, min_samples_split=3, n_estimators=300; total time=   0.5s\n",
      "[CV] END .max_depth=8, min_samples_split=3, n_estimators=300; total time=   0.5s\n",
      "[CV] END .max_depth=8, min_samples_split=3, n_estimators=300; total time=   0.5s\n",
      "[CV] END .max_depth=8, min_samples_split=3, n_estimators=300; total time=   0.5s\n",
      "[CV] END ..max_depth=8, min_samples_split=4, n_estimators=10; total time=   0.0s\n",
      "[CV] END ..max_depth=8, min_samples_split=4, n_estimators=10; total time=   0.0s\n",
      "[CV] END ..max_depth=8, min_samples_split=4, n_estimators=10; total time=   0.0s\n",
      "[CV] END ..max_depth=8, min_samples_split=4, n_estimators=10; total time=   0.0s\n",
      "[CV] END ..max_depth=8, min_samples_split=4, n_estimators=10; total time=   0.0s\n",
      "[CV] END ..max_depth=8, min_samples_split=4, n_estimators=50; total time=   0.1s\n",
      "[CV] END ..max_depth=8, min_samples_split=4, n_estimators=50; total time=   0.1s\n",
      "[CV] END ..max_depth=8, min_samples_split=4, n_estimators=50; total time=   0.1s\n",
      "[CV] END ..max_depth=8, min_samples_split=4, n_estimators=50; total time=   0.1s\n",
      "[CV] END ..max_depth=8, min_samples_split=4, n_estimators=50; total time=   0.1s\n",
      "[CV] END .max_depth=8, min_samples_split=4, n_estimators=100; total time=   0.2s\n",
      "[CV] END .max_depth=8, min_samples_split=4, n_estimators=100; total time=   0.2s\n",
      "[CV] END .max_depth=8, min_samples_split=4, n_estimators=100; total time=   0.2s\n",
      "[CV] END .max_depth=8, min_samples_split=4, n_estimators=100; total time=   0.2s\n",
      "[CV] END .max_depth=8, min_samples_split=4, n_estimators=100; total time=   0.2s\n",
      "[CV] END .max_depth=8, min_samples_split=4, n_estimators=300; total time=   0.5s\n",
      "[CV] END .max_depth=8, min_samples_split=4, n_estimators=300; total time=   0.5s\n",
      "[CV] END .max_depth=8, min_samples_split=4, n_estimators=300; total time=   0.5s\n",
      "[CV] END .max_depth=8, min_samples_split=4, n_estimators=300; total time=   0.5s\n",
      "[CV] END .max_depth=8, min_samples_split=4, n_estimators=300; total time=   0.5s\n",
      "[CV] END ..max_depth=8, min_samples_split=5, n_estimators=10; total time=   0.0s\n",
      "[CV] END ..max_depth=8, min_samples_split=5, n_estimators=10; total time=   0.0s\n",
      "[CV] END ..max_depth=8, min_samples_split=5, n_estimators=10; total time=   0.0s\n",
      "[CV] END ..max_depth=8, min_samples_split=5, n_estimators=10; total time=   0.0s\n",
      "[CV] END ..max_depth=8, min_samples_split=5, n_estimators=10; total time=   0.0s\n",
      "[CV] END ..max_depth=8, min_samples_split=5, n_estimators=50; total time=   0.1s\n",
      "[CV] END ..max_depth=8, min_samples_split=5, n_estimators=50; total time=   0.1s\n",
      "[CV] END ..max_depth=8, min_samples_split=5, n_estimators=50; total time=   0.1s\n",
      "[CV] END ..max_depth=8, min_samples_split=5, n_estimators=50; total time=   0.1s\n",
      "[CV] END ..max_depth=8, min_samples_split=5, n_estimators=50; total time=   0.1s\n",
      "[CV] END .max_depth=8, min_samples_split=5, n_estimators=100; total time=   0.2s\n",
      "[CV] END .max_depth=8, min_samples_split=5, n_estimators=100; total time=   0.2s\n",
      "[CV] END .max_depth=8, min_samples_split=5, n_estimators=100; total time=   0.2s\n",
      "[CV] END .max_depth=8, min_samples_split=5, n_estimators=100; total time=   0.2s\n",
      "[CV] END .max_depth=8, min_samples_split=5, n_estimators=100; total time=   0.2s\n",
      "[CV] END .max_depth=8, min_samples_split=5, n_estimators=300; total time=   0.5s\n",
      "[CV] END .max_depth=8, min_samples_split=5, n_estimators=300; total time=   0.5s\n",
      "[CV] END .max_depth=8, min_samples_split=5, n_estimators=300; total time=   0.6s\n",
      "[CV] END .max_depth=8, min_samples_split=5, n_estimators=300; total time=   0.6s\n",
      "[CV] END .max_depth=8, min_samples_split=5, n_estimators=300; total time=   0.7s\n",
      "[CV] END ..max_depth=8, min_samples_split=6, n_estimators=10; total time=   0.0s\n",
      "[CV] END ..max_depth=8, min_samples_split=6, n_estimators=10; total time=   0.0s\n",
      "[CV] END ..max_depth=8, min_samples_split=6, n_estimators=10; total time=   0.0s\n",
      "[CV] END ..max_depth=8, min_samples_split=6, n_estimators=10; total time=   0.0s\n",
      "[CV] END ..max_depth=8, min_samples_split=6, n_estimators=10; total time=   0.0s\n",
      "[CV] END ..max_depth=8, min_samples_split=6, n_estimators=50; total time=   0.1s\n",
      "[CV] END ..max_depth=8, min_samples_split=6, n_estimators=50; total time=   0.1s\n",
      "[CV] END ..max_depth=8, min_samples_split=6, n_estimators=50; total time=   0.1s\n",
      "[CV] END ..max_depth=8, min_samples_split=6, n_estimators=50; total time=   0.1s\n",
      "[CV] END ..max_depth=8, min_samples_split=6, n_estimators=50; total time=   0.1s\n",
      "[CV] END .max_depth=8, min_samples_split=6, n_estimators=100; total time=   0.2s\n",
      "[CV] END .max_depth=8, min_samples_split=6, n_estimators=100; total time=   0.2s\n",
      "[CV] END .max_depth=8, min_samples_split=6, n_estimators=100; total time=   0.2s\n",
      "[CV] END .max_depth=8, min_samples_split=6, n_estimators=100; total time=   0.2s\n",
      "[CV] END .max_depth=8, min_samples_split=6, n_estimators=100; total time=   0.2s\n",
      "[CV] END .max_depth=8, min_samples_split=6, n_estimators=300; total time=   0.5s\n",
      "[CV] END .max_depth=8, min_samples_split=6, n_estimators=300; total time=   0.5s\n",
      "[CV] END .max_depth=8, min_samples_split=6, n_estimators=300; total time=   0.5s\n",
      "[CV] END .max_depth=8, min_samples_split=6, n_estimators=300; total time=   0.6s\n",
      "[CV] END .max_depth=8, min_samples_split=6, n_estimators=300; total time=   0.7s\n",
      "[CV] END ..max_depth=8, min_samples_split=7, n_estimators=10; total time=   0.0s\n",
      "[CV] END ..max_depth=8, min_samples_split=7, n_estimators=10; total time=   0.0s\n",
      "[CV] END ..max_depth=8, min_samples_split=7, n_estimators=10; total time=   0.0s\n",
      "[CV] END ..max_depth=8, min_samples_split=7, n_estimators=10; total time=   0.0s\n",
      "[CV] END ..max_depth=8, min_samples_split=7, n_estimators=10; total time=   0.0s\n",
      "[CV] END ..max_depth=8, min_samples_split=7, n_estimators=50; total time=   0.1s\n",
      "[CV] END ..max_depth=8, min_samples_split=7, n_estimators=50; total time=   0.2s\n",
      "[CV] END ..max_depth=8, min_samples_split=7, n_estimators=50; total time=   0.1s\n",
      "[CV] END ..max_depth=8, min_samples_split=7, n_estimators=50; total time=   0.1s\n",
      "[CV] END ..max_depth=8, min_samples_split=7, n_estimators=50; total time=   0.1s\n",
      "[CV] END .max_depth=8, min_samples_split=7, n_estimators=100; total time=   0.2s\n",
      "[CV] END .max_depth=8, min_samples_split=7, n_estimators=100; total time=   0.2s\n",
      "[CV] END .max_depth=8, min_samples_split=7, n_estimators=100; total time=   0.2s\n",
      "[CV] END .max_depth=8, min_samples_split=7, n_estimators=100; total time=   0.2s\n",
      "[CV] END .max_depth=8, min_samples_split=7, n_estimators=100; total time=   0.2s\n",
      "[CV] END .max_depth=8, min_samples_split=7, n_estimators=300; total time=   0.5s\n",
      "[CV] END .max_depth=8, min_samples_split=7, n_estimators=300; total time=   0.7s\n",
      "[CV] END .max_depth=8, min_samples_split=7, n_estimators=300; total time=   0.7s\n",
      "[CV] END .max_depth=8, min_samples_split=7, n_estimators=300; total time=   0.5s\n",
      "[CV] END .max_depth=8, min_samples_split=7, n_estimators=300; total time=   0.6s\n",
      "[CV] END ..max_depth=8, min_samples_split=8, n_estimators=10; total time=   0.0s\n",
      "[CV] END ..max_depth=8, min_samples_split=8, n_estimators=10; total time=   0.0s\n",
      "[CV] END ..max_depth=8, min_samples_split=8, n_estimators=10; total time=   0.0s\n",
      "[CV] END ..max_depth=8, min_samples_split=8, n_estimators=10; total time=   0.0s\n",
      "[CV] END ..max_depth=8, min_samples_split=8, n_estimators=10; total time=   0.0s\n",
      "[CV] END ..max_depth=8, min_samples_split=8, n_estimators=50; total time=   0.1s\n",
      "[CV] END ..max_depth=8, min_samples_split=8, n_estimators=50; total time=   0.1s\n",
      "[CV] END ..max_depth=8, min_samples_split=8, n_estimators=50; total time=   0.1s\n",
      "[CV] END ..max_depth=8, min_samples_split=8, n_estimators=50; total time=   0.1s\n",
      "[CV] END ..max_depth=8, min_samples_split=8, n_estimators=50; total time=   0.1s\n",
      "[CV] END .max_depth=8, min_samples_split=8, n_estimators=100; total time=   0.2s\n",
      "[CV] END .max_depth=8, min_samples_split=8, n_estimators=100; total time=   0.2s\n",
      "[CV] END .max_depth=8, min_samples_split=8, n_estimators=100; total time=   0.2s\n",
      "[CV] END .max_depth=8, min_samples_split=8, n_estimators=100; total time=   0.2s\n",
      "[CV] END .max_depth=8, min_samples_split=8, n_estimators=100; total time=   0.2s\n",
      "[CV] END .max_depth=8, min_samples_split=8, n_estimators=300; total time=   0.5s\n",
      "[CV] END .max_depth=8, min_samples_split=8, n_estimators=300; total time=   0.6s\n",
      "[CV] END .max_depth=8, min_samples_split=8, n_estimators=300; total time=   0.5s\n",
      "[CV] END .max_depth=8, min_samples_split=8, n_estimators=300; total time=   0.8s\n",
      "[CV] END .max_depth=8, min_samples_split=8, n_estimators=300; total time=   0.7s\n",
      "[CV] END ..max_depth=8, min_samples_split=9, n_estimators=10; total time=   0.0s\n",
      "[CV] END ..max_depth=8, min_samples_split=9, n_estimators=10; total time=   0.0s\n",
      "[CV] END ..max_depth=8, min_samples_split=9, n_estimators=10; total time=   0.0s\n",
      "[CV] END ..max_depth=8, min_samples_split=9, n_estimators=10; total time=   0.0s\n",
      "[CV] END ..max_depth=8, min_samples_split=9, n_estimators=10; total time=   0.0s\n",
      "[CV] END ..max_depth=8, min_samples_split=9, n_estimators=50; total time=   0.1s\n",
      "[CV] END ..max_depth=8, min_samples_split=9, n_estimators=50; total time=   0.1s\n",
      "[CV] END ..max_depth=8, min_samples_split=9, n_estimators=50; total time=   0.1s\n",
      "[CV] END ..max_depth=8, min_samples_split=9, n_estimators=50; total time=   0.1s\n",
      "[CV] END ..max_depth=8, min_samples_split=9, n_estimators=50; total time=   0.1s\n",
      "[CV] END .max_depth=8, min_samples_split=9, n_estimators=100; total time=   0.2s\n",
      "[CV] END .max_depth=8, min_samples_split=9, n_estimators=100; total time=   0.2s\n",
      "[CV] END .max_depth=8, min_samples_split=9, n_estimators=100; total time=   0.2s\n",
      "[CV] END .max_depth=8, min_samples_split=9, n_estimators=100; total time=   0.2s\n",
      "[CV] END .max_depth=8, min_samples_split=9, n_estimators=100; total time=   0.2s\n",
      "[CV] END .max_depth=8, min_samples_split=9, n_estimators=300; total time=   0.5s\n",
      "[CV] END .max_depth=8, min_samples_split=9, n_estimators=300; total time=   0.5s\n",
      "[CV] END .max_depth=8, min_samples_split=9, n_estimators=300; total time=   0.5s\n",
      "[CV] END .max_depth=8, min_samples_split=9, n_estimators=300; total time=   0.5s\n",
      "[CV] END .max_depth=8, min_samples_split=9, n_estimators=300; total time=   0.5s\n",
      "[CV] END ..max_depth=9, min_samples_split=2, n_estimators=10; total time=   0.0s\n",
      "[CV] END ..max_depth=9, min_samples_split=2, n_estimators=10; total time=   0.0s\n",
      "[CV] END ..max_depth=9, min_samples_split=2, n_estimators=10; total time=   0.0s\n",
      "[CV] END ..max_depth=9, min_samples_split=2, n_estimators=10; total time=   0.0s\n",
      "[CV] END ..max_depth=9, min_samples_split=2, n_estimators=10; total time=   0.0s\n",
      "[CV] END ..max_depth=9, min_samples_split=2, n_estimators=50; total time=   0.1s\n",
      "[CV] END ..max_depth=9, min_samples_split=2, n_estimators=50; total time=   0.1s\n",
      "[CV] END ..max_depth=9, min_samples_split=2, n_estimators=50; total time=   0.1s\n",
      "[CV] END ..max_depth=9, min_samples_split=2, n_estimators=50; total time=   0.1s\n",
      "[CV] END ..max_depth=9, min_samples_split=2, n_estimators=50; total time=   0.1s\n",
      "[CV] END .max_depth=9, min_samples_split=2, n_estimators=100; total time=   0.2s\n",
      "[CV] END .max_depth=9, min_samples_split=2, n_estimators=100; total time=   0.2s\n",
      "[CV] END .max_depth=9, min_samples_split=2, n_estimators=100; total time=   0.2s\n",
      "[CV] END .max_depth=9, min_samples_split=2, n_estimators=100; total time=   0.2s\n",
      "[CV] END .max_depth=9, min_samples_split=2, n_estimators=100; total time=   0.2s\n",
      "[CV] END .max_depth=9, min_samples_split=2, n_estimators=300; total time=   0.7s\n",
      "[CV] END .max_depth=9, min_samples_split=2, n_estimators=300; total time=   0.6s\n",
      "[CV] END .max_depth=9, min_samples_split=2, n_estimators=300; total time=   0.6s\n",
      "[CV] END .max_depth=9, min_samples_split=2, n_estimators=300; total time=   0.5s\n",
      "[CV] END .max_depth=9, min_samples_split=2, n_estimators=300; total time=   0.6s\n",
      "[CV] END ..max_depth=9, min_samples_split=3, n_estimators=10; total time=   0.0s\n",
      "[CV] END ..max_depth=9, min_samples_split=3, n_estimators=10; total time=   0.0s\n",
      "[CV] END ..max_depth=9, min_samples_split=3, n_estimators=10; total time=   0.0s\n",
      "[CV] END ..max_depth=9, min_samples_split=3, n_estimators=10; total time=   0.0s\n",
      "[CV] END ..max_depth=9, min_samples_split=3, n_estimators=10; total time=   0.0s\n",
      "[CV] END ..max_depth=9, min_samples_split=3, n_estimators=50; total time=   0.1s\n",
      "[CV] END ..max_depth=9, min_samples_split=3, n_estimators=50; total time=   0.1s\n",
      "[CV] END ..max_depth=9, min_samples_split=3, n_estimators=50; total time=   0.1s\n",
      "[CV] END ..max_depth=9, min_samples_split=3, n_estimators=50; total time=   0.1s\n",
      "[CV] END ..max_depth=9, min_samples_split=3, n_estimators=50; total time=   0.1s\n",
      "[CV] END .max_depth=9, min_samples_split=3, n_estimators=100; total time=   0.2s\n",
      "[CV] END .max_depth=9, min_samples_split=3, n_estimators=100; total time=   0.3s\n",
      "[CV] END .max_depth=9, min_samples_split=3, n_estimators=100; total time=   0.2s\n",
      "[CV] END .max_depth=9, min_samples_split=3, n_estimators=100; total time=   0.2s\n",
      "[CV] END .max_depth=9, min_samples_split=3, n_estimators=100; total time=   0.2s\n",
      "[CV] END .max_depth=9, min_samples_split=3, n_estimators=300; total time=   0.6s\n",
      "[CV] END .max_depth=9, min_samples_split=3, n_estimators=300; total time=   0.6s\n",
      "[CV] END .max_depth=9, min_samples_split=3, n_estimators=300; total time=   0.7s\n",
      "[CV] END .max_depth=9, min_samples_split=3, n_estimators=300; total time=   0.8s\n",
      "[CV] END .max_depth=9, min_samples_split=3, n_estimators=300; total time=   0.6s\n",
      "[CV] END ..max_depth=9, min_samples_split=4, n_estimators=10; total time=   0.0s\n",
      "[CV] END ..max_depth=9, min_samples_split=4, n_estimators=10; total time=   0.0s\n",
      "[CV] END ..max_depth=9, min_samples_split=4, n_estimators=10; total time=   0.0s\n",
      "[CV] END ..max_depth=9, min_samples_split=4, n_estimators=10; total time=   0.0s\n",
      "[CV] END ..max_depth=9, min_samples_split=4, n_estimators=10; total time=   0.0s\n",
      "[CV] END ..max_depth=9, min_samples_split=4, n_estimators=50; total time=   0.2s\n",
      "[CV] END ..max_depth=9, min_samples_split=4, n_estimators=50; total time=   0.2s\n",
      "[CV] END ..max_depth=9, min_samples_split=4, n_estimators=50; total time=   0.2s\n",
      "[CV] END ..max_depth=9, min_samples_split=4, n_estimators=50; total time=   0.1s\n",
      "[CV] END ..max_depth=9, min_samples_split=4, n_estimators=50; total time=   0.1s\n",
      "[CV] END .max_depth=9, min_samples_split=4, n_estimators=100; total time=   0.2s\n",
      "[CV] END .max_depth=9, min_samples_split=4, n_estimators=100; total time=   0.2s\n",
      "[CV] END .max_depth=9, min_samples_split=4, n_estimators=100; total time=   0.2s\n",
      "[CV] END .max_depth=9, min_samples_split=4, n_estimators=100; total time=   0.3s\n",
      "[CV] END .max_depth=9, min_samples_split=4, n_estimators=100; total time=   0.2s\n",
      "[CV] END .max_depth=9, min_samples_split=4, n_estimators=300; total time=   0.6s\n",
      "[CV] END .max_depth=9, min_samples_split=4, n_estimators=300; total time=   0.5s\n",
      "[CV] END .max_depth=9, min_samples_split=4, n_estimators=300; total time=   0.7s\n",
      "[CV] END .max_depth=9, min_samples_split=4, n_estimators=300; total time=   0.5s\n",
      "[CV] END .max_depth=9, min_samples_split=4, n_estimators=300; total time=   0.6s\n",
      "[CV] END ..max_depth=9, min_samples_split=5, n_estimators=10; total time=   0.0s\n",
      "[CV] END ..max_depth=9, min_samples_split=5, n_estimators=10; total time=   0.0s\n",
      "[CV] END ..max_depth=9, min_samples_split=5, n_estimators=10; total time=   0.0s\n",
      "[CV] END ..max_depth=9, min_samples_split=5, n_estimators=10; total time=   0.0s\n",
      "[CV] END ..max_depth=9, min_samples_split=5, n_estimators=10; total time=   0.0s\n",
      "[CV] END ..max_depth=9, min_samples_split=5, n_estimators=50; total time=   0.1s\n",
      "[CV] END ..max_depth=9, min_samples_split=5, n_estimators=50; total time=   0.1s\n",
      "[CV] END ..max_depth=9, min_samples_split=5, n_estimators=50; total time=   0.1s\n",
      "[CV] END ..max_depth=9, min_samples_split=5, n_estimators=50; total time=   0.1s\n",
      "[CV] END ..max_depth=9, min_samples_split=5, n_estimators=50; total time=   0.1s\n",
      "[CV] END .max_depth=9, min_samples_split=5, n_estimators=100; total time=   0.2s\n",
      "[CV] END .max_depth=9, min_samples_split=5, n_estimators=100; total time=   0.2s\n",
      "[CV] END .max_depth=9, min_samples_split=5, n_estimators=100; total time=   0.2s\n",
      "[CV] END .max_depth=9, min_samples_split=5, n_estimators=100; total time=   0.2s\n",
      "[CV] END .max_depth=9, min_samples_split=5, n_estimators=100; total time=   0.2s\n",
      "[CV] END .max_depth=9, min_samples_split=5, n_estimators=300; total time=   0.5s\n",
      "[CV] END .max_depth=9, min_samples_split=5, n_estimators=300; total time=   0.5s\n",
      "[CV] END .max_depth=9, min_samples_split=5, n_estimators=300; total time=   0.6s\n",
      "[CV] END .max_depth=9, min_samples_split=5, n_estimators=300; total time=   0.5s\n",
      "[CV] END .max_depth=9, min_samples_split=5, n_estimators=300; total time=   0.5s\n",
      "[CV] END ..max_depth=9, min_samples_split=6, n_estimators=10; total time=   0.0s\n",
      "[CV] END ..max_depth=9, min_samples_split=6, n_estimators=10; total time=   0.0s\n",
      "[CV] END ..max_depth=9, min_samples_split=6, n_estimators=10; total time=   0.0s\n",
      "[CV] END ..max_depth=9, min_samples_split=6, n_estimators=10; total time=   0.0s\n",
      "[CV] END ..max_depth=9, min_samples_split=6, n_estimators=10; total time=   0.0s\n",
      "[CV] END ..max_depth=9, min_samples_split=6, n_estimators=50; total time=   0.1s\n",
      "[CV] END ..max_depth=9, min_samples_split=6, n_estimators=50; total time=   0.1s\n",
      "[CV] END ..max_depth=9, min_samples_split=6, n_estimators=50; total time=   0.1s\n",
      "[CV] END ..max_depth=9, min_samples_split=6, n_estimators=50; total time=   0.1s\n",
      "[CV] END ..max_depth=9, min_samples_split=6, n_estimators=50; total time=   0.1s\n",
      "[CV] END .max_depth=9, min_samples_split=6, n_estimators=100; total time=   0.2s\n",
      "[CV] END .max_depth=9, min_samples_split=6, n_estimators=100; total time=   0.2s\n",
      "[CV] END .max_depth=9, min_samples_split=6, n_estimators=100; total time=   0.2s\n",
      "[CV] END .max_depth=9, min_samples_split=6, n_estimators=100; total time=   0.2s\n",
      "[CV] END .max_depth=9, min_samples_split=6, n_estimators=100; total time=   0.2s\n",
      "[CV] END .max_depth=9, min_samples_split=6, n_estimators=300; total time=   0.5s\n",
      "[CV] END .max_depth=9, min_samples_split=6, n_estimators=300; total time=   0.5s\n",
      "[CV] END .max_depth=9, min_samples_split=6, n_estimators=300; total time=   0.5s\n",
      "[CV] END .max_depth=9, min_samples_split=6, n_estimators=300; total time=   0.6s\n",
      "[CV] END .max_depth=9, min_samples_split=6, n_estimators=300; total time=   0.5s\n",
      "[CV] END ..max_depth=9, min_samples_split=7, n_estimators=10; total time=   0.0s\n",
      "[CV] END ..max_depth=9, min_samples_split=7, n_estimators=10; total time=   0.0s\n",
      "[CV] END ..max_depth=9, min_samples_split=7, n_estimators=10; total time=   0.0s\n",
      "[CV] END ..max_depth=9, min_samples_split=7, n_estimators=10; total time=   0.0s\n",
      "[CV] END ..max_depth=9, min_samples_split=7, n_estimators=10; total time=   0.0s\n",
      "[CV] END ..max_depth=9, min_samples_split=7, n_estimators=50; total time=   0.1s\n",
      "[CV] END ..max_depth=9, min_samples_split=7, n_estimators=50; total time=   0.1s\n",
      "[CV] END ..max_depth=9, min_samples_split=7, n_estimators=50; total time=   0.1s\n",
      "[CV] END ..max_depth=9, min_samples_split=7, n_estimators=50; total time=   0.1s\n",
      "[CV] END ..max_depth=9, min_samples_split=7, n_estimators=50; total time=   0.1s\n",
      "[CV] END .max_depth=9, min_samples_split=7, n_estimators=100; total time=   0.2s\n",
      "[CV] END .max_depth=9, min_samples_split=7, n_estimators=100; total time=   0.2s\n",
      "[CV] END .max_depth=9, min_samples_split=7, n_estimators=100; total time=   0.2s\n",
      "[CV] END .max_depth=9, min_samples_split=7, n_estimators=100; total time=   0.2s\n",
      "[CV] END .max_depth=9, min_samples_split=7, n_estimators=100; total time=   0.2s\n",
      "[CV] END .max_depth=9, min_samples_split=7, n_estimators=300; total time=   0.8s\n",
      "[CV] END .max_depth=9, min_samples_split=7, n_estimators=300; total time=   0.5s\n",
      "[CV] END .max_depth=9, min_samples_split=7, n_estimators=300; total time=   0.6s\n",
      "[CV] END .max_depth=9, min_samples_split=7, n_estimators=300; total time=   0.6s\n",
      "[CV] END .max_depth=9, min_samples_split=7, n_estimators=300; total time=   0.6s\n",
      "[CV] END ..max_depth=9, min_samples_split=8, n_estimators=10; total time=   0.0s\n",
      "[CV] END ..max_depth=9, min_samples_split=8, n_estimators=10; total time=   0.0s\n",
      "[CV] END ..max_depth=9, min_samples_split=8, n_estimators=10; total time=   0.0s\n",
      "[CV] END ..max_depth=9, min_samples_split=8, n_estimators=10; total time=   0.0s\n",
      "[CV] END ..max_depth=9, min_samples_split=8, n_estimators=10; total time=   0.0s\n",
      "[CV] END ..max_depth=9, min_samples_split=8, n_estimators=50; total time=   0.1s\n",
      "[CV] END ..max_depth=9, min_samples_split=8, n_estimators=50; total time=   0.1s\n",
      "[CV] END ..max_depth=9, min_samples_split=8, n_estimators=50; total time=   0.1s\n",
      "[CV] END ..max_depth=9, min_samples_split=8, n_estimators=50; total time=   0.1s\n",
      "[CV] END ..max_depth=9, min_samples_split=8, n_estimators=50; total time=   0.1s\n",
      "[CV] END .max_depth=9, min_samples_split=8, n_estimators=100; total time=   0.2s\n",
      "[CV] END .max_depth=9, min_samples_split=8, n_estimators=100; total time=   0.2s\n",
      "[CV] END .max_depth=9, min_samples_split=8, n_estimators=100; total time=   0.2s\n",
      "[CV] END .max_depth=9, min_samples_split=8, n_estimators=100; total time=   0.3s\n",
      "[CV] END .max_depth=9, min_samples_split=8, n_estimators=100; total time=   0.2s\n",
      "[CV] END .max_depth=9, min_samples_split=8, n_estimators=300; total time=   0.6s\n",
      "[CV] END .max_depth=9, min_samples_split=8, n_estimators=300; total time=   0.7s\n",
      "[CV] END .max_depth=9, min_samples_split=8, n_estimators=300; total time=   0.9s\n",
      "[CV] END .max_depth=9, min_samples_split=8, n_estimators=300; total time=   0.6s\n",
      "[CV] END .max_depth=9, min_samples_split=8, n_estimators=300; total time=   0.6s\n",
      "[CV] END ..max_depth=9, min_samples_split=9, n_estimators=10; total time=   0.0s\n",
      "[CV] END ..max_depth=9, min_samples_split=9, n_estimators=10; total time=   0.0s\n",
      "[CV] END ..max_depth=9, min_samples_split=9, n_estimators=10; total time=   0.0s\n",
      "[CV] END ..max_depth=9, min_samples_split=9, n_estimators=10; total time=   0.0s\n",
      "[CV] END ..max_depth=9, min_samples_split=9, n_estimators=10; total time=   0.0s\n",
      "[CV] END ..max_depth=9, min_samples_split=9, n_estimators=50; total time=   0.1s\n",
      "[CV] END ..max_depth=9, min_samples_split=9, n_estimators=50; total time=   0.1s\n",
      "[CV] END ..max_depth=9, min_samples_split=9, n_estimators=50; total time=   0.1s\n",
      "[CV] END ..max_depth=9, min_samples_split=9, n_estimators=50; total time=   0.1s\n",
      "[CV] END ..max_depth=9, min_samples_split=9, n_estimators=50; total time=   0.1s\n",
      "[CV] END .max_depth=9, min_samples_split=9, n_estimators=100; total time=   0.2s\n",
      "[CV] END .max_depth=9, min_samples_split=9, n_estimators=100; total time=   0.2s\n",
      "[CV] END .max_depth=9, min_samples_split=9, n_estimators=100; total time=   0.2s\n",
      "[CV] END .max_depth=9, min_samples_split=9, n_estimators=100; total time=   0.2s\n",
      "[CV] END .max_depth=9, min_samples_split=9, n_estimators=100; total time=   0.2s\n",
      "[CV] END .max_depth=9, min_samples_split=9, n_estimators=300; total time=   0.6s\n",
      "[CV] END .max_depth=9, min_samples_split=9, n_estimators=300; total time=   0.5s\n",
      "[CV] END .max_depth=9, min_samples_split=9, n_estimators=300; total time=   0.6s\n",
      "[CV] END .max_depth=9, min_samples_split=9, n_estimators=300; total time=   0.5s\n",
      "[CV] END .max_depth=9, min_samples_split=9, n_estimators=300; total time=   0.5s\n",
      "Best parameters for Random Forest: {'max_depth': np.int64(8), 'min_samples_split': np.int64(3), 'n_estimators': 100}\n",
      "Accuracy RF after Grid Search: 0.7207792207792207\n"
     ]
    }
   ],
   "execution_count": 43
  },
  {
   "metadata": {},
   "cell_type": "markdown",
   "source": [
    "**Insight:**\n",
    "\n",
    "- Kode ini bertujuan untuk melakukan optimasi atau tuning hyperparameter untuk model Random Forest menggunakan metode Grid Search. Secara sederhana, proses ini seperti mencari setelan terbaik untuk sebuah mesin agar kinerjanya maksimal.\n",
    "\n",
    "- Dari keluaran di atas didapatkan parameter terbaik sebagai berikut:\n",
    "    - max_depth: 8\n",
    "    - min_samples_split: 3\n",
    "    - n_estimators: 100\n"
   ],
   "id": "9118f0572be51d9f"
  },
  {
   "cell_type": "markdown",
   "id": "96d6bc13",
   "metadata": {},
   "source": [
    "**Melakukan hyperparameter tuning menggunakan GridSearchCV pada model K-Nearest-Neighbors**"
   ]
  },
  {
   "cell_type": "code",
   "id": "a6d955bc7b352ab7",
   "metadata": {
    "ExecuteTime": {
     "end_time": "2025-06-16T15:58:34.181548Z",
     "start_time": "2025-06-16T15:58:31.886879Z"
    }
   },
   "source": [
    "# Definisikan parameter grid untuk Grid Search\n",
    "param_grid_knn = {\n",
    "    'n_neighbors': np.arange(5, 20, 1),\n",
    "    'metric': ['minkowski', 'manhattan', 'euclidean']\n",
    "}\n",
    "\n",
    "# Inisialisasi GridSearchCV\n",
    "grid_search_knn = GridSearchCV(knn, param_grid_knn, cv=5, n_jobs=1, verbose=2)\n",
    "grid_search_knn.fit(X_train_final, y_train_resampled)\n",
    "\n",
    "# Output hasil terbaik\n",
    "print(f\"Best parameters for KNN: {grid_search_knn.best_params_}\")\n",
    "best_knn_grid = grid_search_knn.best_estimator_\n",
    "\n",
    "# Evaluasi performa model pada test set\n",
    "grid_search_knn_score = best_knn_grid.score(X_test_final, y_test)\n",
    "print((f\"Accuracy KNN after Grid Search: {grid_search_knn_score}\"))\n",
    "\n",
    "# Menyimpan hasil tuning\n",
    "n_neighbors = grid_search_knn.best_params_['n_neighbors']\n",
    "metric = grid_search_knn.best_params_['metric']"
   ],
   "outputs": [
    {
     "name": "stdout",
     "output_type": "stream",
     "text": [
      "Fitting 5 folds for each of 45 candidates, totalling 225 fits\n",
      "[CV] END ....................metric=minkowski, n_neighbors=5; total time=   0.0s\n",
      "[CV] END ....................metric=minkowski, n_neighbors=5; total time=   0.0s\n",
      "[CV] END ....................metric=minkowski, n_neighbors=5; total time=   0.0s\n",
      "[CV] END ....................metric=minkowski, n_neighbors=5; total time=   0.0s\n",
      "[CV] END ....................metric=minkowski, n_neighbors=5; total time=   0.0s\n",
      "[CV] END ....................metric=minkowski, n_neighbors=6; total time=   0.0s\n",
      "[CV] END ....................metric=minkowski, n_neighbors=6; total time=   0.0s\n",
      "[CV] END ....................metric=minkowski, n_neighbors=6; total time=   0.0s\n",
      "[CV] END ....................metric=minkowski, n_neighbors=6; total time=   0.0s\n",
      "[CV] END ....................metric=minkowski, n_neighbors=6; total time=   0.0s\n",
      "[CV] END ....................metric=minkowski, n_neighbors=7; total time=   0.0s\n",
      "[CV] END ....................metric=minkowski, n_neighbors=7; total time=   0.0s\n",
      "[CV] END ....................metric=minkowski, n_neighbors=7; total time=   0.0s\n",
      "[CV] END ....................metric=minkowski, n_neighbors=7; total time=   0.0s\n",
      "[CV] END ....................metric=minkowski, n_neighbors=7; total time=   0.0s\n",
      "[CV] END ....................metric=minkowski, n_neighbors=8; total time=   0.0s\n",
      "[CV] END ....................metric=minkowski, n_neighbors=8; total time=   0.0s\n",
      "[CV] END ....................metric=minkowski, n_neighbors=8; total time=   0.0s\n",
      "[CV] END ....................metric=minkowski, n_neighbors=8; total time=   0.0s\n",
      "[CV] END ....................metric=minkowski, n_neighbors=8; total time=   0.0s\n",
      "[CV] END ....................metric=minkowski, n_neighbors=9; total time=   0.0s\n",
      "[CV] END ....................metric=minkowski, n_neighbors=9; total time=   0.0s\n",
      "[CV] END ....................metric=minkowski, n_neighbors=9; total time=   0.0s\n",
      "[CV] END ....................metric=minkowski, n_neighbors=9; total time=   0.0s\n",
      "[CV] END ....................metric=minkowski, n_neighbors=9; total time=   0.0s\n",
      "[CV] END ...................metric=minkowski, n_neighbors=10; total time=   0.0s\n",
      "[CV] END ...................metric=minkowski, n_neighbors=10; total time=   0.0s\n",
      "[CV] END ...................metric=minkowski, n_neighbors=10; total time=   0.0s\n",
      "[CV] END ...................metric=minkowski, n_neighbors=10; total time=   0.0s\n",
      "[CV] END ...................metric=minkowski, n_neighbors=10; total time=   0.0s\n",
      "[CV] END ...................metric=minkowski, n_neighbors=11; total time=   0.0s\n",
      "[CV] END ...................metric=minkowski, n_neighbors=11; total time=   0.0s\n",
      "[CV] END ...................metric=minkowski, n_neighbors=11; total time=   0.0s\n",
      "[CV] END ...................metric=minkowski, n_neighbors=11; total time=   0.0s\n",
      "[CV] END ...................metric=minkowski, n_neighbors=11; total time=   0.0s\n",
      "[CV] END ...................metric=minkowski, n_neighbors=12; total time=   0.0s\n",
      "[CV] END ...................metric=minkowski, n_neighbors=12; total time=   0.0s\n",
      "[CV] END ...................metric=minkowski, n_neighbors=12; total time=   0.0s\n",
      "[CV] END ...................metric=minkowski, n_neighbors=12; total time=   0.0s\n",
      "[CV] END ...................metric=minkowski, n_neighbors=12; total time=   0.0s\n",
      "[CV] END ...................metric=minkowski, n_neighbors=13; total time=   0.0s\n",
      "[CV] END ...................metric=minkowski, n_neighbors=13; total time=   0.0s\n",
      "[CV] END ...................metric=minkowski, n_neighbors=13; total time=   0.0s\n",
      "[CV] END ...................metric=minkowski, n_neighbors=13; total time=   0.0s\n",
      "[CV] END ...................metric=minkowski, n_neighbors=13; total time=   0.0s\n",
      "[CV] END ...................metric=minkowski, n_neighbors=14; total time=   0.0s\n",
      "[CV] END ...................metric=minkowski, n_neighbors=14; total time=   0.0s\n",
      "[CV] END ...................metric=minkowski, n_neighbors=14; total time=   0.0s\n",
      "[CV] END ...................metric=minkowski, n_neighbors=14; total time=   0.0s\n",
      "[CV] END ...................metric=minkowski, n_neighbors=14; total time=   0.0s\n",
      "[CV] END ...................metric=minkowski, n_neighbors=15; total time=   0.0s\n",
      "[CV] END ...................metric=minkowski, n_neighbors=15; total time=   0.0s\n",
      "[CV] END ...................metric=minkowski, n_neighbors=15; total time=   0.0s\n",
      "[CV] END ...................metric=minkowski, n_neighbors=15; total time=   0.0s\n",
      "[CV] END ...................metric=minkowski, n_neighbors=15; total time=   0.0s\n",
      "[CV] END ...................metric=minkowski, n_neighbors=16; total time=   0.0s\n",
      "[CV] END ...................metric=minkowski, n_neighbors=16; total time=   0.0s\n",
      "[CV] END ...................metric=minkowski, n_neighbors=16; total time=   0.0s\n",
      "[CV] END ...................metric=minkowski, n_neighbors=16; total time=   0.0s\n",
      "[CV] END ...................metric=minkowski, n_neighbors=16; total time=   0.0s\n",
      "[CV] END ...................metric=minkowski, n_neighbors=17; total time=   0.0s\n",
      "[CV] END ...................metric=minkowski, n_neighbors=17; total time=   0.0s\n",
      "[CV] END ...................metric=minkowski, n_neighbors=17; total time=   0.0s\n",
      "[CV] END ...................metric=minkowski, n_neighbors=17; total time=   0.0s\n",
      "[CV] END ...................metric=minkowski, n_neighbors=17; total time=   0.0s\n",
      "[CV] END ...................metric=minkowski, n_neighbors=18; total time=   0.0s\n",
      "[CV] END ...................metric=minkowski, n_neighbors=18; total time=   0.0s\n",
      "[CV] END ...................metric=minkowski, n_neighbors=18; total time=   0.0s\n",
      "[CV] END ...................metric=minkowski, n_neighbors=18; total time=   0.0s\n",
      "[CV] END ...................metric=minkowski, n_neighbors=18; total time=   0.0s\n",
      "[CV] END ...................metric=minkowski, n_neighbors=19; total time=   0.0s\n",
      "[CV] END ...................metric=minkowski, n_neighbors=19; total time=   0.0s\n",
      "[CV] END ...................metric=minkowski, n_neighbors=19; total time=   0.0s\n",
      "[CV] END ...................metric=minkowski, n_neighbors=19; total time=   0.0s\n",
      "[CV] END ...................metric=minkowski, n_neighbors=19; total time=   0.0s\n",
      "[CV] END ....................metric=manhattan, n_neighbors=5; total time=   0.0s\n",
      "[CV] END ....................metric=manhattan, n_neighbors=5; total time=   0.0s\n",
      "[CV] END ....................metric=manhattan, n_neighbors=5; total time=   0.0s\n",
      "[CV] END ....................metric=manhattan, n_neighbors=5; total time=   0.0s\n",
      "[CV] END ....................metric=manhattan, n_neighbors=5; total time=   0.0s\n",
      "[CV] END ....................metric=manhattan, n_neighbors=6; total time=   0.0s\n",
      "[CV] END ....................metric=manhattan, n_neighbors=6; total time=   0.0s\n",
      "[CV] END ....................metric=manhattan, n_neighbors=6; total time=   0.0s\n",
      "[CV] END ....................metric=manhattan, n_neighbors=6; total time=   0.0s\n",
      "[CV] END ....................metric=manhattan, n_neighbors=6; total time=   0.0s\n",
      "[CV] END ....................metric=manhattan, n_neighbors=7; total time=   0.0s\n",
      "[CV] END ....................metric=manhattan, n_neighbors=7; total time=   0.0s\n",
      "[CV] END ....................metric=manhattan, n_neighbors=7; total time=   0.0s\n",
      "[CV] END ....................metric=manhattan, n_neighbors=7; total time=   0.0s\n",
      "[CV] END ....................metric=manhattan, n_neighbors=7; total time=   0.0s\n",
      "[CV] END ....................metric=manhattan, n_neighbors=8; total time=   0.0s\n",
      "[CV] END ....................metric=manhattan, n_neighbors=8; total time=   0.0s\n",
      "[CV] END ....................metric=manhattan, n_neighbors=8; total time=   0.0s\n",
      "[CV] END ....................metric=manhattan, n_neighbors=8; total time=   0.0s\n",
      "[CV] END ....................metric=manhattan, n_neighbors=8; total time=   0.0s\n",
      "[CV] END ....................metric=manhattan, n_neighbors=9; total time=   0.0s\n",
      "[CV] END ....................metric=manhattan, n_neighbors=9; total time=   0.0s\n",
      "[CV] END ....................metric=manhattan, n_neighbors=9; total time=   0.0s\n",
      "[CV] END ....................metric=manhattan, n_neighbors=9; total time=   0.0s\n",
      "[CV] END ....................metric=manhattan, n_neighbors=9; total time=   0.0s\n",
      "[CV] END ...................metric=manhattan, n_neighbors=10; total time=   0.0s\n",
      "[CV] END ...................metric=manhattan, n_neighbors=10; total time=   0.0s\n",
      "[CV] END ...................metric=manhattan, n_neighbors=10; total time=   0.0s\n",
      "[CV] END ...................metric=manhattan, n_neighbors=10; total time=   0.0s\n",
      "[CV] END ...................metric=manhattan, n_neighbors=10; total time=   0.0s\n",
      "[CV] END ...................metric=manhattan, n_neighbors=11; total time=   0.0s\n",
      "[CV] END ...................metric=manhattan, n_neighbors=11; total time=   0.0s\n",
      "[CV] END ...................metric=manhattan, n_neighbors=11; total time=   0.0s\n",
      "[CV] END ...................metric=manhattan, n_neighbors=11; total time=   0.0s\n",
      "[CV] END ...................metric=manhattan, n_neighbors=11; total time=   0.0s\n",
      "[CV] END ...................metric=manhattan, n_neighbors=12; total time=   0.0s\n",
      "[CV] END ...................metric=manhattan, n_neighbors=12; total time=   0.0s\n",
      "[CV] END ...................metric=manhattan, n_neighbors=12; total time=   0.0s\n",
      "[CV] END ...................metric=manhattan, n_neighbors=12; total time=   0.0s\n",
      "[CV] END ...................metric=manhattan, n_neighbors=12; total time=   0.0s\n",
      "[CV] END ...................metric=manhattan, n_neighbors=13; total time=   0.0s\n",
      "[CV] END ...................metric=manhattan, n_neighbors=13; total time=   0.0s\n",
      "[CV] END ...................metric=manhattan, n_neighbors=13; total time=   0.0s\n",
      "[CV] END ...................metric=manhattan, n_neighbors=13; total time=   0.0s\n",
      "[CV] END ...................metric=manhattan, n_neighbors=13; total time=   0.0s\n",
      "[CV] END ...................metric=manhattan, n_neighbors=14; total time=   0.0s\n",
      "[CV] END ...................metric=manhattan, n_neighbors=14; total time=   0.0s\n",
      "[CV] END ...................metric=manhattan, n_neighbors=14; total time=   0.0s\n",
      "[CV] END ...................metric=manhattan, n_neighbors=14; total time=   0.0s\n",
      "[CV] END ...................metric=manhattan, n_neighbors=14; total time=   0.0s\n",
      "[CV] END ...................metric=manhattan, n_neighbors=15; total time=   0.0s\n",
      "[CV] END ...................metric=manhattan, n_neighbors=15; total time=   0.0s\n",
      "[CV] END ...................metric=manhattan, n_neighbors=15; total time=   0.0s\n",
      "[CV] END ...................metric=manhattan, n_neighbors=15; total time=   0.0s\n",
      "[CV] END ...................metric=manhattan, n_neighbors=15; total time=   0.0s\n",
      "[CV] END ...................metric=manhattan, n_neighbors=16; total time=   0.0s\n",
      "[CV] END ...................metric=manhattan, n_neighbors=16; total time=   0.0s\n",
      "[CV] END ...................metric=manhattan, n_neighbors=16; total time=   0.0s\n",
      "[CV] END ...................metric=manhattan, n_neighbors=16; total time=   0.0s\n",
      "[CV] END ...................metric=manhattan, n_neighbors=16; total time=   0.0s\n",
      "[CV] END ...................metric=manhattan, n_neighbors=17; total time=   0.0s\n",
      "[CV] END ...................metric=manhattan, n_neighbors=17; total time=   0.0s\n",
      "[CV] END ...................metric=manhattan, n_neighbors=17; total time=   0.0s\n",
      "[CV] END ...................metric=manhattan, n_neighbors=17; total time=   0.0s\n",
      "[CV] END ...................metric=manhattan, n_neighbors=17; total time=   0.0s\n",
      "[CV] END ...................metric=manhattan, n_neighbors=18; total time=   0.0s\n",
      "[CV] END ...................metric=manhattan, n_neighbors=18; total time=   0.0s\n",
      "[CV] END ...................metric=manhattan, n_neighbors=18; total time=   0.0s\n",
      "[CV] END ...................metric=manhattan, n_neighbors=18; total time=   0.0s\n",
      "[CV] END ...................metric=manhattan, n_neighbors=18; total time=   0.0s\n",
      "[CV] END ...................metric=manhattan, n_neighbors=19; total time=   0.0s\n",
      "[CV] END ...................metric=manhattan, n_neighbors=19; total time=   0.0s\n",
      "[CV] END ...................metric=manhattan, n_neighbors=19; total time=   0.0s\n",
      "[CV] END ...................metric=manhattan, n_neighbors=19; total time=   0.0s\n",
      "[CV] END ...................metric=manhattan, n_neighbors=19; total time=   0.0s\n",
      "[CV] END ....................metric=euclidean, n_neighbors=5; total time=   0.0s\n",
      "[CV] END ....................metric=euclidean, n_neighbors=5; total time=   0.0s\n",
      "[CV] END ....................metric=euclidean, n_neighbors=5; total time=   0.0s\n",
      "[CV] END ....................metric=euclidean, n_neighbors=5; total time=   0.0s\n",
      "[CV] END ....................metric=euclidean, n_neighbors=5; total time=   0.0s\n",
      "[CV] END ....................metric=euclidean, n_neighbors=6; total time=   0.0s\n",
      "[CV] END ....................metric=euclidean, n_neighbors=6; total time=   0.0s\n",
      "[CV] END ....................metric=euclidean, n_neighbors=6; total time=   0.0s\n",
      "[CV] END ....................metric=euclidean, n_neighbors=6; total time=   0.0s\n",
      "[CV] END ....................metric=euclidean, n_neighbors=6; total time=   0.0s\n",
      "[CV] END ....................metric=euclidean, n_neighbors=7; total time=   0.0s\n",
      "[CV] END ....................metric=euclidean, n_neighbors=7; total time=   0.0s\n",
      "[CV] END ....................metric=euclidean, n_neighbors=7; total time=   0.0s\n",
      "[CV] END ....................metric=euclidean, n_neighbors=7; total time=   0.0s\n",
      "[CV] END ....................metric=euclidean, n_neighbors=7; total time=   0.0s\n",
      "[CV] END ....................metric=euclidean, n_neighbors=8; total time=   0.0s\n",
      "[CV] END ....................metric=euclidean, n_neighbors=8; total time=   0.0s\n",
      "[CV] END ....................metric=euclidean, n_neighbors=8; total time=   0.0s\n",
      "[CV] END ....................metric=euclidean, n_neighbors=8; total time=   0.0s\n",
      "[CV] END ....................metric=euclidean, n_neighbors=8; total time=   0.0s\n",
      "[CV] END ....................metric=euclidean, n_neighbors=9; total time=   0.0s\n",
      "[CV] END ....................metric=euclidean, n_neighbors=9; total time=   0.0s\n",
      "[CV] END ....................metric=euclidean, n_neighbors=9; total time=   0.0s\n",
      "[CV] END ....................metric=euclidean, n_neighbors=9; total time=   0.0s\n",
      "[CV] END ....................metric=euclidean, n_neighbors=9; total time=   0.0s\n",
      "[CV] END ...................metric=euclidean, n_neighbors=10; total time=   0.0s\n",
      "[CV] END ...................metric=euclidean, n_neighbors=10; total time=   0.0s\n",
      "[CV] END ...................metric=euclidean, n_neighbors=10; total time=   0.0s\n",
      "[CV] END ...................metric=euclidean, n_neighbors=10; total time=   0.0s\n",
      "[CV] END ...................metric=euclidean, n_neighbors=10; total time=   0.0s\n",
      "[CV] END ...................metric=euclidean, n_neighbors=11; total time=   0.0s\n",
      "[CV] END ...................metric=euclidean, n_neighbors=11; total time=   0.0s\n",
      "[CV] END ...................metric=euclidean, n_neighbors=11; total time=   0.0s\n",
      "[CV] END ...................metric=euclidean, n_neighbors=11; total time=   0.0s\n",
      "[CV] END ...................metric=euclidean, n_neighbors=11; total time=   0.0s\n",
      "[CV] END ...................metric=euclidean, n_neighbors=12; total time=   0.0s\n",
      "[CV] END ...................metric=euclidean, n_neighbors=12; total time=   0.0s\n",
      "[CV] END ...................metric=euclidean, n_neighbors=12; total time=   0.0s\n",
      "[CV] END ...................metric=euclidean, n_neighbors=12; total time=   0.0s\n",
      "[CV] END ...................metric=euclidean, n_neighbors=12; total time=   0.0s\n",
      "[CV] END ...................metric=euclidean, n_neighbors=13; total time=   0.0s\n",
      "[CV] END ...................metric=euclidean, n_neighbors=13; total time=   0.0s\n",
      "[CV] END ...................metric=euclidean, n_neighbors=13; total time=   0.0s\n",
      "[CV] END ...................metric=euclidean, n_neighbors=13; total time=   0.0s\n",
      "[CV] END ...................metric=euclidean, n_neighbors=13; total time=   0.0s\n",
      "[CV] END ...................metric=euclidean, n_neighbors=14; total time=   0.0s\n",
      "[CV] END ...................metric=euclidean, n_neighbors=14; total time=   0.0s\n",
      "[CV] END ...................metric=euclidean, n_neighbors=14; total time=   0.0s\n",
      "[CV] END ...................metric=euclidean, n_neighbors=14; total time=   0.0s\n",
      "[CV] END ...................metric=euclidean, n_neighbors=14; total time=   0.0s\n",
      "[CV] END ...................metric=euclidean, n_neighbors=15; total time=   0.0s\n",
      "[CV] END ...................metric=euclidean, n_neighbors=15; total time=   0.0s\n",
      "[CV] END ...................metric=euclidean, n_neighbors=15; total time=   0.0s\n",
      "[CV] END ...................metric=euclidean, n_neighbors=15; total time=   0.0s\n",
      "[CV] END ...................metric=euclidean, n_neighbors=15; total time=   0.0s\n",
      "[CV] END ...................metric=euclidean, n_neighbors=16; total time=   0.0s\n",
      "[CV] END ...................metric=euclidean, n_neighbors=16; total time=   0.0s\n",
      "[CV] END ...................metric=euclidean, n_neighbors=16; total time=   0.0s\n",
      "[CV] END ...................metric=euclidean, n_neighbors=16; total time=   0.0s\n",
      "[CV] END ...................metric=euclidean, n_neighbors=16; total time=   0.0s\n",
      "[CV] END ...................metric=euclidean, n_neighbors=17; total time=   0.0s\n",
      "[CV] END ...................metric=euclidean, n_neighbors=17; total time=   0.0s\n",
      "[CV] END ...................metric=euclidean, n_neighbors=17; total time=   0.0s\n",
      "[CV] END ...................metric=euclidean, n_neighbors=17; total time=   0.0s\n",
      "[CV] END ...................metric=euclidean, n_neighbors=17; total time=   0.0s\n",
      "[CV] END ...................metric=euclidean, n_neighbors=18; total time=   0.0s\n",
      "[CV] END ...................metric=euclidean, n_neighbors=18; total time=   0.0s\n",
      "[CV] END ...................metric=euclidean, n_neighbors=18; total time=   0.0s\n",
      "[CV] END ...................metric=euclidean, n_neighbors=18; total time=   0.0s\n",
      "[CV] END ...................metric=euclidean, n_neighbors=18; total time=   0.0s\n",
      "[CV] END ...................metric=euclidean, n_neighbors=19; total time=   0.0s\n",
      "[CV] END ...................metric=euclidean, n_neighbors=19; total time=   0.0s\n",
      "[CV] END ...................metric=euclidean, n_neighbors=19; total time=   0.0s\n",
      "[CV] END ...................metric=euclidean, n_neighbors=19; total time=   0.0s\n",
      "[CV] END ...................metric=euclidean, n_neighbors=19; total time=   0.0s\n",
      "Best parameters for KNN: {'metric': 'minkowski', 'n_neighbors': np.int64(6)}\n",
      "Accuracy KNN after Grid Search: 0.7467532467532467\n"
     ]
    }
   ],
   "execution_count": 44
  },
  {
   "metadata": {},
   "cell_type": "markdown",
   "source": [
    "**Insight:**\n",
    "\n",
    "- Kode ini bertujuan untuk melakukan optimasi atau tuning hyperparameter untuk model KNN menggunakan metode Grid Search. Secara sederhana, proses ini seperti mencari setelan terbaik untuk sebuah mesin agar kinerjanya maksimal.\n",
    "\n",
    "- Dari keluaran di atas didapatkan parameter terbaik sebagai berikut:\n",
    "    - metric: minkowski\n",
    "    - neighbors: 6\n"
   ],
   "id": "c89d92eb52b2a5bb"
  },
  {
   "cell_type": "markdown",
   "id": "938349e7",
   "metadata": {},
   "source": [
    "**Melakukan hyperparameter tuning menggunakan GridSearchCV pada model Logistic Regression**"
   ]
  },
  {
   "cell_type": "code",
   "id": "b0f3afdc3d5feda1",
   "metadata": {
    "ExecuteTime": {
     "end_time": "2025-06-16T15:58:35.102065Z",
     "start_time": "2025-06-16T15:58:34.229447Z"
    }
   },
   "source": [
    "# Definisikan parameter grid untuk Grid Search\n",
    "param_grid_lr = {\n",
    "    'C': [0.1, 1, 10],\n",
    "    'penalty': ['l2', 'l1', 'elasticnet'],\n",
    "    'solver': ['lbfgs', 'liblinear', 'saga']\n",
    "}\n",
    "\n",
    "# Inisialisasi GridSearchCV\n",
    "grid_search_lr = GridSearchCV(lr, param_grid_lr, cv=5, n_jobs=1, verbose=2)\n",
    "grid_search_lr.fit(X_train_final, y_train_resampled)\n",
    "\n",
    "# Output hasil terbaik\n",
    "print(f\"Best parameters (Grid Search): {grid_search_lr.best_params_}\")\n",
    "best_lr_grid = grid_search_lr.best_estimator_\n",
    "\n",
    "# Evaluasi performa model pada test set\n",
    "grid_search_score_lr = best_lr_grid.score(X_test_final, y_test)\n",
    "print(f\"Accuracy LR after Grid Search: {grid_search_score_lr:.2f}\")\n",
    "\n",
    "# Menyimpan hyperparameter terbaik di vairabel\n",
    "best_c_lr = grid_search_lr.best_params_['C']\n",
    "best_penalty = grid_search_lr.best_params_['penalty']\n",
    "best_solver = grid_search_lr.best_params_['solver']"
   ],
   "outputs": [
    {
     "name": "stdout",
     "output_type": "stream",
     "text": [
      "Fitting 5 folds for each of 27 candidates, totalling 135 fits\n",
      "[CV] END ....................C=0.1, penalty=l2, solver=lbfgs; total time=   0.0s\n",
      "[CV] END ....................C=0.1, penalty=l2, solver=lbfgs; total time=   0.0s\n",
      "[CV] END ....................C=0.1, penalty=l2, solver=lbfgs; total time=   0.0s\n",
      "[CV] END ....................C=0.1, penalty=l2, solver=lbfgs; total time=   0.0s\n",
      "[CV] END ....................C=0.1, penalty=l2, solver=lbfgs; total time=   0.0s\n",
      "[CV] END ................C=0.1, penalty=l2, solver=liblinear; total time=   0.0s\n",
      "[CV] END ................C=0.1, penalty=l2, solver=liblinear; total time=   0.0s\n",
      "[CV] END ................C=0.1, penalty=l2, solver=liblinear; total time=   0.0s\n",
      "[CV] END ................C=0.1, penalty=l2, solver=liblinear; total time=   0.0s\n",
      "[CV] END ................C=0.1, penalty=l2, solver=liblinear; total time=   0.0s\n",
      "[CV] END .....................C=0.1, penalty=l2, solver=saga; total time=   0.0s\n",
      "[CV] END .....................C=0.1, penalty=l2, solver=saga; total time=   0.0s\n",
      "[CV] END .....................C=0.1, penalty=l2, solver=saga; total time=   0.0s\n",
      "[CV] END .....................C=0.1, penalty=l2, solver=saga; total time=   0.0s\n",
      "[CV] END .....................C=0.1, penalty=l2, solver=saga; total time=   0.0s\n",
      "[CV] END ....................C=0.1, penalty=l1, solver=lbfgs; total time=   0.0s\n",
      "[CV] END ....................C=0.1, penalty=l1, solver=lbfgs; total time=   0.0s\n",
      "[CV] END ....................C=0.1, penalty=l1, solver=lbfgs; total time=   0.0s\n",
      "[CV] END ....................C=0.1, penalty=l1, solver=lbfgs; total time=   0.0s\n",
      "[CV] END ....................C=0.1, penalty=l1, solver=lbfgs; total time=   0.0s\n",
      "[CV] END ................C=0.1, penalty=l1, solver=liblinear; total time=   0.0s\n",
      "[CV] END ................C=0.1, penalty=l1, solver=liblinear; total time=   0.0s\n",
      "[CV] END ................C=0.1, penalty=l1, solver=liblinear; total time=   0.0s\n",
      "[CV] END ................C=0.1, penalty=l1, solver=liblinear; total time=   0.0s\n",
      "[CV] END ................C=0.1, penalty=l1, solver=liblinear; total time=   0.0s\n",
      "[CV] END .....................C=0.1, penalty=l1, solver=saga; total time=   0.0s\n",
      "[CV] END .....................C=0.1, penalty=l1, solver=saga; total time=   0.0s\n",
      "[CV] END .....................C=0.1, penalty=l1, solver=saga; total time=   0.0s\n",
      "[CV] END .....................C=0.1, penalty=l1, solver=saga; total time=   0.0s\n",
      "[CV] END .....................C=0.1, penalty=l1, solver=saga; total time=   0.0s\n",
      "[CV] END ............C=0.1, penalty=elasticnet, solver=lbfgs; total time=   0.0s\n",
      "[CV] END ............C=0.1, penalty=elasticnet, solver=lbfgs; total time=   0.0s\n",
      "[CV] END ............C=0.1, penalty=elasticnet, solver=lbfgs; total time=   0.0s\n",
      "[CV] END ............C=0.1, penalty=elasticnet, solver=lbfgs; total time=   0.0s\n",
      "[CV] END ............C=0.1, penalty=elasticnet, solver=lbfgs; total time=   0.0s\n",
      "[CV] END ........C=0.1, penalty=elasticnet, solver=liblinear; total time=   0.0s\n",
      "[CV] END ........C=0.1, penalty=elasticnet, solver=liblinear; total time=   0.0s\n",
      "[CV] END ........C=0.1, penalty=elasticnet, solver=liblinear; total time=   0.0s\n",
      "[CV] END ........C=0.1, penalty=elasticnet, solver=liblinear; total time=   0.0s\n",
      "[CV] END ........C=0.1, penalty=elasticnet, solver=liblinear; total time=   0.0s\n",
      "[CV] END .............C=0.1, penalty=elasticnet, solver=saga; total time=   0.0s\n",
      "[CV] END .............C=0.1, penalty=elasticnet, solver=saga; total time=   0.0s\n",
      "[CV] END .............C=0.1, penalty=elasticnet, solver=saga; total time=   0.0s\n",
      "[CV] END .............C=0.1, penalty=elasticnet, solver=saga; total time=   0.0s\n",
      "[CV] END .............C=0.1, penalty=elasticnet, solver=saga; total time=   0.0s\n",
      "[CV] END ......................C=1, penalty=l2, solver=lbfgs; total time=   0.0s\n",
      "[CV] END ......................C=1, penalty=l2, solver=lbfgs; total time=   0.0s\n",
      "[CV] END ......................C=1, penalty=l2, solver=lbfgs; total time=   0.0s\n",
      "[CV] END ......................C=1, penalty=l2, solver=lbfgs; total time=   0.0s\n",
      "[CV] END ......................C=1, penalty=l2, solver=lbfgs; total time=   0.0s\n",
      "[CV] END ..................C=1, penalty=l2, solver=liblinear; total time=   0.0s\n",
      "[CV] END ..................C=1, penalty=l2, solver=liblinear; total time=   0.0s\n",
      "[CV] END ..................C=1, penalty=l2, solver=liblinear; total time=   0.0s\n",
      "[CV] END ..................C=1, penalty=l2, solver=liblinear; total time=   0.0s\n",
      "[CV] END ..................C=1, penalty=l2, solver=liblinear; total time=   0.0s\n",
      "[CV] END .......................C=1, penalty=l2, solver=saga; total time=   0.0s\n",
      "[CV] END .......................C=1, penalty=l2, solver=saga; total time=   0.0s\n",
      "[CV] END .......................C=1, penalty=l2, solver=saga; total time=   0.0s\n",
      "[CV] END .......................C=1, penalty=l2, solver=saga; total time=   0.0s\n",
      "[CV] END .......................C=1, penalty=l2, solver=saga; total time=   0.0s\n",
      "[CV] END ......................C=1, penalty=l1, solver=lbfgs; total time=   0.0s\n",
      "[CV] END ......................C=1, penalty=l1, solver=lbfgs; total time=   0.0s\n",
      "[CV] END ......................C=1, penalty=l1, solver=lbfgs; total time=   0.0s\n",
      "[CV] END ......................C=1, penalty=l1, solver=lbfgs; total time=   0.0s\n",
      "[CV] END ......................C=1, penalty=l1, solver=lbfgs; total time=   0.0s\n",
      "[CV] END ..................C=1, penalty=l1, solver=liblinear; total time=   0.0s\n",
      "[CV] END ..................C=1, penalty=l1, solver=liblinear; total time=   0.0s\n",
      "[CV] END ..................C=1, penalty=l1, solver=liblinear; total time=   0.0s\n",
      "[CV] END ..................C=1, penalty=l1, solver=liblinear; total time=   0.0s\n",
      "[CV] END ..................C=1, penalty=l1, solver=liblinear; total time=   0.0s\n",
      "[CV] END .......................C=1, penalty=l1, solver=saga; total time=   0.0s\n",
      "[CV] END .......................C=1, penalty=l1, solver=saga; total time=   0.0s\n",
      "[CV] END .......................C=1, penalty=l1, solver=saga; total time=   0.0s\n",
      "[CV] END .......................C=1, penalty=l1, solver=saga; total time=   0.0s\n",
      "[CV] END .......................C=1, penalty=l1, solver=saga; total time=   0.0s\n",
      "[CV] END ..............C=1, penalty=elasticnet, solver=lbfgs; total time=   0.0s\n",
      "[CV] END ..............C=1, penalty=elasticnet, solver=lbfgs; total time=   0.0s\n",
      "[CV] END ..............C=1, penalty=elasticnet, solver=lbfgs; total time=   0.0s\n",
      "[CV] END ..............C=1, penalty=elasticnet, solver=lbfgs; total time=   0.0s\n",
      "[CV] END ..............C=1, penalty=elasticnet, solver=lbfgs; total time=   0.0s\n",
      "[CV] END ..........C=1, penalty=elasticnet, solver=liblinear; total time=   0.0s\n",
      "[CV] END ..........C=1, penalty=elasticnet, solver=liblinear; total time=   0.0s\n",
      "[CV] END ..........C=1, penalty=elasticnet, solver=liblinear; total time=   0.0s\n",
      "[CV] END ..........C=1, penalty=elasticnet, solver=liblinear; total time=   0.0s\n",
      "[CV] END ..........C=1, penalty=elasticnet, solver=liblinear; total time=   0.0s\n",
      "[CV] END ...............C=1, penalty=elasticnet, solver=saga; total time=   0.0s\n",
      "[CV] END ...............C=1, penalty=elasticnet, solver=saga; total time=   0.0s\n",
      "[CV] END ...............C=1, penalty=elasticnet, solver=saga; total time=   0.0s\n",
      "[CV] END ...............C=1, penalty=elasticnet, solver=saga; total time=   0.0s\n",
      "[CV] END ...............C=1, penalty=elasticnet, solver=saga; total time=   0.0s\n",
      "[CV] END .....................C=10, penalty=l2, solver=lbfgs; total time=   0.0s\n",
      "[CV] END .....................C=10, penalty=l2, solver=lbfgs; total time=   0.0s\n",
      "[CV] END .....................C=10, penalty=l2, solver=lbfgs; total time=   0.0s\n",
      "[CV] END .....................C=10, penalty=l2, solver=lbfgs; total time=   0.0s\n",
      "[CV] END .....................C=10, penalty=l2, solver=lbfgs; total time=   0.0s\n",
      "[CV] END .................C=10, penalty=l2, solver=liblinear; total time=   0.0s\n",
      "[CV] END .................C=10, penalty=l2, solver=liblinear; total time=   0.0s\n",
      "[CV] END .................C=10, penalty=l2, solver=liblinear; total time=   0.0s\n",
      "[CV] END .................C=10, penalty=l2, solver=liblinear; total time=   0.0s\n",
      "[CV] END .................C=10, penalty=l2, solver=liblinear; total time=   0.0s\n",
      "[CV] END ......................C=10, penalty=l2, solver=saga; total time=   0.0s\n",
      "[CV] END ......................C=10, penalty=l2, solver=saga; total time=   0.0s\n",
      "[CV] END ......................C=10, penalty=l2, solver=saga; total time=   0.0s\n",
      "[CV] END ......................C=10, penalty=l2, solver=saga; total time=   0.0s\n",
      "[CV] END ......................C=10, penalty=l2, solver=saga; total time=   0.0s\n",
      "[CV] END .....................C=10, penalty=l1, solver=lbfgs; total time=   0.0s\n",
      "[CV] END .....................C=10, penalty=l1, solver=lbfgs; total time=   0.0s\n",
      "[CV] END .....................C=10, penalty=l1, solver=lbfgs; total time=   0.0s\n",
      "[CV] END .....................C=10, penalty=l1, solver=lbfgs; total time=   0.0s\n",
      "[CV] END .....................C=10, penalty=l1, solver=lbfgs; total time=   0.0s\n",
      "[CV] END .................C=10, penalty=l1, solver=liblinear; total time=   0.0s\n",
      "[CV] END .................C=10, penalty=l1, solver=liblinear; total time=   0.0s\n",
      "[CV] END .................C=10, penalty=l1, solver=liblinear; total time=   0.0s\n",
      "[CV] END .................C=10, penalty=l1, solver=liblinear; total time=   0.0s\n",
      "[CV] END .................C=10, penalty=l1, solver=liblinear; total time=   0.0s\n",
      "[CV] END ......................C=10, penalty=l1, solver=saga; total time=   0.0s\n",
      "[CV] END ......................C=10, penalty=l1, solver=saga; total time=   0.0s\n",
      "[CV] END ......................C=10, penalty=l1, solver=saga; total time=   0.0s\n",
      "[CV] END ......................C=10, penalty=l1, solver=saga; total time=   0.0s\n",
      "[CV] END ......................C=10, penalty=l1, solver=saga; total time=   0.0s\n",
      "[CV] END .............C=10, penalty=elasticnet, solver=lbfgs; total time=   0.0s\n",
      "[CV] END .............C=10, penalty=elasticnet, solver=lbfgs; total time=   0.0s\n",
      "[CV] END .............C=10, penalty=elasticnet, solver=lbfgs; total time=   0.0s\n",
      "[CV] END .............C=10, penalty=elasticnet, solver=lbfgs; total time=   0.0s\n",
      "[CV] END .............C=10, penalty=elasticnet, solver=lbfgs; total time=   0.0s\n",
      "[CV] END .........C=10, penalty=elasticnet, solver=liblinear; total time=   0.0s\n",
      "[CV] END .........C=10, penalty=elasticnet, solver=liblinear; total time=   0.0s\n",
      "[CV] END .........C=10, penalty=elasticnet, solver=liblinear; total time=   0.0s\n",
      "[CV] END .........C=10, penalty=elasticnet, solver=liblinear; total time=   0.0s\n",
      "[CV] END .........C=10, penalty=elasticnet, solver=liblinear; total time=   0.0s\n",
      "[CV] END ..............C=10, penalty=elasticnet, solver=saga; total time=   0.0s\n",
      "[CV] END ..............C=10, penalty=elasticnet, solver=saga; total time=   0.0s\n",
      "[CV] END ..............C=10, penalty=elasticnet, solver=saga; total time=   0.0s\n",
      "[CV] END ..............C=10, penalty=elasticnet, solver=saga; total time=   0.0s\n",
      "[CV] END ..............C=10, penalty=elasticnet, solver=saga; total time=   0.0s\n",
      "Best parameters (Grid Search): {'C': 10, 'penalty': 'l2', 'solver': 'liblinear'}\n",
      "Accuracy LR after Grid Search: 0.71\n"
     ]
    },
    {
     "name": "stderr",
     "output_type": "stream",
     "text": [
      "/home/refanzzzz/miniconda3/envs/diabetes-predictive-analytic/lib/python3.12/site-packages/sklearn/model_selection/_validation.py:528: FitFailedWarning: \n",
      "60 fits failed out of a total of 135.\n",
      "The score on these train-test partitions for these parameters will be set to nan.\n",
      "If these failures are not expected, you can try to debug them by setting error_score='raise'.\n",
      "\n",
      "Below are more details about the failures:\n",
      "--------------------------------------------------------------------------------\n",
      "15 fits failed with the following error:\n",
      "Traceback (most recent call last):\n",
      "  File \"/home/refanzzzz/miniconda3/envs/diabetes-predictive-analytic/lib/python3.12/site-packages/sklearn/model_selection/_validation.py\", line 866, in _fit_and_score\n",
      "    estimator.fit(X_train, y_train, **fit_params)\n",
      "  File \"/home/refanzzzz/miniconda3/envs/diabetes-predictive-analytic/lib/python3.12/site-packages/sklearn/base.py\", line 1389, in wrapper\n",
      "    return fit_method(estimator, *args, **kwargs)\n",
      "           ^^^^^^^^^^^^^^^^^^^^^^^^^^^^^^^^^^^^^^\n",
      "  File \"/home/refanzzzz/miniconda3/envs/diabetes-predictive-analytic/lib/python3.12/site-packages/sklearn/linear_model/_logistic.py\", line 1193, in fit\n",
      "    solver = _check_solver(self.solver, self.penalty, self.dual)\n",
      "             ^^^^^^^^^^^^^^^^^^^^^^^^^^^^^^^^^^^^^^^^^^^^^^^^^^^\n",
      "  File \"/home/refanzzzz/miniconda3/envs/diabetes-predictive-analytic/lib/python3.12/site-packages/sklearn/linear_model/_logistic.py\", line 63, in _check_solver\n",
      "    raise ValueError(\n",
      "ValueError: Solver lbfgs supports only 'l2' or None penalties, got l1 penalty.\n",
      "\n",
      "--------------------------------------------------------------------------------\n",
      "15 fits failed with the following error:\n",
      "Traceback (most recent call last):\n",
      "  File \"/home/refanzzzz/miniconda3/envs/diabetes-predictive-analytic/lib/python3.12/site-packages/sklearn/model_selection/_validation.py\", line 866, in _fit_and_score\n",
      "    estimator.fit(X_train, y_train, **fit_params)\n",
      "  File \"/home/refanzzzz/miniconda3/envs/diabetes-predictive-analytic/lib/python3.12/site-packages/sklearn/base.py\", line 1389, in wrapper\n",
      "    return fit_method(estimator, *args, **kwargs)\n",
      "           ^^^^^^^^^^^^^^^^^^^^^^^^^^^^^^^^^^^^^^\n",
      "  File \"/home/refanzzzz/miniconda3/envs/diabetes-predictive-analytic/lib/python3.12/site-packages/sklearn/linear_model/_logistic.py\", line 1193, in fit\n",
      "    solver = _check_solver(self.solver, self.penalty, self.dual)\n",
      "             ^^^^^^^^^^^^^^^^^^^^^^^^^^^^^^^^^^^^^^^^^^^^^^^^^^^\n",
      "  File \"/home/refanzzzz/miniconda3/envs/diabetes-predictive-analytic/lib/python3.12/site-packages/sklearn/linear_model/_logistic.py\", line 63, in _check_solver\n",
      "    raise ValueError(\n",
      "ValueError: Solver lbfgs supports only 'l2' or None penalties, got elasticnet penalty.\n",
      "\n",
      "--------------------------------------------------------------------------------\n",
      "15 fits failed with the following error:\n",
      "Traceback (most recent call last):\n",
      "  File \"/home/refanzzzz/miniconda3/envs/diabetes-predictive-analytic/lib/python3.12/site-packages/sklearn/model_selection/_validation.py\", line 866, in _fit_and_score\n",
      "    estimator.fit(X_train, y_train, **fit_params)\n",
      "  File \"/home/refanzzzz/miniconda3/envs/diabetes-predictive-analytic/lib/python3.12/site-packages/sklearn/base.py\", line 1389, in wrapper\n",
      "    return fit_method(estimator, *args, **kwargs)\n",
      "           ^^^^^^^^^^^^^^^^^^^^^^^^^^^^^^^^^^^^^^\n",
      "  File \"/home/refanzzzz/miniconda3/envs/diabetes-predictive-analytic/lib/python3.12/site-packages/sklearn/linear_model/_logistic.py\", line 1193, in fit\n",
      "    solver = _check_solver(self.solver, self.penalty, self.dual)\n",
      "             ^^^^^^^^^^^^^^^^^^^^^^^^^^^^^^^^^^^^^^^^^^^^^^^^^^^\n",
      "  File \"/home/refanzzzz/miniconda3/envs/diabetes-predictive-analytic/lib/python3.12/site-packages/sklearn/linear_model/_logistic.py\", line 71, in _check_solver\n",
      "    raise ValueError(\n",
      "ValueError: Only 'saga' solver supports elasticnet penalty, got solver=liblinear.\n",
      "\n",
      "--------------------------------------------------------------------------------\n",
      "15 fits failed with the following error:\n",
      "Traceback (most recent call last):\n",
      "  File \"/home/refanzzzz/miniconda3/envs/diabetes-predictive-analytic/lib/python3.12/site-packages/sklearn/model_selection/_validation.py\", line 866, in _fit_and_score\n",
      "    estimator.fit(X_train, y_train, **fit_params)\n",
      "  File \"/home/refanzzzz/miniconda3/envs/diabetes-predictive-analytic/lib/python3.12/site-packages/sklearn/base.py\", line 1389, in wrapper\n",
      "    return fit_method(estimator, *args, **kwargs)\n",
      "           ^^^^^^^^^^^^^^^^^^^^^^^^^^^^^^^^^^^^^^\n",
      "  File \"/home/refanzzzz/miniconda3/envs/diabetes-predictive-analytic/lib/python3.12/site-packages/sklearn/linear_model/_logistic.py\", line 1203, in fit\n",
      "    raise ValueError(\"l1_ratio must be specified when penalty is elasticnet.\")\n",
      "ValueError: l1_ratio must be specified when penalty is elasticnet.\n",
      "\n",
      "  warnings.warn(some_fits_failed_message, FitFailedWarning)\n",
      "/home/refanzzzz/miniconda3/envs/diabetes-predictive-analytic/lib/python3.12/site-packages/sklearn/model_selection/_search.py:1108: UserWarning: One or more of the test scores are non-finite: [0.73125 0.735   0.73125     nan 0.6975  0.7175      nan     nan     nan\n",
      " 0.73875 0.74125 0.73875     nan 0.7325  0.73125     nan     nan     nan\n",
      " 0.7375  0.74125 0.7375      nan 0.73875 0.73875     nan     nan     nan]\n",
      "  warnings.warn(\n"
     ]
    }
   ],
   "execution_count": 45
  },
  {
   "metadata": {},
   "cell_type": "markdown",
   "source": [
    "**Insight:**\n",
    "\n",
    "- Kode ini bertujuan untuk melakukan optimasi atau tuning hyperparameter untuk model Logistic Regression menggunakan metode Grid Search. Secara sederhana, proses ini seperti mencari setelan terbaik untuk sebuah mesin agar kinerjanya maksimal.\n",
    "\n",
    "- Dari keluaran di atas didapatkan parameter terbaik sebagai berikut:\n",
    "    - C: 10\n",
    "    - penalty: l2\n",
    "    - solver: liblinear"
   ],
   "id": "c88840bc79210431"
  },
  {
   "cell_type": "markdown",
   "id": "99674a0b1b8d86a9",
   "metadata": {},
   "source": [
    "## **Evaluasi Model Klasifikasi setelah Tuning**\n",
    "\n",
    "**Setelah melakukan hyperparameter tuning, nilai dari best parameter diujikan ke pada ketiga model untuk melihat bagaimana performanya**"
   ]
  },
  {
   "cell_type": "code",
   "id": "f4bb2caab969f3c6",
   "metadata": {
    "ExecuteTime": {
     "end_time": "2025-06-16T15:58:35.394330Z",
     "start_time": "2025-06-16T15:58:35.163435Z"
    }
   },
   "source": [
    "# Inisialisasi model klasifikasi setelah dilakukan tuning\n",
    "rf_tuning = RandomForestClassifier(n_estimators=n_estimators, max_depth=max_depth, min_samples_split=min_samples_split,\n",
    "                                   random_state=42).fit(X_train_final, y_train_resampled)\n",
    "knn_tuning = KNeighborsClassifier(n_neighbors=n_neighbors, metric=metric).fit(X_train_final, y_train_resampled)\n",
    "lr_tuning = LogisticRegression(C=best_c_lr, penalty=best_penalty, solver=best_solver, random_state=42).fit(\n",
    "    X_train_final, y_train_resampled)\n",
    "\n",
    "# Evaluasi ulang model\n",
    "results_after_tuning = {\n",
    "    'Random Forest': evaluate_model(rf_tuning, X_test_final, y_test),\n",
    "    'KNN': evaluate_model(knn_tuning, X_test_final, y_test),\n",
    "    'LR': evaluate_model(lr_tuning, X_test_final, y_test)\n",
    "}"
   ],
   "outputs": [],
   "execution_count": 46
  },
  {
   "metadata": {},
   "cell_type": "markdown",
   "source": [
    "**Insight:**\n",
    "\n",
    "Kode ini bertujuan untuk membuat versi final dari setiap model menggunakan setelan terbaik hasil tuning, lalu mengevaluasi ulang performa model-model yang sudah dioptimalkan tersebut."
   ],
   "id": "31f1f6d36ad2fa6c"
  },
  {
   "metadata": {
    "ExecuteTime": {
     "end_time": "2025-06-16T15:58:35.450896Z",
     "start_time": "2025-06-16T15:58:35.446312Z"
    }
   },
   "cell_type": "code",
   "source": [
    "# Menampilkan hasil evaluasi setelah tuning\n",
    "print_evaluate_model(results_after_tuning)"
   ],
   "id": "39b9eb44b428c010",
   "outputs": [
    {
     "name": "stdout",
     "output_type": "stream",
     "text": [
      "           Model  Accuracy  Precision    Recall  F1 Score\n",
      "0  Random Forest  0.720779   0.579710  0.740741  0.650407\n",
      "1            KNN  0.746753   0.636364  0.648148  0.642202\n",
      "2             LR  0.714286   0.583333  0.648148  0.614035\n"
     ]
    }
   ],
   "execution_count": 47
  },
  {
   "metadata": {},
   "cell_type": "markdown",
   "source": [
    "**Insight:**\n",
    "\n",
    "1. Random Forest\n",
    "\n",
    "Model ini memiliki F1 Score tertinggi (0.650), yang menunjukkan keseimbangan terbaik antara Precision dan Recall.\n",
    "Ia juga memiliki Recall tertinggi (0.741), artinya model ini adalah yang paling andal dalam menemukan semua kasus positif yang sebenarnya.\n",
    "Kelemahannya adalah Precision terendah (0.580), yang berarti tebakan positifnya paling tidak akurat dibandingkan model lain.\n",
    "\n",
    "2. KNN (K-Nearest Neighbors)\n",
    "\n",
    "Model ini unggul dalam Akurasi (74.7%) dan Precision (63.6%). Artinya, ia memiliki tingkat kebenaran prediksi tertinggi secara umum, dan tebakan positifnya adalah yang paling bisa diandalkan.\n",
    "Kelemahannya adalah Recall terendah (64.8%), yang berarti model ini paling banyak melewatkan kasus positif yang sebenarnya.\n",
    "\n",
    "3. Logistic Regression (LR)\n",
    "\n",
    "Model ini menunjukkan performa terendah di antara ketiganya pada hampir semua metrik, terutama pada F1 Score (0.614).\n",
    "\n",
    "Berdasarkan hasil ini, Random Forest adalah model dengan performa terbaik secara keseluruhan dengan F1-score menjadi acuan utama, meskipun KNN memiliki akurasi tertinggi.\n"
   ],
   "id": "68b589b0ec37aa96"
  },
  {
   "cell_type": "markdown",
   "id": "d4625c5c",
   "metadata": {},
   "source": [
    "**Menampilkan confusion matrix pada model Random Forest setelah dilakukan hyperparameter tuning**"
   ]
  },
  {
   "cell_type": "code",
   "id": "e88d082ff06637f",
   "metadata": {
    "ExecuteTime": {
     "end_time": "2025-06-16T15:58:35.642191Z",
     "start_time": "2025-06-16T15:58:35.543732Z"
    }
   },
   "source": [
    "plot_confusion_matrix(results_after_tuning['Random Forest']['Confusion Matrix'])"
   ],
   "outputs": [
    {
     "data": {
      "text/plain": [
       "<Figure size 600x500 with 2 Axes>"
      ],
      "image/png": "[encoded data removed]"
     },
     "metadata": {},
     "output_type": "display_data"
    }
   ],
   "execution_count": 48
  },
  {
   "metadata": {},
   "cell_type": "markdown",
   "source": [
    "**Insight:**\n",
    "\n",
    "Pada heatmap di atas adalah hasil confusion matrix pada model Random Forest setelah dilakukan hyperparameter tuning. Berikut ini adalah ringkasan dari hasil confusion matrix di atas.\n",
    "\n",
    "True Positive (TP): 71  --> Model berhasil menebak 71 kasus sebagai \"Diabetes\" dengan benar.\n",
    "True Negative (TN): 40 --> Model berhasil menebak 40 kasus sebagai \"Non-Diabetes\" dengan benar.\n",
    "False Positive (FP): 13 -->  Model salah menebak 14 kasus sebagai \"Diabetes\", padahal sebenarnya kasus tersebut \"Non-Diabetes\". Ini disebut juga Error Tipe I.\n",
    "False Negative (FN): 29 --> Model salah menebak 29 kasus sebagai \"Non-Diabetes\", padahal sebenarnya kasus tersebut \"Diabetes\". Ini disebut juga Error Tipe II."
   ],
   "id": "77ac87c881e6dfe5"
  },
  {
   "cell_type": "markdown",
   "id": "30ba32f5",
   "metadata": {},
   "source": [
    "**Menampilkan confusion matrix pada model K-Nearest-Neighbors setelah dilakukan hyperparameter tuning**"
   ]
  },
  {
   "cell_type": "code",
   "id": "60f3ebfadb3ae125",
   "metadata": {
    "ExecuteTime": {
     "end_time": "2025-06-16T15:58:35.802625Z",
     "start_time": "2025-06-16T15:58:35.696400Z"
    }
   },
   "source": [
    "plot_confusion_matrix(results_after_tuning['KNN']['Confusion Matrix'])"
   ],
   "outputs": [
    {
     "data": {
      "text/plain": [
       "<Figure size 600x500 with 2 Axes>"
      ],
      "image/png": "[encoded data removed]"
     },
     "metadata": {},
     "output_type": "display_data"
    }
   ],
   "execution_count": 49
  },
  {
   "metadata": {},
   "cell_type": "markdown",
   "source": [
    "**Insight:**\n",
    "\n",
    "Pada heatmap di atas adalah hasil confusion matrix pada model KNN setelah dilakukan hyperparameter tuning. Berikut ini adalah ringkasan dari hasil confusion matrix di atas.\n",
    "\n",
    "True Positive (TP): 80  --> Model berhasil menebak 80 kasus sebagai \"Diabetes\" dengan benar.\n",
    "True Negative (TN): 37 --> Model berhasil menebak 37 kasus sebagai \"Non-Diabetes\" dengan benar.\n",
    "False Positive (FP): 17 -->  Model salah menebak 17 kasus sebagai \"Diabetes\", padahal sebenarnya kasus tersebut \"Non-Diabetes\". Ini disebut juga Error Tipe I.\n",
    "False Negative (FN): 27 --> Model salah menebak 27 kasus sebagai \"Non-Diabetes\", padahal sebenarnya kasus tersebut \"Diabetes\". Ini disebut juga Error Tipe II."
   ],
   "id": "eaa92b38cdf36323"
  },
  {
   "cell_type": "markdown",
   "id": "828731f8",
   "metadata": {},
   "source": [
    "**Menampilkan confusion matrix pada model Logistic Regression setelah dilakukan hyperparameter tuning**"
   ]
  },
  {
   "cell_type": "code",
   "id": "bcc53db6247ddbec",
   "metadata": {
    "ExecuteTime": {
     "end_time": "2025-06-16T15:58:35.954327Z",
     "start_time": "2025-06-16T15:58:35.856632Z"
    }
   },
   "source": [
    "plot_confusion_matrix(results_after_tuning['LR']['Confusion Matrix'])"
   ],
   "outputs": [
    {
     "data": {
      "text/plain": [
       "<Figure size 600x500 with 2 Axes>"
      ],
      "image/png": "[encoded data removed]"
     },
     "metadata": {},
     "output_type": "display_data"
    }
   ],
   "execution_count": 50
  },
  {
   "metadata": {},
   "cell_type": "markdown",
   "source": [
    "**Insight:**\n",
    "\n",
    "Pada heatmap di atas adalah hasil confusion matrix pada model Logistic Regression setelah dilakukan hyperparameter tuning. Berikut ini adalah ringkasan dari hasil confusion matrix di atas.\n",
    "\n",
    "True Positive (TP): 75  --> Model berhasil menebak 75 kasus sebagai \"Diabetes\" dengan benar.\n",
    "True Negative (TN): 35 --> Model berhasil menebak 35 kasus sebagai \"Non-Diabetes\" dengan benar.\n",
    "False Positive (FP): 19 -->  Model salah menebak 19 kasus sebagai \"Diabetes\", padahal sebenarnya kasus tersebut \"Non-Diabetes\". Ini disebut juga Error Tipe I.\n",
    "False Negative (FN): 25 --> Model salah menebak 25 kasus sebagai \"Non-Diabetes\", padahal sebenarnya kasus tersebut \"Diabetes\". Ini disebut juga Error Tipe II."
   ],
   "id": "cc05ef440150eea8"
  }
 ],
 "metadata": {
  "kernelspec": {
   "display_name": "diabetes-predictive-analytic",
   "language": "python",
   "name": "python3"
  },
  "language_info": {
   "codemirror_mode": {
    "name": "ipython",
    "version": 3
   },
   "file_extension": ".py",
   "mimetype": "text/x-python",
   "name": "python",
   "nbconvert_exporter": "python",
   "pygments_lexer": "ipython3",
   "version": "3.12.9"
  }
 },
 "nbformat": 4,
 "nbformat_minor": 5
}
