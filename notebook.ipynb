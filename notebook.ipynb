{
 "cells": [
  {
   "metadata": {},
   "cell_type": "markdown",
   "source": "# Laporan Proyek Machine Learning - Refanda Surya Saputra",
   "id": "37fe8b227307a4bf"
  },
  {
   "metadata": {},
   "cell_type": "markdown",
   "source": "## Domain Proyek",
   "id": "280998c7ca2c240a"
  },
  {
   "metadata": {},
   "cell_type": "markdown",
   "source": [
    "Pada bagian ini, kamu perlu menuliskan latar belakang yang relevan dengan proyek yang diangkat.\n",
    "\n",
    "**Rubrik/Kriteria Tambahan (Opsional)**:\n",
    "- Jelaskan mengapa dan bagaimana masalah tersebut harus diselesaikan\n",
    "- Menyertakan hasil riset terkait atau referensi. Referensi yang diberikan harus berasal dari sumber yang kredibel dan author yang jelas.\n",
    "\n",
    "  Format Referensi: [Judul Referensi](https://scholar.google.com/)"
   ],
   "id": "7335e65ffde3441a"
  },
  {
   "metadata": {},
   "cell_type": "code",
   "outputs": [],
   "execution_count": null,
   "source": "",
   "id": "fc4085b311eef786"
  },
  {
   "metadata": {},
   "cell_type": "markdown",
   "source": "## Business Understanding",
   "id": "872255bf69294677"
  },
  {
   "metadata": {},
   "cell_type": "markdown",
   "source": [
    "Pada bagian ini, kamu perlu menjelaskan proses klarifikasi masalah.\n",
    "\n",
    "Bagian laporan ini mencakup:\n",
    "\n",
    "### Problem Statements\n",
    "\n",
    "Menjelaskan pernyataan masalah latar belakang:\n",
    "- Pernyataan Masalah 1\n",
    "- Pernyataan Masalah 2\n",
    "- Pernyataan Masalah n"
   ],
   "id": "25a2d77beebee61a"
  },
  {
   "metadata": {},
   "cell_type": "markdown",
   "source": [
    "### Goals\n",
    "\n",
    "Menjelaskan tujuan dari pernyataan masalah:\n",
    "- Jawaban pernyataan masalah 1\n",
    "- Jawaban pernyataan masalah 2\n",
    "- Jawaban pernyataan masalah n\n",
    "\n",
    "Semua poin di atas harus diuraikan dengan jelas. Anda bebas menuliskan berapa pernyataan masalah dan juga goals yang diinginkan.\n",
    "\n",
    "**Rubrik/Kriteria Tambahan (Opsional)**:\n",
    "- Menambahkan bagian “Solution Statement” yang menguraikan cara untuk meraih goals. Bagian ini dibuat dengan ketentuan sebagai berikut:\n",
    "\n",
    "    ### Solution statements\n",
    "    - Mengajukan 2 atau lebih solution statement. Misalnya, menggunakan dua atau lebih algoritma untuk mencapai solusi yang diinginkan atau melakukan improvement pada baseline model dengan hyperparameter tuning.\n",
    "    - Solusi yang diberikan harus dapat terukur dengan metrik evaluasi.\n"
   ],
   "id": "4a758d22db2fcfcd"
  },
  {
   "metadata": {},
   "cell_type": "code",
   "outputs": [],
   "execution_count": null,
   "source": "",
   "id": "5d45d8289760be9c"
  },
  {
   "metadata": {},
   "cell_type": "markdown",
   "source": [
    "## Data Understanding\n",
    "Paragraf awal bagian ini menjelaskan informasi mengenai data yang Anda gunakan dalam proyek. Sertakan juga sumber atau tautan untuk mengunduh dataset. Contoh: [UCI Machine Learning Repository](https://archive.ics.uci.edu/ml/datasets/Restaurant+%26+consumer+data).\n",
    "\n",
    "Selanjutnya uraikanlah seluruh variabel atau fitur pada data. Sebagai contoh:"
   ],
   "id": "32c609f857afd042"
  },
  {
   "metadata": {},
   "cell_type": "markdown",
   "source": [
    "### Variabel-variabel pada Restaurant UCI dataset adalah sebagai berikut:\n",
    "- accepts : merupakan jenis pembayaran yang diterima pada restoran tertentu.\n",
    "- cuisine : merupakan jenis masakan yang disajikan pada restoran.\n",
    "- dst\n",
    "\n",
    "**Rubrik/Kriteria Tambahan (Opsional)**:\n",
    "- Melakukan beberapa tahapan yang diperlukan untuk memahami data, contohnya teknik visualisasi data atau exploratory data analysis.\n"
   ],
   "id": "45b31cdac3df0224"
  },
  {
   "metadata": {},
   "cell_type": "code",
   "outputs": [],
   "execution_count": null,
   "source": "",
   "id": "74ac4b58b424c00b"
  },
  {
   "metadata": {},
   "cell_type": "markdown",
   "source": [
    "## Data Preparation\n",
    "Pada bagian ini Anda menerapkan dan menyebutkan teknik data preparation yang dilakukan. Teknik yang digunakan pada notebook dan laporan harus berurutan.\n",
    "\n",
    "**Rubrik/Kriteria Tambahan (Opsional)**:\n",
    "- Menjelaskan proses data preparation yang dilakukan\n",
    "- Menjelaskan alasan mengapa diperlukan tahapan data preparation tersebut.\n"
   ],
   "id": "e7365888638c1bf3"
  },
  {
   "metadata": {},
   "cell_type": "code",
   "outputs": [],
   "execution_count": null,
   "source": "",
   "id": "4c1b28baf7e81e32"
  },
  {
   "metadata": {},
   "cell_type": "markdown",
   "source": [
    "## Modeling\n",
    "Tahapan ini membahas mengenai model machine learning yang digunakan untuk menyelesaikan permasalahan. Anda perlu menjelaskan tahapan dan parameter yang digunakan pada proses pemodelan.\n",
    "\n",
    "**Rubrik/Kriteria Tambahan (Opsional)**:\n",
    "- Menjelaskan kelebihan dan kekurangan dari setiap algoritma yang digunakan.\n",
    "- Jika menggunakan satu algoritma pada solution statement, lakukan proses improvement terhadap model dengan hyperparameter tuning. **Jelaskan proses improvement yang dilakukan**.\n",
    "- Jika menggunakan dua atau lebih algoritma pada solution statement, maka pilih model terbaik sebagai solusi. **Jelaskan mengapa memilih model tersebut sebagai model terbaik**.\n"
   ],
   "id": "ec8cd773f0e1066a"
  },
  {
   "metadata": {},
   "cell_type": "code",
   "outputs": [],
   "execution_count": null,
   "source": "",
   "id": "4bcd02cea1569af9"
  },
  {
   "metadata": {},
   "cell_type": "markdown",
   "source": [
    "## Evaluation\n",
    "Pada bagian ini anda perlu menyebutkan metrik evaluasi yang digunakan. Lalu anda perlu menjelaskan hasil proyek berdasarkan metrik evaluasi yang digunakan.\n",
    "\n",
    "Sebagai contoh, Anda memiih kasus klasifikasi dan menggunakan metrik **akurasi, precision, recall, dan F1 score**. Jelaskan mengenai beberapa hal berikut:\n",
    "- Penjelasan mengenai metrik yang digunakan\n",
    "- Menjelaskan hasil proyek berdasarkan metrik evaluasi\n",
    "\n",
    "Ingatlah, metrik evaluasi yang digunakan harus sesuai dengan konteks data, problem statement, dan solusi yang diinginkan.\n",
    "\n",
    "**Rubrik/Kriteria Tambahan (Opsional)**:\n",
    "- Menjelaskan formula metrik dan bagaimana metrik tersebut bekerja.\n",
    "\n",
    "**---Ini adalah bagian akhir laporan---**\n",
    "\n",
    "_Catatan:_\n",
    "- _Anda dapat menambahkan gambar, kode, atau tabel ke dalam laporan jika diperlukan. Temukan caranya pada contoh dokumen markdown di situs editor [Dillinger](https://dillinger.io/), [Github Guides: Mastering markdown](https://guides.github.com/features/mastering-markdown/), atau sumber lain di internet. Semangat!_\n",
    "- Jika terdapat penjelasan yang harus menyertakan code snippet, tuliskan dengan sewajarnya. Tidak perlu menuliskan keseluruhan kode project, cukup bagian yang ingin dijelaskan saja."
   ],
   "id": "7e807551a9ed3195"
  },
  {
   "metadata": {},
   "cell_type": "code",
   "outputs": [],
   "execution_count": null,
   "source": "",
   "id": "a7ba6dc62ada83cc"
  }
 ],
 "metadata": {
  "kernelspec": {
   "display_name": "Python 3",
   "language": "python",
   "name": "python3"
  },
  "language_info": {
   "codemirror_mode": {
    "name": "ipython",
    "version": 2
   },
   "file_extension": ".py",
   "mimetype": "text/x-python",
   "name": "python",
   "nbconvert_exporter": "python",
   "pygments_lexer": "ipython2",
   "version": "2.7.6"
  }
 },
 "nbformat": 4,
 "nbformat_minor": 5
}
